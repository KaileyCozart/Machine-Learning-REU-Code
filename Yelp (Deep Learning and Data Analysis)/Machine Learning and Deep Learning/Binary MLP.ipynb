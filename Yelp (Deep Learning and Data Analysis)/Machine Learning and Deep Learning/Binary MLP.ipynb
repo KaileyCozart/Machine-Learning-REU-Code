{
 "cells": [
  {
   "cell_type": "markdown",
   "metadata": {},
   "source": [
    "# Yelp and Simple MLP"
   ]
  },
  {
   "cell_type": "markdown",
   "metadata": {},
   "source": [
    "### Read in CSV"
   ]
  },
  {
   "cell_type": "code",
   "execution_count": 38,
   "metadata": {},
   "outputs": [],
   "source": [
    "import pandas as pd\n",
    "import numpy as np\n",
    "import keras\n",
    "import tensorflow as tf\n",
    "\n",
    "from keras.models import Sequential\n",
    "from keras.layers.core import Dense, Activation, Dropout\n",
    "from keras.utils import np_utils"
   ]
  },
  {
   "cell_type": "code",
   "execution_count": 39,
   "metadata": {},
   "outputs": [],
   "source": [
    "session_conf = tf.ConfigProto(\n",
    "      intra_op_parallelism_threads=1,\n",
    "      inter_op_parallelism_threads=1)\n",
    "sess = tf.Session(config=session_conf)"
   ]
  },
  {
   "cell_type": "code",
   "execution_count": 40,
   "metadata": {},
   "outputs": [],
   "source": [
    "df = pd.read_csv('HOPEFUL.csv')"
   ]
  },
  {
   "cell_type": "code",
   "execution_count": 41,
   "metadata": {},
   "outputs": [
    {
     "data": {
      "text/html": [
       "<div>\n",
       "<style scoped>\n",
       "    .dataframe tbody tr th:only-of-type {\n",
       "        vertical-align: middle;\n",
       "    }\n",
       "\n",
       "    .dataframe tbody tr th {\n",
       "        vertical-align: top;\n",
       "    }\n",
       "\n",
       "    .dataframe thead th {\n",
       "        text-align: right;\n",
       "    }\n",
       "</style>\n",
       "<table border=\"1\" class=\"dataframe\">\n",
       "  <thead>\n",
       "    <tr style=\"text-align: right;\">\n",
       "      <th></th>\n",
       "      <th>stars</th>\n",
       "      <th>name_of_month</th>\n",
       "      <th>day_of_week</th>\n",
       "      <th>user_average_stars</th>\n",
       "      <th>user_num_reviews</th>\n",
       "      <th>user_num_friends</th>\n",
       "      <th>business_num_reviews</th>\n",
       "      <th>business_average_stars</th>\n",
       "      <th>business_catgrylv2</th>\n",
       "      <th>business_catgrylv1</th>\n",
       "      <th>business_lat</th>\n",
       "      <th>business_long</th>\n",
       "      <th>lv1Cat_Av</th>\n",
       "      <th>lv2Cat_Av</th>\n",
       "      <th>zipCodeBusiness_Av</th>\n",
       "      <th>zipCodeUser_Av</th>\n",
       "      <th>zipCodeUser_WeightedAv</th>\n",
       "      <th>zipCodeUserCount</th>\n",
       "    </tr>\n",
       "  </thead>\n",
       "  <tbody>\n",
       "    <tr>\n",
       "      <th>0</th>\n",
       "      <td>5</td>\n",
       "      <td>May</td>\n",
       "      <td>Saturday</td>\n",
       "      <td>4.67</td>\n",
       "      <td>6</td>\n",
       "      <td>1</td>\n",
       "      <td>1953</td>\n",
       "      <td>4.0</td>\n",
       "      <td>Bars</td>\n",
       "      <td>Breakfast &amp; Brunch</td>\n",
       "      <td>45.516373</td>\n",
       "      <td>-73.577537</td>\n",
       "      <td>3.739232</td>\n",
       "      <td>3.731733</td>\n",
       "      <td>3.980257</td>\n",
       "      <td>3.779459</td>\n",
       "      <td>3.720424</td>\n",
       "      <td>2162</td>\n",
       "    </tr>\n",
       "    <tr>\n",
       "      <th>1</th>\n",
       "      <td>5</td>\n",
       "      <td>May</td>\n",
       "      <td>Saturday</td>\n",
       "      <td>4.67</td>\n",
       "      <td>6</td>\n",
       "      <td>1</td>\n",
       "      <td>84</td>\n",
       "      <td>4.0</td>\n",
       "      <td>Bars</td>\n",
       "      <td>Food</td>\n",
       "      <td>45.523333</td>\n",
       "      <td>-73.594859</td>\n",
       "      <td>3.719693</td>\n",
       "      <td>3.731733</td>\n",
       "      <td>4.031579</td>\n",
       "      <td>3.875368</td>\n",
       "      <td>3.711489</td>\n",
       "      <td>95</td>\n",
       "    </tr>\n",
       "    <tr>\n",
       "      <th>2</th>\n",
       "      <td>5</td>\n",
       "      <td>May</td>\n",
       "      <td>Saturday</td>\n",
       "      <td>4.67</td>\n",
       "      <td>6</td>\n",
       "      <td>1</td>\n",
       "      <td>50</td>\n",
       "      <td>4.5</td>\n",
       "      <td>Bars</td>\n",
       "      <td>Breakfast &amp; Brunch</td>\n",
       "      <td>45.472902</td>\n",
       "      <td>-73.588321</td>\n",
       "      <td>3.739232</td>\n",
       "      <td>3.731733</td>\n",
       "      <td>4.280899</td>\n",
       "      <td>3.843488</td>\n",
       "      <td>3.927304</td>\n",
       "      <td>86</td>\n",
       "    </tr>\n",
       "    <tr>\n",
       "      <th>3</th>\n",
       "      <td>5</td>\n",
       "      <td>May</td>\n",
       "      <td>Saturday</td>\n",
       "      <td>4.67</td>\n",
       "      <td>6</td>\n",
       "      <td>1</td>\n",
       "      <td>70</td>\n",
       "      <td>4.0</td>\n",
       "      <td>Bars</td>\n",
       "      <td>Breakfast &amp; Brunch</td>\n",
       "      <td>45.522144</td>\n",
       "      <td>-73.607076</td>\n",
       "      <td>3.739232</td>\n",
       "      <td>3.731733</td>\n",
       "      <td>3.943038</td>\n",
       "      <td>3.837975</td>\n",
       "      <td>3.851323</td>\n",
       "      <td>79</td>\n",
       "    </tr>\n",
       "    <tr>\n",
       "      <th>4</th>\n",
       "      <td>4</td>\n",
       "      <td>May</td>\n",
       "      <td>Saturday</td>\n",
       "      <td>4.67</td>\n",
       "      <td>6</td>\n",
       "      <td>1</td>\n",
       "      <td>61</td>\n",
       "      <td>3.5</td>\n",
       "      <td>Bars</td>\n",
       "      <td>Breakfast &amp; Brunch</td>\n",
       "      <td>45.502510</td>\n",
       "      <td>-73.570119</td>\n",
       "      <td>3.739232</td>\n",
       "      <td>3.731733</td>\n",
       "      <td>3.119792</td>\n",
       "      <td>3.609978</td>\n",
       "      <td>3.655213</td>\n",
       "      <td>462</td>\n",
       "    </tr>\n",
       "    <tr>\n",
       "      <th>5</th>\n",
       "      <td>4</td>\n",
       "      <td>May</td>\n",
       "      <td>Saturday</td>\n",
       "      <td>4.67</td>\n",
       "      <td>6</td>\n",
       "      <td>1</td>\n",
       "      <td>397</td>\n",
       "      <td>4.5</td>\n",
       "      <td>Bars</td>\n",
       "      <td>Bars</td>\n",
       "      <td>45.503544</td>\n",
       "      <td>-73.554469</td>\n",
       "      <td>3.774976</td>\n",
       "      <td>3.731733</td>\n",
       "      <td>4.289264</td>\n",
       "      <td>3.822211</td>\n",
       "      <td>3.788127</td>\n",
       "      <td>493</td>\n",
       "    </tr>\n",
       "    <tr>\n",
       "      <th>6</th>\n",
       "      <td>5</td>\n",
       "      <td>September</td>\n",
       "      <td>Wednesday</td>\n",
       "      <td>5.00</td>\n",
       "      <td>1</td>\n",
       "      <td>0</td>\n",
       "      <td>38</td>\n",
       "      <td>4.5</td>\n",
       "      <td>Active Life</td>\n",
       "      <td>Food</td>\n",
       "      <td>36.171869</td>\n",
       "      <td>-115.142146</td>\n",
       "      <td>3.719693</td>\n",
       "      <td>3.504678</td>\n",
       "      <td>3.837694</td>\n",
       "      <td>3.798199</td>\n",
       "      <td>3.771875</td>\n",
       "      <td>46843</td>\n",
       "    </tr>\n",
       "    <tr>\n",
       "      <th>7</th>\n",
       "      <td>4</td>\n",
       "      <td>May</td>\n",
       "      <td>Friday</td>\n",
       "      <td>3.62</td>\n",
       "      <td>359</td>\n",
       "      <td>48</td>\n",
       "      <td>111</td>\n",
       "      <td>4.0</td>\n",
       "      <td>Bars</td>\n",
       "      <td>Steakhouses</td>\n",
       "      <td>43.696175</td>\n",
       "      <td>-79.329092</td>\n",
       "      <td>3.802124</td>\n",
       "      <td>3.731733</td>\n",
       "      <td>3.996310</td>\n",
       "      <td>3.620204</td>\n",
       "      <td>3.503142</td>\n",
       "      <td>245</td>\n",
       "    </tr>\n",
       "    <tr>\n",
       "      <th>8</th>\n",
       "      <td>4</td>\n",
       "      <td>October</td>\n",
       "      <td>Tuesday</td>\n",
       "      <td>3.62</td>\n",
       "      <td>359</td>\n",
       "      <td>48</td>\n",
       "      <td>64</td>\n",
       "      <td>4.0</td>\n",
       "      <td>Restaurants</td>\n",
       "      <td>Restaurants</td>\n",
       "      <td>43.678484</td>\n",
       "      <td>-79.358255</td>\n",
       "      <td>3.605285</td>\n",
       "      <td>3.677544</td>\n",
       "      <td>4.164706</td>\n",
       "      <td>3.800964</td>\n",
       "      <td>3.530308</td>\n",
       "      <td>83</td>\n",
       "    </tr>\n",
       "    <tr>\n",
       "      <th>9</th>\n",
       "      <td>3</td>\n",
       "      <td>February</td>\n",
       "      <td>Saturday</td>\n",
       "      <td>3.62</td>\n",
       "      <td>359</td>\n",
       "      <td>48</td>\n",
       "      <td>251</td>\n",
       "      <td>3.5</td>\n",
       "      <td>Restaurants</td>\n",
       "      <td>Restaurants</td>\n",
       "      <td>43.643497</td>\n",
       "      <td>-79.423201</td>\n",
       "      <td>3.605285</td>\n",
       "      <td>3.677544</td>\n",
       "      <td>3.539823</td>\n",
       "      <td>3.668795</td>\n",
       "      <td>3.673870</td>\n",
       "      <td>531</td>\n",
       "    </tr>\n",
       "    <tr>\n",
       "      <th>10</th>\n",
       "      <td>5</td>\n",
       "      <td>April</td>\n",
       "      <td>Wednesday</td>\n",
       "      <td>3.62</td>\n",
       "      <td>359</td>\n",
       "      <td>48</td>\n",
       "      <td>3</td>\n",
       "      <td>5.0</td>\n",
       "      <td>Fashion</td>\n",
       "      <td>Sporting Goods</td>\n",
       "      <td>43.685080</td>\n",
       "      <td>-79.347031</td>\n",
       "      <td>4.073262</td>\n",
       "      <td>3.914498</td>\n",
       "      <td>3.250000</td>\n",
       "      <td>3.127222</td>\n",
       "      <td>3.625345</td>\n",
       "      <td>18</td>\n",
       "    </tr>\n",
       "    <tr>\n",
       "      <th>11</th>\n",
       "      <td>4</td>\n",
       "      <td>May</td>\n",
       "      <td>Wednesday</td>\n",
       "      <td>3.62</td>\n",
       "      <td>359</td>\n",
       "      <td>48</td>\n",
       "      <td>35</td>\n",
       "      <td>3.5</td>\n",
       "      <td>Restaurants</td>\n",
       "      <td>Food</td>\n",
       "      <td>43.801872</td>\n",
       "      <td>-79.295567</td>\n",
       "      <td>3.719693</td>\n",
       "      <td>3.677544</td>\n",
       "      <td>3.142857</td>\n",
       "      <td>3.370175</td>\n",
       "      <td>3.377442</td>\n",
       "      <td>57</td>\n",
       "    </tr>\n",
       "    <tr>\n",
       "      <th>12</th>\n",
       "      <td>3</td>\n",
       "      <td>September</td>\n",
       "      <td>Wednesday</td>\n",
       "      <td>3.62</td>\n",
       "      <td>359</td>\n",
       "      <td>48</td>\n",
       "      <td>76</td>\n",
       "      <td>3.5</td>\n",
       "      <td>Bars</td>\n",
       "      <td>Restaurants</td>\n",
       "      <td>43.680359</td>\n",
       "      <td>-79.391225</td>\n",
       "      <td>3.605285</td>\n",
       "      <td>3.731733</td>\n",
       "      <td>3.431034</td>\n",
       "      <td>3.550982</td>\n",
       "      <td>3.536745</td>\n",
       "      <td>112</td>\n",
       "    </tr>\n",
       "    <tr>\n",
       "      <th>13</th>\n",
       "      <td>1</td>\n",
       "      <td>February</td>\n",
       "      <td>Wednesday</td>\n",
       "      <td>3.62</td>\n",
       "      <td>359</td>\n",
       "      <td>48</td>\n",
       "      <td>4</td>\n",
       "      <td>3.0</td>\n",
       "      <td>Restaurants</td>\n",
       "      <td>Restaurants</td>\n",
       "      <td>43.654699</td>\n",
       "      <td>-79.364557</td>\n",
       "      <td>3.605285</td>\n",
       "      <td>3.677544</td>\n",
       "      <td>3.000000</td>\n",
       "      <td>3.250000</td>\n",
       "      <td>3.602065</td>\n",
       "      <td>4</td>\n",
       "    </tr>\n",
       "    <tr>\n",
       "      <th>14</th>\n",
       "      <td>3</td>\n",
       "      <td>December</td>\n",
       "      <td>Monday</td>\n",
       "      <td>3.62</td>\n",
       "      <td>359</td>\n",
       "      <td>48</td>\n",
       "      <td>1184</td>\n",
       "      <td>4.0</td>\n",
       "      <td>Bars</td>\n",
       "      <td>Sandwiches</td>\n",
       "      <td>43.660524</td>\n",
       "      <td>-79.378927</td>\n",
       "      <td>3.683764</td>\n",
       "      <td>3.731733</td>\n",
       "      <td>3.987313</td>\n",
       "      <td>3.688309</td>\n",
       "      <td>3.655544</td>\n",
       "      <td>1319</td>\n",
       "    </tr>\n",
       "  </tbody>\n",
       "</table>\n",
       "</div>"
      ],
      "text/plain": [
       "    stars name_of_month day_of_week  user_average_stars  user_num_reviews  \\\n",
       "0       5           May    Saturday                4.67                 6   \n",
       "1       5           May    Saturday                4.67                 6   \n",
       "2       5           May    Saturday                4.67                 6   \n",
       "3       5           May    Saturday                4.67                 6   \n",
       "4       4           May    Saturday                4.67                 6   \n",
       "5       4           May    Saturday                4.67                 6   \n",
       "6       5     September   Wednesday                5.00                 1   \n",
       "7       4           May      Friday                3.62               359   \n",
       "8       4       October     Tuesday                3.62               359   \n",
       "9       3      February    Saturday                3.62               359   \n",
       "10      5         April   Wednesday                3.62               359   \n",
       "11      4           May   Wednesday                3.62               359   \n",
       "12      3     September   Wednesday                3.62               359   \n",
       "13      1      February   Wednesday                3.62               359   \n",
       "14      3      December      Monday                3.62               359   \n",
       "\n",
       "    user_num_friends  business_num_reviews  business_average_stars  \\\n",
       "0                  1                  1953                     4.0   \n",
       "1                  1                    84                     4.0   \n",
       "2                  1                    50                     4.5   \n",
       "3                  1                    70                     4.0   \n",
       "4                  1                    61                     3.5   \n",
       "5                  1                   397                     4.5   \n",
       "6                  0                    38                     4.5   \n",
       "7                 48                   111                     4.0   \n",
       "8                 48                    64                     4.0   \n",
       "9                 48                   251                     3.5   \n",
       "10                48                     3                     5.0   \n",
       "11                48                    35                     3.5   \n",
       "12                48                    76                     3.5   \n",
       "13                48                     4                     3.0   \n",
       "14                48                  1184                     4.0   \n",
       "\n",
       "   business_catgrylv2  business_catgrylv1  business_lat  business_long  \\\n",
       "0                Bars  Breakfast & Brunch     45.516373     -73.577537   \n",
       "1                Bars                Food     45.523333     -73.594859   \n",
       "2                Bars  Breakfast & Brunch     45.472902     -73.588321   \n",
       "3                Bars  Breakfast & Brunch     45.522144     -73.607076   \n",
       "4                Bars  Breakfast & Brunch     45.502510     -73.570119   \n",
       "5                Bars                Bars     45.503544     -73.554469   \n",
       "6         Active Life                Food     36.171869    -115.142146   \n",
       "7                Bars         Steakhouses     43.696175     -79.329092   \n",
       "8         Restaurants         Restaurants     43.678484     -79.358255   \n",
       "9         Restaurants         Restaurants     43.643497     -79.423201   \n",
       "10            Fashion      Sporting Goods     43.685080     -79.347031   \n",
       "11        Restaurants                Food     43.801872     -79.295567   \n",
       "12               Bars         Restaurants     43.680359     -79.391225   \n",
       "13        Restaurants         Restaurants     43.654699     -79.364557   \n",
       "14               Bars          Sandwiches     43.660524     -79.378927   \n",
       "\n",
       "    lv1Cat_Av  lv2Cat_Av  zipCodeBusiness_Av  zipCodeUser_Av  \\\n",
       "0    3.739232   3.731733            3.980257        3.779459   \n",
       "1    3.719693   3.731733            4.031579        3.875368   \n",
       "2    3.739232   3.731733            4.280899        3.843488   \n",
       "3    3.739232   3.731733            3.943038        3.837975   \n",
       "4    3.739232   3.731733            3.119792        3.609978   \n",
       "5    3.774976   3.731733            4.289264        3.822211   \n",
       "6    3.719693   3.504678            3.837694        3.798199   \n",
       "7    3.802124   3.731733            3.996310        3.620204   \n",
       "8    3.605285   3.677544            4.164706        3.800964   \n",
       "9    3.605285   3.677544            3.539823        3.668795   \n",
       "10   4.073262   3.914498            3.250000        3.127222   \n",
       "11   3.719693   3.677544            3.142857        3.370175   \n",
       "12   3.605285   3.731733            3.431034        3.550982   \n",
       "13   3.605285   3.677544            3.000000        3.250000   \n",
       "14   3.683764   3.731733            3.987313        3.688309   \n",
       "\n",
       "    zipCodeUser_WeightedAv  zipCodeUserCount  \n",
       "0                 3.720424              2162  \n",
       "1                 3.711489                95  \n",
       "2                 3.927304                86  \n",
       "3                 3.851323                79  \n",
       "4                 3.655213               462  \n",
       "5                 3.788127               493  \n",
       "6                 3.771875             46843  \n",
       "7                 3.503142               245  \n",
       "8                 3.530308                83  \n",
       "9                 3.673870               531  \n",
       "10                3.625345                18  \n",
       "11                3.377442                57  \n",
       "12                3.536745               112  \n",
       "13                3.602065                 4  \n",
       "14                3.655544              1319  "
      ]
     },
     "execution_count": 41,
     "metadata": {},
     "output_type": "execute_result"
    }
   ],
   "source": [
    "df = df.drop(df.columns[df.columns.str.contains('unnamed', case = False)],axis = 1)\n",
    "df = df.drop(['business_id', 'date', 'user_id', 'user_cool', 'user_funny', 'user_userful', 'business_city', 'business_zip'], axis=1)\n",
    "df.head(15)"
   ]
  },
  {
   "cell_type": "code",
   "execution_count": 42,
   "metadata": {},
   "outputs": [
    {
     "data": {
      "text/html": [
       "<div>\n",
       "<style scoped>\n",
       "    .dataframe tbody tr th:only-of-type {\n",
       "        vertical-align: middle;\n",
       "    }\n",
       "\n",
       "    .dataframe tbody tr th {\n",
       "        vertical-align: top;\n",
       "    }\n",
       "\n",
       "    .dataframe thead th {\n",
       "        text-align: right;\n",
       "    }\n",
       "</style>\n",
       "<table border=\"1\" class=\"dataframe\">\n",
       "  <thead>\n",
       "    <tr style=\"text-align: right;\">\n",
       "      <th></th>\n",
       "      <th>stars</th>\n",
       "      <th>name_of_month</th>\n",
       "      <th>day_of_week</th>\n",
       "      <th>user_average_stars</th>\n",
       "      <th>user_num_reviews</th>\n",
       "      <th>user_num_friends</th>\n",
       "      <th>business_num_reviews</th>\n",
       "      <th>business_average_stars</th>\n",
       "      <th>business_catgrylv2</th>\n",
       "      <th>business_catgrylv1</th>\n",
       "      <th>business_lat</th>\n",
       "      <th>business_long</th>\n",
       "      <th>lv1Cat_Av</th>\n",
       "      <th>lv2Cat_Av</th>\n",
       "      <th>zipCodeBusiness_Av</th>\n",
       "      <th>zipCodeUser_Av</th>\n",
       "      <th>zipCodeUser_WeightedAv</th>\n",
       "      <th>zipCodeUserCount</th>\n",
       "    </tr>\n",
       "  </thead>\n",
       "  <tbody>\n",
       "    <tr>\n",
       "      <th>0</th>\n",
       "      <td>1</td>\n",
       "      <td>May</td>\n",
       "      <td>Saturday</td>\n",
       "      <td>4.67</td>\n",
       "      <td>6</td>\n",
       "      <td>1</td>\n",
       "      <td>1953</td>\n",
       "      <td>4.0</td>\n",
       "      <td>Bars</td>\n",
       "      <td>Breakfast &amp; Brunch</td>\n",
       "      <td>45.516373</td>\n",
       "      <td>-73.577537</td>\n",
       "      <td>3.739232</td>\n",
       "      <td>3.731733</td>\n",
       "      <td>3.980257</td>\n",
       "      <td>3.779459</td>\n",
       "      <td>3.720424</td>\n",
       "      <td>2162</td>\n",
       "    </tr>\n",
       "    <tr>\n",
       "      <th>1</th>\n",
       "      <td>1</td>\n",
       "      <td>May</td>\n",
       "      <td>Saturday</td>\n",
       "      <td>4.67</td>\n",
       "      <td>6</td>\n",
       "      <td>1</td>\n",
       "      <td>84</td>\n",
       "      <td>4.0</td>\n",
       "      <td>Bars</td>\n",
       "      <td>Food</td>\n",
       "      <td>45.523333</td>\n",
       "      <td>-73.594859</td>\n",
       "      <td>3.719693</td>\n",
       "      <td>3.731733</td>\n",
       "      <td>4.031579</td>\n",
       "      <td>3.875368</td>\n",
       "      <td>3.711489</td>\n",
       "      <td>95</td>\n",
       "    </tr>\n",
       "    <tr>\n",
       "      <th>2</th>\n",
       "      <td>1</td>\n",
       "      <td>May</td>\n",
       "      <td>Saturday</td>\n",
       "      <td>4.67</td>\n",
       "      <td>6</td>\n",
       "      <td>1</td>\n",
       "      <td>50</td>\n",
       "      <td>4.5</td>\n",
       "      <td>Bars</td>\n",
       "      <td>Breakfast &amp; Brunch</td>\n",
       "      <td>45.472902</td>\n",
       "      <td>-73.588321</td>\n",
       "      <td>3.739232</td>\n",
       "      <td>3.731733</td>\n",
       "      <td>4.280899</td>\n",
       "      <td>3.843488</td>\n",
       "      <td>3.927304</td>\n",
       "      <td>86</td>\n",
       "    </tr>\n",
       "  </tbody>\n",
       "</table>\n",
       "</div>"
      ],
      "text/plain": [
       "   stars name_of_month day_of_week  user_average_stars  user_num_reviews  \\\n",
       "0      1           May    Saturday                4.67                 6   \n",
       "1      1           May    Saturday                4.67                 6   \n",
       "2      1           May    Saturday                4.67                 6   \n",
       "\n",
       "   user_num_friends  business_num_reviews  business_average_stars  \\\n",
       "0                 1                  1953                     4.0   \n",
       "1                 1                    84                     4.0   \n",
       "2                 1                    50                     4.5   \n",
       "\n",
       "  business_catgrylv2  business_catgrylv1  business_lat  business_long  \\\n",
       "0               Bars  Breakfast & Brunch     45.516373     -73.577537   \n",
       "1               Bars                Food     45.523333     -73.594859   \n",
       "2               Bars  Breakfast & Brunch     45.472902     -73.588321   \n",
       "\n",
       "   lv1Cat_Av  lv2Cat_Av  zipCodeBusiness_Av  zipCodeUser_Av  \\\n",
       "0   3.739232   3.731733            3.980257        3.779459   \n",
       "1   3.719693   3.731733            4.031579        3.875368   \n",
       "2   3.739232   3.731733            4.280899        3.843488   \n",
       "\n",
       "   zipCodeUser_WeightedAv  zipCodeUserCount  \n",
       "0                3.720424              2162  \n",
       "1                3.711489                95  \n",
       "2                3.927304                86  "
      ]
     },
     "execution_count": 42,
     "metadata": {},
     "output_type": "execute_result"
    }
   ],
   "source": [
    "def myFunc(starValue):\n",
    "    if starValue == 5:\n",
    "        newStarValue = 1\n",
    "    elif starValue == 4:\n",
    "        newStarValue = 1\n",
    "    elif starValue == 3:\n",
    "        newStarValue = 0\n",
    "    elif starValue == 2:\n",
    "        newStarValue = 0\n",
    "    elif starValue == 1:\n",
    "        newStarValue = 0\n",
    "    return newStarValue\n",
    "\n",
    "df['stars'] = df['stars'].apply(myFunc)\n",
    "df.head(3)"
   ]
  },
  {
   "cell_type": "code",
   "execution_count": 43,
   "metadata": {},
   "outputs": [
    {
     "data": {
      "text/html": [
       "<div>\n",
       "<style scoped>\n",
       "    .dataframe tbody tr th:only-of-type {\n",
       "        vertical-align: middle;\n",
       "    }\n",
       "\n",
       "    .dataframe tbody tr th {\n",
       "        vertical-align: top;\n",
       "    }\n",
       "\n",
       "    .dataframe thead th {\n",
       "        text-align: right;\n",
       "    }\n",
       "</style>\n",
       "<table border=\"1\" class=\"dataframe\">\n",
       "  <thead>\n",
       "    <tr style=\"text-align: right;\">\n",
       "      <th></th>\n",
       "      <th>stars</th>\n",
       "      <th>name_of_month</th>\n",
       "      <th>day_of_week</th>\n",
       "      <th>user_average_stars</th>\n",
       "      <th>user_num_reviews</th>\n",
       "      <th>user_num_friends</th>\n",
       "      <th>business_num_reviews</th>\n",
       "      <th>business_average_stars</th>\n",
       "      <th>business_catgrylv2</th>\n",
       "      <th>business_catgrylv1</th>\n",
       "      <th>business_lat</th>\n",
       "      <th>business_long</th>\n",
       "      <th>lv1Cat_Av</th>\n",
       "      <th>lv2Cat_Av</th>\n",
       "      <th>zipCodeBusiness_Av</th>\n",
       "      <th>zipCodeUser_Av</th>\n",
       "      <th>zipCodeUser_WeightedAv</th>\n",
       "      <th>zipCodeUserCount</th>\n",
       "    </tr>\n",
       "  </thead>\n",
       "  <tbody>\n",
       "    <tr>\n",
       "      <th>0</th>\n",
       "      <td>1</td>\n",
       "      <td>8</td>\n",
       "      <td>2</td>\n",
       "      <td>4.67</td>\n",
       "      <td>6</td>\n",
       "      <td>1</td>\n",
       "      <td>1953</td>\n",
       "      <td>4.0</td>\n",
       "      <td>1</td>\n",
       "      <td>9</td>\n",
       "      <td>45.516373</td>\n",
       "      <td>-73.577537</td>\n",
       "      <td>3.739232</td>\n",
       "      <td>3.731733</td>\n",
       "      <td>3.980257</td>\n",
       "      <td>3.779459</td>\n",
       "      <td>3.720424</td>\n",
       "      <td>2162</td>\n",
       "    </tr>\n",
       "    <tr>\n",
       "      <th>1</th>\n",
       "      <td>1</td>\n",
       "      <td>8</td>\n",
       "      <td>2</td>\n",
       "      <td>4.67</td>\n",
       "      <td>6</td>\n",
       "      <td>1</td>\n",
       "      <td>84</td>\n",
       "      <td>4.0</td>\n",
       "      <td>1</td>\n",
       "      <td>22</td>\n",
       "      <td>45.523333</td>\n",
       "      <td>-73.594859</td>\n",
       "      <td>3.719693</td>\n",
       "      <td>3.731733</td>\n",
       "      <td>4.031579</td>\n",
       "      <td>3.875368</td>\n",
       "      <td>3.711489</td>\n",
       "      <td>95</td>\n",
       "    </tr>\n",
       "    <tr>\n",
       "      <th>2</th>\n",
       "      <td>1</td>\n",
       "      <td>8</td>\n",
       "      <td>2</td>\n",
       "      <td>4.67</td>\n",
       "      <td>6</td>\n",
       "      <td>1</td>\n",
       "      <td>50</td>\n",
       "      <td>4.5</td>\n",
       "      <td>1</td>\n",
       "      <td>9</td>\n",
       "      <td>45.472902</td>\n",
       "      <td>-73.588321</td>\n",
       "      <td>3.739232</td>\n",
       "      <td>3.731733</td>\n",
       "      <td>4.280899</td>\n",
       "      <td>3.843488</td>\n",
       "      <td>3.927304</td>\n",
       "      <td>86</td>\n",
       "    </tr>\n",
       "  </tbody>\n",
       "</table>\n",
       "</div>"
      ],
      "text/plain": [
       "   stars  name_of_month  day_of_week  user_average_stars  user_num_reviews  \\\n",
       "0      1              8            2                4.67                 6   \n",
       "1      1              8            2                4.67                 6   \n",
       "2      1              8            2                4.67                 6   \n",
       "\n",
       "   user_num_friends  business_num_reviews  business_average_stars  \\\n",
       "0                 1                  1953                     4.0   \n",
       "1                 1                    84                     4.0   \n",
       "2                 1                    50                     4.5   \n",
       "\n",
       "   business_catgrylv2  business_catgrylv1  business_lat  business_long  \\\n",
       "0                   1                   9     45.516373     -73.577537   \n",
       "1                   1                  22     45.523333     -73.594859   \n",
       "2                   1                   9     45.472902     -73.588321   \n",
       "\n",
       "   lv1Cat_Av  lv2Cat_Av  zipCodeBusiness_Av  zipCodeUser_Av  \\\n",
       "0   3.739232   3.731733            3.980257        3.779459   \n",
       "1   3.719693   3.731733            4.031579        3.875368   \n",
       "2   3.739232   3.731733            4.280899        3.843488   \n",
       "\n",
       "   zipCodeUser_WeightedAv  zipCodeUserCount  \n",
       "0                3.720424              2162  \n",
       "1                3.711489                95  \n",
       "2                3.927304                86  "
      ]
     },
     "execution_count": 43,
     "metadata": {},
     "output_type": "execute_result"
    }
   ],
   "source": [
    "# Label Encode Categorical Data\n",
    "# name_of_month\n",
    "df['name_of_month'] = df['name_of_month'].astype('category')\n",
    "df['name_of_month'] = df['name_of_month'].cat.codes\n",
    "\n",
    "# day_of_week\n",
    "df['day_of_week'] = df['day_of_week'].astype('category')\n",
    "df['day_of_week'] = df['day_of_week'].cat.codes\n",
    "\n",
    "# business_catgrylv2\n",
    "df['business_catgrylv2'] = df['business_catgrylv2'].astype('category')\n",
    "df['business_catgrylv2'] = df['business_catgrylv2'].cat.codes\n",
    "\n",
    "# business_catgrylv1\n",
    "df['business_catgrylv1'] = df['business_catgrylv1'].astype('category')\n",
    "df['business_catgrylv1'] = df['business_catgrylv1'].cat.codes\n",
    "\n",
    "# Check Categorization\n",
    "df.head(3)"
   ]
  },
  {
   "cell_type": "code",
   "execution_count": 44,
   "metadata": {},
   "outputs": [
    {
     "data": {
      "text/html": [
       "<div>\n",
       "<style scoped>\n",
       "    .dataframe tbody tr th:only-of-type {\n",
       "        vertical-align: middle;\n",
       "    }\n",
       "\n",
       "    .dataframe tbody tr th {\n",
       "        vertical-align: top;\n",
       "    }\n",
       "\n",
       "    .dataframe thead th {\n",
       "        text-align: right;\n",
       "    }\n",
       "</style>\n",
       "<table border=\"1\" class=\"dataframe\">\n",
       "  <thead>\n",
       "    <tr style=\"text-align: right;\">\n",
       "      <th></th>\n",
       "      <th>stars</th>\n",
       "      <th>name_of_month</th>\n",
       "      <th>day_of_week</th>\n",
       "      <th>user_average_stars</th>\n",
       "      <th>user_num_reviews</th>\n",
       "      <th>user_num_friends</th>\n",
       "      <th>business_num_reviews</th>\n",
       "      <th>business_average_stars</th>\n",
       "      <th>business_catgrylv2</th>\n",
       "      <th>business_catgrylv1</th>\n",
       "      <th>business_lat</th>\n",
       "      <th>business_long</th>\n",
       "      <th>lv1Cat_Av</th>\n",
       "      <th>lv2Cat_Av</th>\n",
       "      <th>zipCodeBusiness_Av</th>\n",
       "      <th>zipCodeUser_Av</th>\n",
       "      <th>zipCodeUser_WeightedAv</th>\n",
       "      <th>zipCodeUserCount</th>\n",
       "    </tr>\n",
       "  </thead>\n",
       "  <tbody>\n",
       "    <tr>\n",
       "      <th>0</th>\n",
       "      <td>0.339019</td>\n",
       "      <td>0.223576</td>\n",
       "      <td>-0.166741</td>\n",
       "      <td>0.233088</td>\n",
       "      <td>-0.009673</td>\n",
       "      <td>-0.007536</td>\n",
       "      <td>0.217769</td>\n",
       "      <td>0.067103</td>\n",
       "      <td>-0.261601</td>\n",
       "      <td>-0.301905</td>\n",
       "      <td>0.065042</td>\n",
       "      <td>0.105853</td>\n",
       "      <td>0.004180</td>\n",
       "      <td>0.000537</td>\n",
       "      <td>0.062301</td>\n",
       "      <td>0.011980</td>\n",
       "      <td>-0.006591</td>\n",
       "      <td>-0.152566</td>\n",
       "    </tr>\n",
       "    <tr>\n",
       "      <th>1</th>\n",
       "      <td>0.339019</td>\n",
       "      <td>0.223576</td>\n",
       "      <td>-0.166741</td>\n",
       "      <td>0.233088</td>\n",
       "      <td>-0.009673</td>\n",
       "      <td>-0.007536</td>\n",
       "      <td>-0.036240</td>\n",
       "      <td>0.067103</td>\n",
       "      <td>-0.261601</td>\n",
       "      <td>-0.051905</td>\n",
       "      <td>0.065097</td>\n",
       "      <td>0.105786</td>\n",
       "      <td>-0.006062</td>\n",
       "      <td>0.000537</td>\n",
       "      <td>0.075132</td>\n",
       "      <td>0.035957</td>\n",
       "      <td>-0.008825</td>\n",
       "      <td>-0.161757</td>\n",
       "    </tr>\n",
       "    <tr>\n",
       "      <th>2</th>\n",
       "      <td>0.339019</td>\n",
       "      <td>0.223576</td>\n",
       "      <td>-0.166741</td>\n",
       "      <td>0.233088</td>\n",
       "      <td>-0.009673</td>\n",
       "      <td>-0.007536</td>\n",
       "      <td>-0.040861</td>\n",
       "      <td>0.192103</td>\n",
       "      <td>-0.261601</td>\n",
       "      <td>-0.301905</td>\n",
       "      <td>0.064697</td>\n",
       "      <td>0.105812</td>\n",
       "      <td>0.004180</td>\n",
       "      <td>0.000537</td>\n",
       "      <td>0.137462</td>\n",
       "      <td>0.027987</td>\n",
       "      <td>0.045128</td>\n",
       "      <td>-0.161797</td>\n",
       "    </tr>\n",
       "  </tbody>\n",
       "</table>\n",
       "</div>"
      ],
      "text/plain": [
       "      stars  name_of_month  day_of_week  user_average_stars  user_num_reviews  \\\n",
       "0  0.339019       0.223576    -0.166741            0.233088         -0.009673   \n",
       "1  0.339019       0.223576    -0.166741            0.233088         -0.009673   \n",
       "2  0.339019       0.223576    -0.166741            0.233088         -0.009673   \n",
       "\n",
       "   user_num_friends  business_num_reviews  business_average_stars  \\\n",
       "0         -0.007536              0.217769                0.067103   \n",
       "1         -0.007536             -0.036240                0.067103   \n",
       "2         -0.007536             -0.040861                0.192103   \n",
       "\n",
       "   business_catgrylv2  business_catgrylv1  business_lat  business_long  \\\n",
       "0           -0.261601           -0.301905      0.065042       0.105853   \n",
       "1           -0.261601           -0.051905      0.065097       0.105786   \n",
       "2           -0.261601           -0.301905      0.064697       0.105812   \n",
       "\n",
       "   lv1Cat_Av  lv2Cat_Av  zipCodeBusiness_Av  zipCodeUser_Av  \\\n",
       "0   0.004180   0.000537            0.062301        0.011980   \n",
       "1  -0.006062   0.000537            0.075132        0.035957   \n",
       "2   0.004180   0.000537            0.137462        0.027987   \n",
       "\n",
       "   zipCodeUser_WeightedAv  zipCodeUserCount  \n",
       "0               -0.006591         -0.152566  \n",
       "1               -0.008825         -0.161757  \n",
       "2                0.045128         -0.161797  "
      ]
     },
     "execution_count": 44,
     "metadata": {},
     "output_type": "execute_result"
    }
   ],
   "source": [
    "# Normalize\n",
    "df = (df - df.mean()) / (df.max() - df.min())\n",
    "df.head(3)"
   ]
  },
  {
   "cell_type": "markdown",
   "metadata": {},
   "source": [
    "### Split into Train and Test Data"
   ]
  },
  {
   "cell_type": "code",
   "execution_count": 45,
   "metadata": {},
   "outputs": [],
   "source": [
    "from sklearn.model_selection import train_test_split"
   ]
  },
  {
   "cell_type": "code",
   "execution_count": 46,
   "metadata": {},
   "outputs": [],
   "source": [
    "y = df.pop('stars')\n",
    "X = df"
   ]
  },
  {
   "cell_type": "code",
   "execution_count": 47,
   "metadata": {},
   "outputs": [],
   "source": [
    "X_train, X_test, y_train, y_test = train_test_split(X.index,y,test_size=0.20)"
   ]
  },
  {
   "cell_type": "code",
   "execution_count": 48,
   "metadata": {},
   "outputs": [
    {
     "name": "stdout",
     "output_type": "stream",
     "text": [
      "(4202787,)\n",
      "(1050697,)\n"
     ]
    }
   ],
   "source": [
    "print(X_train.shape)\n",
    "print(X_test.shape)"
   ]
  },
  {
   "cell_type": "code",
   "execution_count": 49,
   "metadata": {},
   "outputs": [
    {
     "name": "stdout",
     "output_type": "stream",
     "text": [
      "(4202787,)\n",
      "(1050697,)\n"
     ]
    }
   ],
   "source": [
    "print(y_train.shape)\n",
    "print(y_test.shape)"
   ]
  },
  {
   "cell_type": "code",
   "execution_count": 50,
   "metadata": {},
   "outputs": [
    {
     "name": "stdout",
     "output_type": "stream",
     "text": [
      "[[1. 0.]\n",
      " [1. 0.]]\n"
     ]
    }
   ],
   "source": [
    "# We need to get y sets to one-hot-encoded values\n",
    "def create_one_hot_encoded_array(array):\n",
    "    uniques, ids = np.unique(array, return_inverse=True)\n",
    "    return np_utils.to_categorical(ids, len(uniques))\n",
    "\n",
    "y_train = create_one_hot_encoded_array(y_train)\n",
    "y_test = create_one_hot_encoded_array(y_test)\n",
    "\n",
    "print(y_train[:2])"
   ]
  },
  {
   "cell_type": "code",
   "execution_count": 51,
   "metadata": {},
   "outputs": [
    {
     "name": "stdout",
     "output_type": "stream",
     "text": [
      "Int64Index([1762167, 3207133], dtype='int64')\n"
     ]
    }
   ],
   "source": [
    "print(X_train[:2])"
   ]
  },
  {
   "cell_type": "code",
   "execution_count": 52,
   "metadata": {},
   "outputs": [],
   "source": [
    "X_train = X.iloc[X_train]"
   ]
  },
  {
   "cell_type": "code",
   "execution_count": 53,
   "metadata": {},
   "outputs": [
    {
     "name": "stdout",
     "output_type": "stream",
     "text": [
      "         name_of_month  day_of_week  user_average_stars  user_num_reviews  \\\n",
      "1762167      -0.321879     0.499926            0.035588          0.004297   \n",
      "3207133      -0.140060    -0.500074           -0.256912         -0.006829   \n",
      "\n",
      "         user_num_friends  business_num_reviews  business_average_stars  \\\n",
      "1762167         -0.007603              0.218856               -0.182897   \n",
      "3207133         -0.007603             -0.045754               -0.182897   \n",
      "\n",
      "         business_catgrylv2  business_catgrylv1  business_lat  business_long  \\\n",
      "1762167           -0.261601            0.371172     -0.009584      -0.055667   \n",
      "3207133           -0.261601            0.159633     -0.017055       0.077501   \n",
      "\n",
      "         lv1Cat_Av  lv2Cat_Av  zipCodeBusiness_Av  zipCodeUser_Av  \\\n",
      "1762167  -0.024896   0.000537           -0.028613       -0.013003   \n",
      "3207133  -0.000871   0.000537           -0.019620       -0.016373   \n",
      "\n",
      "         zipCodeUser_WeightedAv  zipCodeUserCount  \n",
      "1762167                0.001422          0.837830  \n",
      "3207133                0.002798         -0.128062  \n"
     ]
    }
   ],
   "source": [
    "print(X_train[:2])"
   ]
  },
  {
   "cell_type": "code",
   "execution_count": 54,
   "metadata": {},
   "outputs": [
    {
     "name": "stdout",
     "output_type": "stream",
     "text": [
      "<class 'pandas.core.frame.DataFrame'>\n"
     ]
    }
   ],
   "source": [
    "print(type(X_train))"
   ]
  },
  {
   "cell_type": "code",
   "execution_count": 55,
   "metadata": {},
   "outputs": [
    {
     "name": "stdout",
     "output_type": "stream",
     "text": [
      "(4202787, 17)\n"
     ]
    }
   ],
   "source": [
    "print(X_train.shape)"
   ]
  },
  {
   "cell_type": "code",
   "execution_count": 56,
   "metadata": {},
   "outputs": [
    {
     "name": "stdout",
     "output_type": "stream",
     "text": [
      "(4202787, 2)\n"
     ]
    }
   ],
   "source": [
    "print(y_train.shape)"
   ]
  },
  {
   "cell_type": "code",
   "execution_count": 57,
   "metadata": {},
   "outputs": [],
   "source": [
    "X_test = X.iloc[X_test]"
   ]
  },
  {
   "cell_type": "code",
   "execution_count": 58,
   "metadata": {},
   "outputs": [
    {
     "name": "stdout",
     "output_type": "stream",
     "text": [
      "(1050697, 17)\n"
     ]
    }
   ],
   "source": [
    "print(X_test.shape)"
   ]
  },
  {
   "cell_type": "code",
   "execution_count": 59,
   "metadata": {},
   "outputs": [
    {
     "name": "stdout",
     "output_type": "stream",
     "text": [
      "(1050697, 2)\n"
     ]
    }
   ],
   "source": [
    "print(y_test.shape)"
   ]
  },
  {
   "cell_type": "markdown",
   "metadata": {},
   "source": [
    "### Define Network"
   ]
  },
  {
   "cell_type": "code",
   "execution_count": 60,
   "metadata": {},
   "outputs": [],
   "source": [
    "model = Sequential()"
   ]
  },
  {
   "cell_type": "code",
   "execution_count": 61,
   "metadata": {},
   "outputs": [],
   "source": [
    "model.add(Dense(100, input_shape=(17,)))"
   ]
  },
  {
   "cell_type": "code",
   "execution_count": 62,
   "metadata": {},
   "outputs": [],
   "source": [
    "model.add(Activation('relu'))"
   ]
  },
  {
   "cell_type": "code",
   "execution_count": 63,
   "metadata": {},
   "outputs": [],
   "source": [
    "model.add(Dropout(0.05))"
   ]
  },
  {
   "cell_type": "code",
   "execution_count": 64,
   "metadata": {},
   "outputs": [],
   "source": [
    "model.add(Dense(100))"
   ]
  },
  {
   "cell_type": "code",
   "execution_count": 65,
   "metadata": {},
   "outputs": [],
   "source": [
    "model.add(Activation('relu'))"
   ]
  },
  {
   "cell_type": "code",
   "execution_count": 66,
   "metadata": {},
   "outputs": [],
   "source": [
    "model.add(Dropout(0.05))"
   ]
  },
  {
   "cell_type": "code",
   "execution_count": 67,
   "metadata": {},
   "outputs": [],
   "source": [
    "model.add(Dense(50))"
   ]
  },
  {
   "cell_type": "code",
   "execution_count": 68,
   "metadata": {},
   "outputs": [],
   "source": [
    "model.add(Activation('relu'))"
   ]
  },
  {
   "cell_type": "code",
   "execution_count": 69,
   "metadata": {},
   "outputs": [],
   "source": [
    "model.add(Dropout(0.05))"
   ]
  },
  {
   "cell_type": "code",
   "execution_count": 70,
   "metadata": {},
   "outputs": [],
   "source": [
    "model.add(Dense(2))"
   ]
  },
  {
   "cell_type": "code",
   "execution_count": 71,
   "metadata": {},
   "outputs": [],
   "source": [
    "model.add(Activation('softmax'))"
   ]
  },
  {
   "cell_type": "markdown",
   "metadata": {},
   "source": [
    "### Compile Network"
   ]
  },
  {
   "cell_type": "code",
   "execution_count": 72,
   "metadata": {},
   "outputs": [],
   "source": [
    "from keras import optimizers\n",
    "model.compile(loss='categorical_crossentropy', optimizer='adagrad', metrics=['accuracy'])"
   ]
  },
  {
   "cell_type": "markdown",
   "metadata": {},
   "source": [
    "### Fit Network"
   ]
  },
  {
   "cell_type": "code",
   "execution_count": 73,
   "metadata": {},
   "outputs": [
    {
     "name": "stdout",
     "output_type": "stream",
     "text": [
      "Train on 4202787 samples, validate on 1050697 samples\n",
      "Epoch 1/1\n",
      "4202787/4202787 [==============================] - 248s 59us/step - loss: 0.4534 - acc: 0.7762 - val_loss: 0.4499 - val_acc: 0.7774\n"
     ]
    }
   ],
   "source": [
    "history = model.fit(X_train, y_train, \n",
    "          batch_size=50, epochs=1, verbose=1,\n",
    "          validation_data=(X_test, y_test)\n",
    "         )"
   ]
  },
  {
   "cell_type": "code",
   "execution_count": 74,
   "metadata": {},
   "outputs": [
    {
     "data": {
      "text/plain": [
       "array([0, 1])"
      ]
     },
     "execution_count": 74,
     "metadata": {},
     "output_type": "execute_result"
    }
   ],
   "source": [
    "np.unique(model.predict_classes(X_train))"
   ]
  },
  {
   "cell_type": "code",
   "execution_count": 75,
   "metadata": {},
   "outputs": [
    {
     "data": {
      "text/plain": [
       "<Figure size 640x480 with 1 Axes>"
      ]
     },
     "metadata": {},
     "output_type": "display_data"
    }
   ],
   "source": [
    "import matplotlib.pyplot as plt\n",
    "pd.Series(history.history['loss']).plot(logy=True)\n",
    "plt.xlabel(\"Epoch\")\n",
    "plt.ylabel(\"Train Error\")\n",
    "plt.savefig('Yelp_Simple_MLP_V1')\n",
    "plt.show()"
   ]
  },
  {
   "cell_type": "code",
   "execution_count": 76,
   "metadata": {},
   "outputs": [
    {
     "name": "stdout",
     "output_type": "stream",
     "text": [
      "             precision    recall  f1-score   support\n",
      "\n",
      "          0       0.72      0.57      0.63    356051\n",
      "          1       0.80      0.88      0.84    694646\n",
      "\n",
      "avg / total       0.77      0.78      0.77   1050697\n",
      "\n",
      "             precision    recall  f1-score   support\n",
      "\n",
      "          0       0.71      0.57      0.63   1424978\n",
      "          1       0.80      0.88      0.84   2777809\n",
      "\n",
      "avg / total       0.77      0.78      0.77   4202787\n",
      "\n"
     ]
    }
   ],
   "source": [
    "from sklearn.metrics import classification_report\n",
    "\n",
    "Y_test = np.argmax(y_test, axis=1) # Convert one-hot to index\n",
    "y_pred = model.predict_classes(X_test)\n",
    "print(classification_report(Y_test, y_pred))\n",
    "\n",
    "Y_train = np.argmax(y_train, axis=1) # Convert one-hot to index\n",
    "y_pred = model.predict_classes(X_train)\n",
    "print(classification_report(Y_train, y_pred))"
   ]
  }
 ],
 "metadata": {
  "kernelspec": {
   "display_name": "REU",
   "language": "python",
   "name": "reu"
  },
  "language_info": {
   "codemirror_mode": {
    "name": "ipython",
    "version": 3
   },
   "file_extension": ".py",
   "mimetype": "text/x-python",
   "name": "python",
   "nbconvert_exporter": "python",
   "pygments_lexer": "ipython3",
   "version": "3.6.5"
  }
 },
 "nbformat": 4,
 "nbformat_minor": 2
}
