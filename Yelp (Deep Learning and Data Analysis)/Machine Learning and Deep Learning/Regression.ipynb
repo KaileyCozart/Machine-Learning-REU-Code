{
 "cells": [
  {
   "cell_type": "markdown",
   "metadata": {},
   "source": [
    "# Yelp and Regression"
   ]
  },
  {
   "cell_type": "markdown",
   "metadata": {},
   "source": [
    "### Read in CSV"
   ]
  },
  {
   "cell_type": "code",
   "execution_count": 23,
   "metadata": {},
   "outputs": [],
   "source": [
    "import seaborn as sns\n",
    "import numpy as np\n",
    "\n",
    "from sklearn.model_selection import train_test_split\n",
    "from sklearn.linear_model import LogisticRegressionCV"
   ]
  },
  {
   "cell_type": "code",
   "execution_count": 24,
   "metadata": {},
   "outputs": [],
   "source": [
    "session_conf = tf.ConfigProto(\n",
    "      intra_op_parallelism_threads=1,\n",
    "      inter_op_parallelism_threads=1)\n",
    "sess = tf.Session(config=session_conf)"
   ]
  },
  {
   "cell_type": "code",
   "execution_count": 25,
   "metadata": {},
   "outputs": [],
   "source": [
    "df = pd.read_csv('HOPEFUL.csv')"
   ]
  },
  {
   "cell_type": "code",
   "execution_count": 26,
   "metadata": {},
   "outputs": [
    {
     "data": {
      "text/html": [
       "<div>\n",
       "<style scoped>\n",
       "    .dataframe tbody tr th:only-of-type {\n",
       "        vertical-align: middle;\n",
       "    }\n",
       "\n",
       "    .dataframe tbody tr th {\n",
       "        vertical-align: top;\n",
       "    }\n",
       "\n",
       "    .dataframe thead th {\n",
       "        text-align: right;\n",
       "    }\n",
       "</style>\n",
       "<table border=\"1\" class=\"dataframe\">\n",
       "  <thead>\n",
       "    <tr style=\"text-align: right;\">\n",
       "      <th></th>\n",
       "      <th>stars</th>\n",
       "      <th>name_of_month</th>\n",
       "      <th>day_of_week</th>\n",
       "      <th>user_average_stars</th>\n",
       "      <th>user_num_reviews</th>\n",
       "      <th>user_num_friends</th>\n",
       "      <th>business_num_reviews</th>\n",
       "      <th>business_average_stars</th>\n",
       "      <th>business_catgrylv2</th>\n",
       "      <th>business_catgrylv1</th>\n",
       "      <th>business_lat</th>\n",
       "      <th>business_long</th>\n",
       "      <th>lv1Cat_Av</th>\n",
       "      <th>lv2Cat_Av</th>\n",
       "      <th>zipCodeBusiness_Av</th>\n",
       "      <th>zipCodeUser_Av</th>\n",
       "      <th>zipCodeUser_WeightedAv</th>\n",
       "      <th>zipCodeUserCount</th>\n",
       "    </tr>\n",
       "  </thead>\n",
       "  <tbody>\n",
       "    <tr>\n",
       "      <th>0</th>\n",
       "      <td>5</td>\n",
       "      <td>May</td>\n",
       "      <td>Saturday</td>\n",
       "      <td>4.67</td>\n",
       "      <td>6</td>\n",
       "      <td>1</td>\n",
       "      <td>1953</td>\n",
       "      <td>4.0</td>\n",
       "      <td>Bars</td>\n",
       "      <td>Breakfast &amp; Brunch</td>\n",
       "      <td>45.516373</td>\n",
       "      <td>-73.577537</td>\n",
       "      <td>3.739232</td>\n",
       "      <td>3.731733</td>\n",
       "      <td>3.980257</td>\n",
       "      <td>3.779459</td>\n",
       "      <td>3.720424</td>\n",
       "      <td>2162</td>\n",
       "    </tr>\n",
       "    <tr>\n",
       "      <th>1</th>\n",
       "      <td>5</td>\n",
       "      <td>May</td>\n",
       "      <td>Saturday</td>\n",
       "      <td>4.67</td>\n",
       "      <td>6</td>\n",
       "      <td>1</td>\n",
       "      <td>84</td>\n",
       "      <td>4.0</td>\n",
       "      <td>Bars</td>\n",
       "      <td>Food</td>\n",
       "      <td>45.523333</td>\n",
       "      <td>-73.594859</td>\n",
       "      <td>3.719693</td>\n",
       "      <td>3.731733</td>\n",
       "      <td>4.031579</td>\n",
       "      <td>3.875368</td>\n",
       "      <td>3.711489</td>\n",
       "      <td>95</td>\n",
       "    </tr>\n",
       "    <tr>\n",
       "      <th>2</th>\n",
       "      <td>5</td>\n",
       "      <td>May</td>\n",
       "      <td>Saturday</td>\n",
       "      <td>4.67</td>\n",
       "      <td>6</td>\n",
       "      <td>1</td>\n",
       "      <td>50</td>\n",
       "      <td>4.5</td>\n",
       "      <td>Bars</td>\n",
       "      <td>Breakfast &amp; Brunch</td>\n",
       "      <td>45.472902</td>\n",
       "      <td>-73.588321</td>\n",
       "      <td>3.739232</td>\n",
       "      <td>3.731733</td>\n",
       "      <td>4.280899</td>\n",
       "      <td>3.843488</td>\n",
       "      <td>3.927304</td>\n",
       "      <td>86</td>\n",
       "    </tr>\n",
       "    <tr>\n",
       "      <th>3</th>\n",
       "      <td>5</td>\n",
       "      <td>May</td>\n",
       "      <td>Saturday</td>\n",
       "      <td>4.67</td>\n",
       "      <td>6</td>\n",
       "      <td>1</td>\n",
       "      <td>70</td>\n",
       "      <td>4.0</td>\n",
       "      <td>Bars</td>\n",
       "      <td>Breakfast &amp; Brunch</td>\n",
       "      <td>45.522144</td>\n",
       "      <td>-73.607076</td>\n",
       "      <td>3.739232</td>\n",
       "      <td>3.731733</td>\n",
       "      <td>3.943038</td>\n",
       "      <td>3.837975</td>\n",
       "      <td>3.851323</td>\n",
       "      <td>79</td>\n",
       "    </tr>\n",
       "  </tbody>\n",
       "</table>\n",
       "</div>"
      ],
      "text/plain": [
       "   stars name_of_month day_of_week  user_average_stars  user_num_reviews  \\\n",
       "0      5           May    Saturday                4.67                 6   \n",
       "1      5           May    Saturday                4.67                 6   \n",
       "2      5           May    Saturday                4.67                 6   \n",
       "3      5           May    Saturday                4.67                 6   \n",
       "\n",
       "   user_num_friends  business_num_reviews  business_average_stars  \\\n",
       "0                 1                  1953                     4.0   \n",
       "1                 1                    84                     4.0   \n",
       "2                 1                    50                     4.5   \n",
       "3                 1                    70                     4.0   \n",
       "\n",
       "  business_catgrylv2  business_catgrylv1  business_lat  business_long  \\\n",
       "0               Bars  Breakfast & Brunch     45.516373     -73.577537   \n",
       "1               Bars                Food     45.523333     -73.594859   \n",
       "2               Bars  Breakfast & Brunch     45.472902     -73.588321   \n",
       "3               Bars  Breakfast & Brunch     45.522144     -73.607076   \n",
       "\n",
       "   lv1Cat_Av  lv2Cat_Av  zipCodeBusiness_Av  zipCodeUser_Av  \\\n",
       "0   3.739232   3.731733            3.980257        3.779459   \n",
       "1   3.719693   3.731733            4.031579        3.875368   \n",
       "2   3.739232   3.731733            4.280899        3.843488   \n",
       "3   3.739232   3.731733            3.943038        3.837975   \n",
       "\n",
       "   zipCodeUser_WeightedAv  zipCodeUserCount  \n",
       "0                3.720424              2162  \n",
       "1                3.711489                95  \n",
       "2                3.927304                86  \n",
       "3                3.851323                79  "
      ]
     },
     "execution_count": 26,
     "metadata": {},
     "output_type": "execute_result"
    }
   ],
   "source": [
    "df = df.drop(df.columns[df.columns.str.contains('unnamed', case = False)],axis = 1)\n",
    "df = df.drop(['business_id', 'date', 'user_id', 'user_cool', 'user_funny', 'user_userful', 'business_city', 'business_zip'], axis=1)\n",
    "df.head(4)"
   ]
  },
  {
   "cell_type": "code",
   "execution_count": 27,
   "metadata": {},
   "outputs": [
    {
     "data": {
      "text/html": [
       "<div>\n",
       "<style scoped>\n",
       "    .dataframe tbody tr th:only-of-type {\n",
       "        vertical-align: middle;\n",
       "    }\n",
       "\n",
       "    .dataframe tbody tr th {\n",
       "        vertical-align: top;\n",
       "    }\n",
       "\n",
       "    .dataframe thead th {\n",
       "        text-align: right;\n",
       "    }\n",
       "</style>\n",
       "<table border=\"1\" class=\"dataframe\">\n",
       "  <thead>\n",
       "    <tr style=\"text-align: right;\">\n",
       "      <th></th>\n",
       "      <th>stars</th>\n",
       "      <th>name_of_month</th>\n",
       "      <th>day_of_week</th>\n",
       "      <th>user_average_stars</th>\n",
       "      <th>user_num_reviews</th>\n",
       "      <th>user_num_friends</th>\n",
       "      <th>business_num_reviews</th>\n",
       "      <th>business_average_stars</th>\n",
       "      <th>business_catgrylv2</th>\n",
       "      <th>business_catgrylv1</th>\n",
       "      <th>business_lat</th>\n",
       "      <th>business_long</th>\n",
       "      <th>lv1Cat_Av</th>\n",
       "      <th>lv2Cat_Av</th>\n",
       "      <th>zipCodeBusiness_Av</th>\n",
       "      <th>zipCodeUser_Av</th>\n",
       "      <th>zipCodeUser_WeightedAv</th>\n",
       "      <th>zipCodeUserCount</th>\n",
       "    </tr>\n",
       "  </thead>\n",
       "  <tbody>\n",
       "    <tr>\n",
       "      <th>0</th>\n",
       "      <td>5</td>\n",
       "      <td>8</td>\n",
       "      <td>2</td>\n",
       "      <td>4.67</td>\n",
       "      <td>6</td>\n",
       "      <td>1</td>\n",
       "      <td>1953</td>\n",
       "      <td>4.0</td>\n",
       "      <td>1</td>\n",
       "      <td>9</td>\n",
       "      <td>45.516373</td>\n",
       "      <td>-73.577537</td>\n",
       "      <td>3.739232</td>\n",
       "      <td>3.731733</td>\n",
       "      <td>3.980257</td>\n",
       "      <td>3.779459</td>\n",
       "      <td>3.720424</td>\n",
       "      <td>2162</td>\n",
       "    </tr>\n",
       "    <tr>\n",
       "      <th>1</th>\n",
       "      <td>5</td>\n",
       "      <td>8</td>\n",
       "      <td>2</td>\n",
       "      <td>4.67</td>\n",
       "      <td>6</td>\n",
       "      <td>1</td>\n",
       "      <td>84</td>\n",
       "      <td>4.0</td>\n",
       "      <td>1</td>\n",
       "      <td>22</td>\n",
       "      <td>45.523333</td>\n",
       "      <td>-73.594859</td>\n",
       "      <td>3.719693</td>\n",
       "      <td>3.731733</td>\n",
       "      <td>4.031579</td>\n",
       "      <td>3.875368</td>\n",
       "      <td>3.711489</td>\n",
       "      <td>95</td>\n",
       "    </tr>\n",
       "    <tr>\n",
       "      <th>2</th>\n",
       "      <td>5</td>\n",
       "      <td>8</td>\n",
       "      <td>2</td>\n",
       "      <td>4.67</td>\n",
       "      <td>6</td>\n",
       "      <td>1</td>\n",
       "      <td>50</td>\n",
       "      <td>4.5</td>\n",
       "      <td>1</td>\n",
       "      <td>9</td>\n",
       "      <td>45.472902</td>\n",
       "      <td>-73.588321</td>\n",
       "      <td>3.739232</td>\n",
       "      <td>3.731733</td>\n",
       "      <td>4.280899</td>\n",
       "      <td>3.843488</td>\n",
       "      <td>3.927304</td>\n",
       "      <td>86</td>\n",
       "    </tr>\n",
       "  </tbody>\n",
       "</table>\n",
       "</div>"
      ],
      "text/plain": [
       "   stars  name_of_month  day_of_week  user_average_stars  user_num_reviews  \\\n",
       "0      5              8            2                4.67                 6   \n",
       "1      5              8            2                4.67                 6   \n",
       "2      5              8            2                4.67                 6   \n",
       "\n",
       "   user_num_friends  business_num_reviews  business_average_stars  \\\n",
       "0                 1                  1953                     4.0   \n",
       "1                 1                    84                     4.0   \n",
       "2                 1                    50                     4.5   \n",
       "\n",
       "   business_catgrylv2  business_catgrylv1  business_lat  business_long  \\\n",
       "0                   1                   9     45.516373     -73.577537   \n",
       "1                   1                  22     45.523333     -73.594859   \n",
       "2                   1                   9     45.472902     -73.588321   \n",
       "\n",
       "   lv1Cat_Av  lv2Cat_Av  zipCodeBusiness_Av  zipCodeUser_Av  \\\n",
       "0   3.739232   3.731733            3.980257        3.779459   \n",
       "1   3.719693   3.731733            4.031579        3.875368   \n",
       "2   3.739232   3.731733            4.280899        3.843488   \n",
       "\n",
       "   zipCodeUser_WeightedAv  zipCodeUserCount  \n",
       "0                3.720424              2162  \n",
       "1                3.711489                95  \n",
       "2                3.927304                86  "
      ]
     },
     "execution_count": 27,
     "metadata": {},
     "output_type": "execute_result"
    }
   ],
   "source": [
    "# Label Encode Categorical Data\n",
    "# name_of_month\n",
    "df['name_of_month'] = df['name_of_month'].astype('category')\n",
    "df['name_of_month'] = df['name_of_month'].cat.codes\n",
    "\n",
    "# day_of_week\n",
    "df['day_of_week'] = df['day_of_week'].astype('category')\n",
    "df['day_of_week'] = df['day_of_week'].cat.codes\n",
    "\n",
    "# business_catgrylv2\n",
    "df['business_catgrylv2'] = df['business_catgrylv2'].astype('category')\n",
    "df['business_catgrylv2'] = df['business_catgrylv2'].cat.codes\n",
    "\n",
    "# business_catgrylv1\n",
    "df['business_catgrylv1'] = df['business_catgrylv1'].astype('category')\n",
    "df['business_catgrylv1'] = df['business_catgrylv1'].cat.codes\n",
    "\n",
    "# Check Categorization\n",
    "df.head(3)"
   ]
  },
  {
   "cell_type": "code",
   "execution_count": 28,
   "metadata": {},
   "outputs": [],
   "source": [
    "# # Normalize\n",
    "# df = (df - df.mean()) / (df.max() - df.min())\n",
    "# df.head(3)"
   ]
  },
  {
   "cell_type": "markdown",
   "metadata": {},
   "source": [
    "### Split into Train and Test Data"
   ]
  },
  {
   "cell_type": "code",
   "execution_count": 29,
   "metadata": {},
   "outputs": [
    {
     "name": "stdout",
     "output_type": "stream",
     "text": [
      "[[ 8.00000000e+00  2.00000000e+00  4.67000000e+00  6.00000000e+00\n",
      "   1.00000000e+00  1.95300000e+03  4.00000000e+00  1.00000000e+00\n",
      "   9.00000000e+00  4.55163732e+01 -7.35775375e+01  3.73923183e+00\n",
      "   3.73173337e+00  3.98025732e+00  3.77945883e+00  3.72042398e+00\n",
      "   2.16200000e+03]\n",
      " [ 8.00000000e+00  2.00000000e+00  4.67000000e+00  6.00000000e+00\n",
      "   1.00000000e+00  8.40000000e+01  4.00000000e+00  1.00000000e+00\n",
      "   2.20000000e+01  4.55233326e+01 -7.35948595e+01  3.71969332e+00\n",
      "   3.73173337e+00  4.03157895e+00  3.87536842e+00  3.71148943e+00\n",
      "   9.50000000e+01]]\n"
     ]
    }
   ],
   "source": [
    "X = df.values[:, 1:]\n",
    "print(X[:2])"
   ]
  },
  {
   "cell_type": "code",
   "execution_count": 30,
   "metadata": {},
   "outputs": [
    {
     "name": "stdout",
     "output_type": "stream",
     "text": [
      "[5. 5.]\n"
     ]
    }
   ],
   "source": [
    "y = df.values[:, 0]\n",
    "print(y[:2])"
   ]
  },
  {
   "cell_type": "code",
   "execution_count": 31,
   "metadata": {},
   "outputs": [],
   "source": [
    "X_Train, X_Test, Y_Train, Y_Test = train_test_split(X, y, train_size=0.8, test_size=0.2, random_state=0)"
   ]
  },
  {
   "cell_type": "markdown",
   "metadata": {},
   "source": [
    "### Regression and Analysis"
   ]
  },
  {
   "cell_type": "code",
   "execution_count": null,
   "metadata": {},
   "outputs": [],
   "source": [
    "lr = LogisticRegressionCV()\n",
    "lr.fit(X_Train, Y_Train)"
   ]
  },
  {
   "cell_type": "code",
   "execution_count": null,
   "metadata": {},
   "outputs": [],
   "source": [
    "print(\"Model Accuracy: {:.2f}\".format(lr.score(X_Test, Y_Test)))"
   ]
  }
 ],
 "metadata": {
  "kernelspec": {
   "display_name": "REU",
   "language": "python",
   "name": "reu"
  },
  "language_info": {
   "codemirror_mode": {
    "name": "ipython",
    "version": 3
   },
   "file_extension": ".py",
   "mimetype": "text/x-python",
   "name": "python",
   "nbconvert_exporter": "python",
   "pygments_lexer": "ipython3",
   "version": "3.6.5"
  }
 },
 "nbformat": 4,
 "nbformat_minor": 2
}
