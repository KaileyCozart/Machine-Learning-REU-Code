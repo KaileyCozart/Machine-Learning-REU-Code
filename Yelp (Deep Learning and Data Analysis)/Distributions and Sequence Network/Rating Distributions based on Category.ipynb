{
 "cells": [
  {
   "cell_type": "code",
   "execution_count": 1,
   "metadata": {},
   "outputs": [],
   "source": [
    "import pandas as pd\n",
    "import numpy as np\n",
    "import matplotlib.pyplot as plt"
   ]
  },
  {
   "cell_type": "code",
   "execution_count": 2,
   "metadata": {},
   "outputs": [
    {
     "data": {
      "text/html": [
       "<div>\n",
       "<style scoped>\n",
       "    .dataframe tbody tr th:only-of-type {\n",
       "        vertical-align: middle;\n",
       "    }\n",
       "\n",
       "    .dataframe tbody tr th {\n",
       "        vertical-align: top;\n",
       "    }\n",
       "\n",
       "    .dataframe thead th {\n",
       "        text-align: right;\n",
       "    }\n",
       "</style>\n",
       "<table border=\"1\" class=\"dataframe\">\n",
       "  <thead>\n",
       "    <tr style=\"text-align: right;\">\n",
       "      <th></th>\n",
       "      <th>Unnamed: 0</th>\n",
       "      <th>Unnamed: 0.1</th>\n",
       "      <th>business_id</th>\n",
       "      <th>date</th>\n",
       "      <th>stars</th>\n",
       "      <th>user_id</th>\n",
       "      <th>name_of_month</th>\n",
       "      <th>day_of_week</th>\n",
       "      <th>user_average_stars</th>\n",
       "      <th>user_cool</th>\n",
       "      <th>...</th>\n",
       "      <th>business_catgrylv1</th>\n",
       "      <th>business_lat</th>\n",
       "      <th>business_long</th>\n",
       "      <th>business_zip</th>\n",
       "      <th>lv1Cat_Av</th>\n",
       "      <th>lv2Cat_Av</th>\n",
       "      <th>zipCodeBusiness_Av</th>\n",
       "      <th>zipCodeUser_Av</th>\n",
       "      <th>zipCodeUser_WeightedAv</th>\n",
       "      <th>zipCodeUserCount</th>\n",
       "    </tr>\n",
       "  </thead>\n",
       "  <tbody>\n",
       "    <tr>\n",
       "      <th>0</th>\n",
       "      <td>0</td>\n",
       "      <td>0</td>\n",
       "      <td>0W4lkclzZThpx3V65bVgig</td>\n",
       "      <td>2016-05-28</td>\n",
       "      <td>5</td>\n",
       "      <td>bv2nCi5Qv5vroFiqKGopiw</td>\n",
       "      <td>May</td>\n",
       "      <td>Saturday</td>\n",
       "      <td>4.67</td>\n",
       "      <td>0</td>\n",
       "      <td>...</td>\n",
       "      <td>Breakfast &amp; Brunch</td>\n",
       "      <td>45.516373</td>\n",
       "      <td>-73.577537</td>\n",
       "      <td>H2W 1X9</td>\n",
       "      <td>3.739232</td>\n",
       "      <td>3.731733</td>\n",
       "      <td>3.980257</td>\n",
       "      <td>3.779459</td>\n",
       "      <td>3.720424</td>\n",
       "      <td>2162</td>\n",
       "    </tr>\n",
       "    <tr>\n",
       "      <th>1</th>\n",
       "      <td>1</td>\n",
       "      <td>1</td>\n",
       "      <td>AEx2SYEUJmTxVVB18LlCwA</td>\n",
       "      <td>2016-05-28</td>\n",
       "      <td>5</td>\n",
       "      <td>bv2nCi5Qv5vroFiqKGopiw</td>\n",
       "      <td>May</td>\n",
       "      <td>Saturday</td>\n",
       "      <td>4.67</td>\n",
       "      <td>0</td>\n",
       "      <td>...</td>\n",
       "      <td>Food</td>\n",
       "      <td>45.523333</td>\n",
       "      <td>-73.594859</td>\n",
       "      <td>H2T 2M1</td>\n",
       "      <td>3.719693</td>\n",
       "      <td>3.731733</td>\n",
       "      <td>4.031579</td>\n",
       "      <td>3.875368</td>\n",
       "      <td>3.711489</td>\n",
       "      <td>95</td>\n",
       "    </tr>\n",
       "    <tr>\n",
       "      <th>2</th>\n",
       "      <td>2</td>\n",
       "      <td>2</td>\n",
       "      <td>VR6GpWIda3SfvPC-lg9H3w</td>\n",
       "      <td>2016-05-28</td>\n",
       "      <td>5</td>\n",
       "      <td>bv2nCi5Qv5vroFiqKGopiw</td>\n",
       "      <td>May</td>\n",
       "      <td>Saturday</td>\n",
       "      <td>4.67</td>\n",
       "      <td>0</td>\n",
       "      <td>...</td>\n",
       "      <td>Breakfast &amp; Brunch</td>\n",
       "      <td>45.472902</td>\n",
       "      <td>-73.588321</td>\n",
       "      <td>H4C 1S7</td>\n",
       "      <td>3.739232</td>\n",
       "      <td>3.731733</td>\n",
       "      <td>4.280899</td>\n",
       "      <td>3.843488</td>\n",
       "      <td>3.927304</td>\n",
       "      <td>86</td>\n",
       "    </tr>\n",
       "  </tbody>\n",
       "</table>\n",
       "<p>3 rows × 28 columns</p>\n",
       "</div>"
      ],
      "text/plain": [
       "   Unnamed: 0  Unnamed: 0.1             business_id        date  stars  \\\n",
       "0           0             0  0W4lkclzZThpx3V65bVgig  2016-05-28      5   \n",
       "1           1             1  AEx2SYEUJmTxVVB18LlCwA  2016-05-28      5   \n",
       "2           2             2  VR6GpWIda3SfvPC-lg9H3w  2016-05-28      5   \n",
       "\n",
       "                  user_id name_of_month day_of_week  user_average_stars  \\\n",
       "0  bv2nCi5Qv5vroFiqKGopiw           May    Saturday                4.67   \n",
       "1  bv2nCi5Qv5vroFiqKGopiw           May    Saturday                4.67   \n",
       "2  bv2nCi5Qv5vroFiqKGopiw           May    Saturday                4.67   \n",
       "\n",
       "   user_cool        ...         business_catgrylv1  business_lat  \\\n",
       "0          0        ...         Breakfast & Brunch     45.516373   \n",
       "1          0        ...                       Food     45.523333   \n",
       "2          0        ...         Breakfast & Brunch     45.472902   \n",
       "\n",
       "   business_long  business_zip lv1Cat_Av  lv2Cat_Av  zipCodeBusiness_Av  \\\n",
       "0     -73.577537       H2W 1X9  3.739232   3.731733            3.980257   \n",
       "1     -73.594859       H2T 2M1  3.719693   3.731733            4.031579   \n",
       "2     -73.588321       H4C 1S7  3.739232   3.731733            4.280899   \n",
       "\n",
       "  zipCodeUser_Av zipCodeUser_WeightedAv  zipCodeUserCount  \n",
       "0       3.779459               3.720424              2162  \n",
       "1       3.875368               3.711489                95  \n",
       "2       3.843488               3.927304                86  \n",
       "\n",
       "[3 rows x 28 columns]"
      ]
     },
     "execution_count": 2,
     "metadata": {},
     "output_type": "execute_result"
    }
   ],
   "source": [
    "# Read in Overall CSV\n",
    "df = pd.read_csv('HOPEFUL.csv')\n",
    "df.head(3)"
   ]
  },
  {
   "cell_type": "code",
   "execution_count": 3,
   "metadata": {},
   "outputs": [
    {
     "data": {
      "text/html": [
       "<div>\n",
       "<style scoped>\n",
       "    .dataframe tbody tr th:only-of-type {\n",
       "        vertical-align: middle;\n",
       "    }\n",
       "\n",
       "    .dataframe tbody tr th {\n",
       "        vertical-align: top;\n",
       "    }\n",
       "\n",
       "    .dataframe thead th {\n",
       "        text-align: right;\n",
       "    }\n",
       "</style>\n",
       "<table border=\"1\" class=\"dataframe\">\n",
       "  <thead>\n",
       "    <tr style=\"text-align: right;\">\n",
       "      <th></th>\n",
       "      <th>stars</th>\n",
       "      <th>name_of_month</th>\n",
       "      <th>day_of_week</th>\n",
       "      <th>user_average_stars</th>\n",
       "      <th>user_num_reviews</th>\n",
       "      <th>user_num_friends</th>\n",
       "      <th>business_city</th>\n",
       "      <th>business_num_reviews</th>\n",
       "      <th>business_average_stars</th>\n",
       "      <th>business_catgrylv2</th>\n",
       "      <th>business_catgrylv1</th>\n",
       "      <th>business_lat</th>\n",
       "      <th>business_long</th>\n",
       "      <th>business_zip</th>\n",
       "      <th>lv1Cat_Av</th>\n",
       "      <th>lv2Cat_Av</th>\n",
       "      <th>zipCodeBusiness_Av</th>\n",
       "      <th>zipCodeUser_Av</th>\n",
       "      <th>zipCodeUser_WeightedAv</th>\n",
       "      <th>zipCodeUserCount</th>\n",
       "    </tr>\n",
       "  </thead>\n",
       "  <tbody>\n",
       "    <tr>\n",
       "      <th>0</th>\n",
       "      <td>5</td>\n",
       "      <td>May</td>\n",
       "      <td>Saturday</td>\n",
       "      <td>4.67</td>\n",
       "      <td>6</td>\n",
       "      <td>1</td>\n",
       "      <td>Montréal</td>\n",
       "      <td>1953</td>\n",
       "      <td>4.0</td>\n",
       "      <td>Bars</td>\n",
       "      <td>Breakfast &amp; Brunch</td>\n",
       "      <td>45.516373</td>\n",
       "      <td>-73.577537</td>\n",
       "      <td>H2W 1X9</td>\n",
       "      <td>3.739232</td>\n",
       "      <td>3.731733</td>\n",
       "      <td>3.980257</td>\n",
       "      <td>3.779459</td>\n",
       "      <td>3.720424</td>\n",
       "      <td>2162</td>\n",
       "    </tr>\n",
       "    <tr>\n",
       "      <th>1</th>\n",
       "      <td>5</td>\n",
       "      <td>May</td>\n",
       "      <td>Saturday</td>\n",
       "      <td>4.67</td>\n",
       "      <td>6</td>\n",
       "      <td>1</td>\n",
       "      <td>Montréal</td>\n",
       "      <td>84</td>\n",
       "      <td>4.0</td>\n",
       "      <td>Bars</td>\n",
       "      <td>Food</td>\n",
       "      <td>45.523333</td>\n",
       "      <td>-73.594859</td>\n",
       "      <td>H2T 2M1</td>\n",
       "      <td>3.719693</td>\n",
       "      <td>3.731733</td>\n",
       "      <td>4.031579</td>\n",
       "      <td>3.875368</td>\n",
       "      <td>3.711489</td>\n",
       "      <td>95</td>\n",
       "    </tr>\n",
       "    <tr>\n",
       "      <th>2</th>\n",
       "      <td>5</td>\n",
       "      <td>May</td>\n",
       "      <td>Saturday</td>\n",
       "      <td>4.67</td>\n",
       "      <td>6</td>\n",
       "      <td>1</td>\n",
       "      <td>Montréal</td>\n",
       "      <td>50</td>\n",
       "      <td>4.5</td>\n",
       "      <td>Bars</td>\n",
       "      <td>Breakfast &amp; Brunch</td>\n",
       "      <td>45.472902</td>\n",
       "      <td>-73.588321</td>\n",
       "      <td>H4C 1S7</td>\n",
       "      <td>3.739232</td>\n",
       "      <td>3.731733</td>\n",
       "      <td>4.280899</td>\n",
       "      <td>3.843488</td>\n",
       "      <td>3.927304</td>\n",
       "      <td>86</td>\n",
       "    </tr>\n",
       "  </tbody>\n",
       "</table>\n",
       "</div>"
      ],
      "text/plain": [
       "   stars name_of_month day_of_week  user_average_stars  user_num_reviews  \\\n",
       "0      5           May    Saturday                4.67                 6   \n",
       "1      5           May    Saturday                4.67                 6   \n",
       "2      5           May    Saturday                4.67                 6   \n",
       "\n",
       "   user_num_friends business_city  business_num_reviews  \\\n",
       "0                 1      Montréal                  1953   \n",
       "1                 1      Montréal                    84   \n",
       "2                 1      Montréal                    50   \n",
       "\n",
       "   business_average_stars business_catgrylv2  business_catgrylv1  \\\n",
       "0                     4.0               Bars  Breakfast & Brunch   \n",
       "1                     4.0               Bars                Food   \n",
       "2                     4.5               Bars  Breakfast & Brunch   \n",
       "\n",
       "   business_lat  business_long business_zip  lv1Cat_Av  lv2Cat_Av  \\\n",
       "0     45.516373     -73.577537      H2W 1X9   3.739232   3.731733   \n",
       "1     45.523333     -73.594859      H2T 2M1   3.719693   3.731733   \n",
       "2     45.472902     -73.588321      H4C 1S7   3.739232   3.731733   \n",
       "\n",
       "   zipCodeBusiness_Av  zipCodeUser_Av  zipCodeUser_WeightedAv  \\\n",
       "0            3.980257        3.779459                3.720424   \n",
       "1            4.031579        3.875368                3.711489   \n",
       "2            4.280899        3.843488                3.927304   \n",
       "\n",
       "   zipCodeUserCount  \n",
       "0              2162  \n",
       "1                95  \n",
       "2                86  "
      ]
     },
     "execution_count": 3,
     "metadata": {},
     "output_type": "execute_result"
    }
   ],
   "source": [
    "df = df.drop(df.columns[df.columns.str.contains('unnamed', case = False)],axis = 1)\n",
    "df = df.drop(['business_id', 'date', 'user_id', 'user_cool', 'user_funny', 'user_userful'], axis=1)\n",
    "df.head(3)"
   ]
  },
  {
   "cell_type": "code",
   "execution_count": 4,
   "metadata": {},
   "outputs": [
    {
     "data": {
      "text/plain": [
       "(array(['Active Life', 'Bars', 'Beauty & Spas',\n",
       "        'Cosmetics & Beauty Supply', 'Fashion', 'Financial Services',\n",
       "        'Hair Removal', 'Home & Garden', 'Home Cleaning',\n",
       "        'Oil Change Stations', 'Preschools', 'Pubs', 'Restaurants',\n",
       "        'Sports Clubs', 'Used', 'asdf'], dtype=object),\n",
       " array([ 235376, 2433678,  348815,   38264,  150391,   26100,   95320,\n",
       "         244369,   70885,   66634,   12498,  233137, 1179600,   61828,\n",
       "          56500,      89]))"
      ]
     },
     "execution_count": 4,
     "metadata": {},
     "output_type": "execute_result"
    }
   ],
   "source": [
    "np.unique(df['business_catgrylv2'], return_counts = True)"
   ]
  },
  {
   "cell_type": "markdown",
   "metadata": {},
   "source": [
    "##### Create Individual DF's"
   ]
  },
  {
   "cell_type": "code",
   "execution_count": 5,
   "metadata": {},
   "outputs": [
    {
     "name": "stdout",
     "output_type": "stream",
     "text": [
      "235376\n"
     ]
    }
   ],
   "source": [
    "df_active_life = df.loc[df['business_catgrylv2'] == 'Active Life']\n",
    "print(len(df_active_life))"
   ]
  },
  {
   "cell_type": "code",
   "execution_count": 6,
   "metadata": {},
   "outputs": [
    {
     "name": "stdout",
     "output_type": "stream",
     "text": [
      "2433678\n"
     ]
    }
   ],
   "source": [
    "df_bars = df.loc[df['business_catgrylv2'] == 'Bars']\n",
    "print(len(df_bars))"
   ]
  },
  {
   "cell_type": "code",
   "execution_count": 7,
   "metadata": {},
   "outputs": [
    {
     "name": "stdout",
     "output_type": "stream",
     "text": [
      "348815\n"
     ]
    }
   ],
   "source": [
    "df_beauty_and_spas = df.loc[df['business_catgrylv2'] == 'Beauty & Spas']\n",
    "print(len(df_beauty_and_spas))"
   ]
  },
  {
   "cell_type": "code",
   "execution_count": 8,
   "metadata": {},
   "outputs": [
    {
     "name": "stdout",
     "output_type": "stream",
     "text": [
      "38264\n"
     ]
    }
   ],
   "source": [
    "df_cosmetics = df.loc[df['business_catgrylv2'] == 'Cosmetics & Beauty Supply']\n",
    "print(len(df_cosmetics))"
   ]
  },
  {
   "cell_type": "code",
   "execution_count": 9,
   "metadata": {},
   "outputs": [
    {
     "name": "stdout",
     "output_type": "stream",
     "text": [
      "150391\n"
     ]
    }
   ],
   "source": [
    "df_fashion = df.loc[df['business_catgrylv2'] == 'Fashion']\n",
    "print(len(df_fashion))"
   ]
  },
  {
   "cell_type": "code",
   "execution_count": 10,
   "metadata": {},
   "outputs": [
    {
     "name": "stdout",
     "output_type": "stream",
     "text": [
      "26100\n"
     ]
    }
   ],
   "source": [
    "df_financial_services = df.loc[df['business_catgrylv2'] == 'Financial Services']\n",
    "print(len(df_financial_services))"
   ]
  },
  {
   "cell_type": "code",
   "execution_count": 11,
   "metadata": {},
   "outputs": [
    {
     "name": "stdout",
     "output_type": "stream",
     "text": [
      "95320\n"
     ]
    }
   ],
   "source": [
    "df_hair_removal = df.loc[df['business_catgrylv2'] == 'Hair Removal']\n",
    "print(len(df_hair_removal))"
   ]
  },
  {
   "cell_type": "code",
   "execution_count": 12,
   "metadata": {},
   "outputs": [
    {
     "name": "stdout",
     "output_type": "stream",
     "text": [
      "244369\n"
     ]
    }
   ],
   "source": [
    "df_home_and_garden = df.loc[df['business_catgrylv2'] == 'Home & Garden']\n",
    "print(len(df_home_and_garden))"
   ]
  },
  {
   "cell_type": "code",
   "execution_count": 13,
   "metadata": {},
   "outputs": [
    {
     "name": "stdout",
     "output_type": "stream",
     "text": [
      "70885\n"
     ]
    }
   ],
   "source": [
    "df_home_cleaning = df.loc[df['business_catgrylv2'] == 'Home Cleaning']\n",
    "print(len(df_home_cleaning))"
   ]
  },
  {
   "cell_type": "code",
   "execution_count": 14,
   "metadata": {},
   "outputs": [
    {
     "name": "stdout",
     "output_type": "stream",
     "text": [
      "66634\n"
     ]
    }
   ],
   "source": [
    "df_oil_changes = df.loc[df['business_catgrylv2'] == 'Oil Change Stations']\n",
    "print(len(df_oil_changes))"
   ]
  },
  {
   "cell_type": "code",
   "execution_count": 15,
   "metadata": {},
   "outputs": [
    {
     "name": "stdout",
     "output_type": "stream",
     "text": [
      "12498\n"
     ]
    }
   ],
   "source": [
    "df_preschools = df.loc[df['business_catgrylv2'] == 'Preschools']\n",
    "print(len(df_preschools))"
   ]
  },
  {
   "cell_type": "code",
   "execution_count": 16,
   "metadata": {},
   "outputs": [
    {
     "name": "stdout",
     "output_type": "stream",
     "text": [
      "233137\n"
     ]
    }
   ],
   "source": [
    "df_pubs = df.loc[df['business_catgrylv2'] == 'Pubs']\n",
    "print(len(df_pubs))"
   ]
  },
  {
   "cell_type": "code",
   "execution_count": 17,
   "metadata": {},
   "outputs": [
    {
     "name": "stdout",
     "output_type": "stream",
     "text": [
      "1179600\n"
     ]
    }
   ],
   "source": [
    "df_restaurants = df.loc[df['business_catgrylv2'] == 'Restaurants']\n",
    "print(len(df_restaurants))"
   ]
  },
  {
   "cell_type": "code",
   "execution_count": 18,
   "metadata": {},
   "outputs": [
    {
     "name": "stdout",
     "output_type": "stream",
     "text": [
      "61828\n"
     ]
    }
   ],
   "source": [
    "df_sports_clubs = df.loc[df['business_catgrylv2'] == 'Sports Clubs']\n",
    "print(len(df_sports_clubs))"
   ]
  },
  {
   "cell_type": "code",
   "execution_count": 19,
   "metadata": {},
   "outputs": [
    {
     "name": "stdout",
     "output_type": "stream",
     "text": [
      "56500\n"
     ]
    }
   ],
   "source": [
    "df_used = df.loc[df['business_catgrylv2'] == 'Used']\n",
    "print(len(df_used))"
   ]
  },
  {
   "cell_type": "code",
   "execution_count": 20,
   "metadata": {},
   "outputs": [
    {
     "name": "stdout",
     "output_type": "stream",
     "text": [
      "89\n"
     ]
    }
   ],
   "source": [
    "df_asdf = df.loc[df['business_catgrylv2'] == 'asdf']\n",
    "print(len(df_asdf))"
   ]
  },
  {
   "cell_type": "markdown",
   "metadata": {},
   "source": [
    "##### Find Star Distro of Each DF"
   ]
  },
  {
   "cell_type": "code",
   "execution_count": 21,
   "metadata": {},
   "outputs": [
    {
     "name": "stdout",
     "output_type": "stream",
     "text": [
      "(array([1, 2, 3, 4, 5]), array([40855, 22082, 31702, 58541, 82196]))\n"
     ]
    }
   ],
   "source": [
    "nums = np.unique(df_active_life['stars'], return_counts=True)\n",
    "print(nums)"
   ]
  },
  {
   "cell_type": "code",
   "execution_count": 22,
   "metadata": {},
   "outputs": [
    {
     "data": {
      "image/png": "[encoded data removed]",
      "text/plain": [
       "<Figure size 432x288 with 1 Axes>"
      ]
     },
     "metadata": {},
     "output_type": "display_data"
    }
   ],
   "source": [
    "y = [40855, 22082, 31702, 58541, 82196]\n",
    "x = [1, 2, 3, 4, 5]\n",
    "width = 1/1.5\n",
    "plt.bar(x, y, width, color=\"blue\")\n",
    "fig = plt.gcf()"
   ]
  },
  {
   "cell_type": "code",
   "execution_count": 23,
   "metadata": {},
   "outputs": [
    {
     "name": "stdout",
     "output_type": "stream",
     "text": [
      "(array([1, 2, 3, 4, 5]), array([269518, 228603, 334261, 660826, 940470]))\n"
     ]
    }
   ],
   "source": [
    "nums = np.unique(df_bars['stars'], return_counts=True)\n",
    "print(nums)"
   ]
  },
  {
   "cell_type": "code",
   "execution_count": 24,
   "metadata": {},
   "outputs": [
    {
     "data": {
      "image/png": "[encoded data removed]",
      "text/plain": [
       "<Figure size 432x288 with 1 Axes>"
      ]
     },
     "metadata": {},
     "output_type": "display_data"
    }
   ],
   "source": [
    "y = [269518, 228603, 334261, 660826, 940470]\n",
    "x = [1, 2, 3, 4, 5]\n",
    "width = 1/1.5\n",
    "plt.bar(x, y, width, color=\"blue\")\n",
    "fig = plt.gcf()"
   ]
  },
  {
   "cell_type": "code",
   "execution_count": 25,
   "metadata": {},
   "outputs": [
    {
     "name": "stdout",
     "output_type": "stream",
     "text": [
      "(array([1, 2, 3, 4, 5]), array([ 62101,  18862,  16334,  38412, 213106]))\n"
     ]
    }
   ],
   "source": [
    "nums = np.unique(df_beauty_and_spas['stars'], return_counts=True)\n",
    "print(nums)"
   ]
  },
  {
   "cell_type": "code",
   "execution_count": 26,
   "metadata": {},
   "outputs": [
    {
     "data": {
      "image/png": "[encoded data removed]",
      "text/plain": [
       "<Figure size 432x288 with 1 Axes>"
      ]
     },
     "metadata": {},
     "output_type": "display_data"
    }
   ],
   "source": [
    "y = [62101,  18862,  16334,  38412, 213106]\n",
    "x = [1, 2, 3, 4, 5]\n",
    "width = 1/1.5\n",
    "plt.bar(x, y, width, color=\"blue\")\n",
    "fig = plt.gcf()"
   ]
  },
  {
   "cell_type": "code",
   "execution_count": 27,
   "metadata": {},
   "outputs": [
    {
     "name": "stdout",
     "output_type": "stream",
     "text": [
      "(array([1, 2, 3, 4, 5]), array([ 5539,  1991,  2812,  5045, 22877]))\n"
     ]
    }
   ],
   "source": [
    "nums = np.unique(df_cosmetics['stars'], return_counts=True)\n",
    "print(nums)"
   ]
  },
  {
   "cell_type": "code",
   "execution_count": 28,
   "metadata": {},
   "outputs": [
    {
     "data": {
      "image/png": "[encoded data removed]",
      "text/plain": [
       "<Figure size 432x288 with 1 Axes>"
      ]
     },
     "metadata": {},
     "output_type": "display_data"
    }
   ],
   "source": [
    "y = [5539,  1991,  2812,  5045, 22877]\n",
    "x = [1, 2, 3, 4, 5]\n",
    "width = 1/1.5\n",
    "plt.bar(x, y, width, color=\"blue\")\n",
    "fig = plt.gcf()"
   ]
  },
  {
   "cell_type": "code",
   "execution_count": 29,
   "metadata": {},
   "outputs": [
    {
     "name": "stdout",
     "output_type": "stream",
     "text": [
      "(array([1, 2, 3, 4, 5]), array([23389,  8240, 10434, 24174, 84154]))\n"
     ]
    }
   ],
   "source": [
    "nums = np.unique(df_fashion['stars'], return_counts=True)\n",
    "print(nums)"
   ]
  },
  {
   "cell_type": "code",
   "execution_count": 30,
   "metadata": {},
   "outputs": [
    {
     "data": {
      "image/png": "[encoded data removed]",
      "text/plain": [
       "<Figure size 432x288 with 1 Axes>"
      ]
     },
     "metadata": {},
     "output_type": "display_data"
    }
   ],
   "source": [
    "y = [23389,  8240, 10434, 24174, 84154]\n",
    "x = [1, 2, 3, 4, 5]\n",
    "width = 1/1.5\n",
    "plt.bar(x, y, width, color=\"blue\")\n",
    "fig = plt.gcf()"
   ]
  },
  {
   "cell_type": "code",
   "execution_count": 31,
   "metadata": {},
   "outputs": [
    {
     "name": "stdout",
     "output_type": "stream",
     "text": [
      "(array([1, 2, 3, 4, 5]), array([ 7614,   968,   793,  1467, 15258]))\n"
     ]
    }
   ],
   "source": [
    "nums = np.unique(df_financial_services['stars'], return_counts=True)\n",
    "print(nums)"
   ]
  },
  {
   "cell_type": "code",
   "execution_count": 32,
   "metadata": {},
   "outputs": [
    {
     "data": {
      "image/png": "[encoded data removed]",
      "text/plain": [
       "<Figure size 432x288 with 1 Axes>"
      ]
     },
     "metadata": {},
     "output_type": "display_data"
    }
   ],
   "source": [
    "y = [7614,   968,   793,  1467, 15258]\n",
    "x = [1, 2, 3, 4, 5]\n",
    "width = 1/1.5\n",
    "plt.bar(x, y, width, color=\"blue\")\n",
    "fig = plt.gcf()"
   ]
  },
  {
   "cell_type": "code",
   "execution_count": 33,
   "metadata": {},
   "outputs": [
    {
     "name": "stdout",
     "output_type": "stream",
     "text": [
      "(array([1, 2, 3, 4, 5]), array([16460,  3849,  2683,  6145, 66183]))\n"
     ]
    }
   ],
   "source": [
    "nums = np.unique(df_hair_removal['stars'], return_counts=True)\n",
    "print(nums)"
   ]
  },
  {
   "cell_type": "code",
   "execution_count": 34,
   "metadata": {},
   "outputs": [
    {
     "data": {
      "image/png": "[encoded data removed]",
      "text/plain": [
       "<Figure size 432x288 with 1 Axes>"
      ]
     },
     "metadata": {},
     "output_type": "display_data"
    }
   ],
   "source": [
    "y = [16460,  3849,  2683,  6145, 66183]\n",
    "x = [1, 2, 3, 4, 5]\n",
    "width = 1/1.5\n",
    "plt.bar(x, y, width, color=\"blue\")\n",
    "fig = plt.gcf()"
   ]
  },
  {
   "cell_type": "code",
   "execution_count": 35,
   "metadata": {},
   "outputs": [
    {
     "name": "stdout",
     "output_type": "stream",
     "text": [
      "(array([1, 2, 3, 4, 5]), array([ 70787,  13203,  11666,  23256, 125457]))\n"
     ]
    }
   ],
   "source": [
    "nums = np.unique(df_home_and_garden['stars'], return_counts=True)\n",
    "print(nums)"
   ]
  },
  {
   "cell_type": "code",
   "execution_count": 36,
   "metadata": {},
   "outputs": [
    {
     "data": {
      "image/png": "[encoded data removed]",
      "text/plain": [
       "<Figure size 432x288 with 1 Axes>"
      ]
     },
     "metadata": {},
     "output_type": "display_data"
    }
   ],
   "source": [
    "y = [70787,  13203,  11666,  23256, 125457]\n",
    "x = [1, 2, 3, 4, 5]\n",
    "width = 1/1.5\n",
    "plt.bar(x, y, width, color=\"blue\")\n",
    "fig = plt.gcf()"
   ]
  },
  {
   "cell_type": "code",
   "execution_count": 37,
   "metadata": {},
   "outputs": [
    {
     "name": "stdout",
     "output_type": "stream",
     "text": [
      "(array([1, 2, 3, 4, 5]), array([12000,  1751,  1083,  2958, 53093]))\n"
     ]
    }
   ],
   "source": [
    "nums = np.unique(df_home_cleaning['stars'], return_counts=True)\n",
    "print(nums)"
   ]
  },
  {
   "cell_type": "code",
   "execution_count": 38,
   "metadata": {},
   "outputs": [
    {
     "data": {
      "image/png": "[encoded data removed]",
      "text/plain": [
       "<Figure size 432x288 with 1 Axes>"
      ]
     },
     "metadata": {},
     "output_type": "display_data"
    }
   ],
   "source": [
    "y = [12000,  1751,  1083,  2958, 53093]\n",
    "x = [1, 2, 3, 4, 5]\n",
    "width = 1/1.5\n",
    "plt.bar(x, y, width, color=\"blue\")\n",
    "fig = plt.gcf()"
   ]
  },
  {
   "cell_type": "code",
   "execution_count": 39,
   "metadata": {},
   "outputs": [
    {
     "name": "stdout",
     "output_type": "stream",
     "text": [
      "(array([1, 2, 3, 4, 5]), array([22651,  3332,  2701,  5618, 32332]))\n"
     ]
    }
   ],
   "source": [
    "nums = np.unique(df_oil_changes['stars'], return_counts=True)\n",
    "print(nums)"
   ]
  },
  {
   "cell_type": "code",
   "execution_count": 40,
   "metadata": {},
   "outputs": [
    {
     "data": {
      "image/png": "[encoded data removed]",
      "text/plain": [
       "<Figure size 432x288 with 1 Axes>"
      ]
     },
     "metadata": {},
     "output_type": "display_data"
    }
   ],
   "source": [
    "y = [22651,  3332,  2701,  5618, 32332]\n",
    "x = [1, 2, 3, 4, 5]\n",
    "width = 1/1.5\n",
    "plt.bar(x, y, width, color=\"blue\")\n",
    "fig = plt.gcf()"
   ]
  },
  {
   "cell_type": "code",
   "execution_count": 41,
   "metadata": {},
   "outputs": [
    {
     "name": "stdout",
     "output_type": "stream",
     "text": [
      "(array([1, 2, 3, 4, 5]), array([1146,  456,  932, 2621, 7343]))\n"
     ]
    }
   ],
   "source": [
    "nums = np.unique(df_preschools['stars'], return_counts=True)\n",
    "print(nums)"
   ]
  },
  {
   "cell_type": "code",
   "execution_count": 43,
   "metadata": {},
   "outputs": [
    {
     "data": {
      "image/png": "[encoded data removed]",
      "text/plain": [
       "<Figure size 432x288 with 1 Axes>"
      ]
     },
     "metadata": {},
     "output_type": "display_data"
    }
   ],
   "source": [
    "y = [1146,  456,  932, 2621, 7343]\n",
    "x = [1, 2, 3, 4, 5]\n",
    "width = 1/1.5\n",
    "plt.bar(x, y, width, color=\"blue\")\n",
    "fig = plt.gcf()"
   ]
  },
  {
   "cell_type": "code",
   "execution_count": 44,
   "metadata": {},
   "outputs": [
    {
     "name": "stdout",
     "output_type": "stream",
     "text": [
      "(array([1, 2, 3, 4, 5]), array([21118, 19810, 33252, 68495, 90462]))\n"
     ]
    }
   ],
   "source": [
    "nums = np.unique(df_pubs['stars'], return_counts=True)\n",
    "print(nums)"
   ]
  },
  {
   "cell_type": "code",
   "execution_count": 45,
   "metadata": {},
   "outputs": [
    {
     "data": {
      "image/png": "[encoded data removed]",
      "text/plain": [
       "<Figure size 432x288 with 1 Axes>"
      ]
     },
     "metadata": {},
     "output_type": "display_data"
    }
   ],
   "source": [
    "y = [21118, 19810, 33252, 68495, 90462]\n",
    "x = [1, 2, 3, 4, 5]\n",
    "width = 1/1.5\n",
    "plt.bar(x, y, width, color=\"blue\")\n",
    "fig = plt.gcf()"
   ]
  },
  {
   "cell_type": "code",
   "execution_count": 46,
   "metadata": {},
   "outputs": [
    {
     "name": "stdout",
     "output_type": "stream",
     "text": [
      "(array([1, 2, 3, 4, 5]), array([158129, 107064, 154906, 298845, 460656]))\n"
     ]
    }
   ],
   "source": [
    "nums = np.unique(df_restaurants['stars'], return_counts=True)\n",
    "print(nums)"
   ]
  },
  {
   "cell_type": "code",
   "execution_count": 48,
   "metadata": {},
   "outputs": [
    {
     "data": {
      "image/png": "[encoded data removed]",
      "text/plain": [
       "<Figure size 432x288 with 1 Axes>"
      ]
     },
     "metadata": {},
     "output_type": "display_data"
    }
   ],
   "source": [
    "y = [158129, 107064, 154906, 298845, 460656]\n",
    "x = [1, 2, 3, 4, 5]\n",
    "width = 1/1.5\n",
    "plt.bar(x, y, width, color=\"blue\")\n",
    "fig = plt.gcf()"
   ]
  },
  {
   "cell_type": "code",
   "execution_count": 49,
   "metadata": {},
   "outputs": [
    {
     "name": "stdout",
     "output_type": "stream",
     "text": [
      "(array([1, 2, 3, 4, 5]), array([ 6362,  3939,  7230, 17273, 27024]))\n"
     ]
    }
   ],
   "source": [
    "nums = np.unique(df_sports_clubs['stars'], return_counts=True)\n",
    "print(nums)"
   ]
  },
  {
   "cell_type": "code",
   "execution_count": 50,
   "metadata": {},
   "outputs": [
    {
     "data": {
      "image/png": "[encoded data removed]",
      "text/plain": [
       "<Figure size 432x288 with 1 Axes>"
      ]
     },
     "metadata": {},
     "output_type": "display_data"
    }
   ],
   "source": [
    "y = [6362,  3939,  7230, 17273, 27024]\n",
    "x = [1, 2, 3, 4, 5]\n",
    "width = 1/1.5\n",
    "plt.bar(x, y, width, color=\"blue\")\n",
    "fig = plt.gcf()"
   ]
  },
  {
   "cell_type": "code",
   "execution_count": 51,
   "metadata": {},
   "outputs": [
    {
     "name": "stdout",
     "output_type": "stream",
     "text": [
      "(array([1, 2, 3, 4, 5]), array([10846,  3439,  4101,  8535, 29579]))\n"
     ]
    }
   ],
   "source": [
    "nums = np.unique(df_used['stars'], return_counts=True)\n",
    "print(nums)"
   ]
  },
  {
   "cell_type": "code",
   "execution_count": 52,
   "metadata": {},
   "outputs": [
    {
     "data": {
      "image/png": "[encoded data removed]",
      "text/plain": [
       "<Figure size 432x288 with 1 Axes>"
      ]
     },
     "metadata": {},
     "output_type": "display_data"
    }
   ],
   "source": [
    "y = [10846,  3439,  4101,  8535, 29579]\n",
    "x = [1, 2, 3, 4, 5]\n",
    "width = 1/1.5\n",
    "plt.bar(x, y, width, color=\"blue\")\n",
    "fig = plt.gcf()"
   ]
  },
  {
   "cell_type": "code",
   "execution_count": 53,
   "metadata": {},
   "outputs": [
    {
     "name": "stdout",
     "output_type": "stream",
     "text": [
      "(array([1, 2, 3, 4, 5]), array([17, 13,  5, 14, 40]))\n"
     ]
    }
   ],
   "source": [
    "nums = np.unique(df_asdf['stars'], return_counts=True)\n",
    "print(nums)"
   ]
  },
  {
   "cell_type": "code",
   "execution_count": 54,
   "metadata": {},
   "outputs": [
    {
     "data": {
      "image/png": "[encoded data removed]",
      "text/plain": [
       "<Figure size 432x288 with 1 Axes>"
      ]
     },
     "metadata": {},
     "output_type": "display_data"
    }
   ],
   "source": [
    "y = [17, 13,  5, 14, 4]\n",
    "x = [1, 2, 3, 4, 5]\n",
    "width = 1/1.5\n",
    "plt.bar(x, y, width, color=\"blue\")\n",
    "fig = plt.gcf()"
   ]
  }
 ],
 "metadata": {
  "kernelspec": {
   "display_name": "REU",
   "language": "python",
   "name": "reu"
  },
  "language_info": {
   "codemirror_mode": {
    "name": "ipython",
    "version": 3
   },
   "file_extension": ".py",
   "mimetype": "text/x-python",
   "name": "python",
   "nbconvert_exporter": "python",
   "pygments_lexer": "ipython3",
   "version": "3.6.5"
  }
 },
 "nbformat": 4,
 "nbformat_minor": 2
}
