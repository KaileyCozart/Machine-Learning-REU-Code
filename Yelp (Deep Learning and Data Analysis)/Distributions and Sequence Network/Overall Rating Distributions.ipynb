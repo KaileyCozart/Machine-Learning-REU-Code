{
 "cells": [
  {
   "cell_type": "code",
   "execution_count": 22,
   "metadata": {},
   "outputs": [],
   "source": [
    "# Import Needed Libraries\n",
    "import pandas as pd\n",
    "import numpy as np\n",
    "import matplotlib.pyplot as plt"
   ]
  },
  {
   "cell_type": "markdown",
   "metadata": {},
   "source": [
    "### Find Overall Distribution"
   ]
  },
  {
   "cell_type": "code",
   "execution_count": 23,
   "metadata": {},
   "outputs": [
    {
     "data": {
      "text/html": [
       "<div>\n",
       "<style scoped>\n",
       "    .dataframe tbody tr th:only-of-type {\n",
       "        vertical-align: middle;\n",
       "    }\n",
       "\n",
       "    .dataframe tbody tr th {\n",
       "        vertical-align: top;\n",
       "    }\n",
       "\n",
       "    .dataframe thead th {\n",
       "        text-align: right;\n",
       "    }\n",
       "</style>\n",
       "<table border=\"1\" class=\"dataframe\">\n",
       "  <thead>\n",
       "    <tr style=\"text-align: right;\">\n",
       "      <th></th>\n",
       "      <th>Unnamed: 0</th>\n",
       "      <th>business_id</th>\n",
       "      <th>date</th>\n",
       "      <th>stars</th>\n",
       "      <th>user_id</th>\n",
       "      <th>name_of_month</th>\n",
       "      <th>day_of_week</th>\n",
       "      <th>user_average_stars</th>\n",
       "      <th>user_cool</th>\n",
       "      <th>user_funny</th>\n",
       "      <th>user_userful</th>\n",
       "      <th>user_num_reviews</th>\n",
       "      <th>user_num_friends</th>\n",
       "      <th>business_city</th>\n",
       "      <th>business_num_reviews</th>\n",
       "      <th>business_average_stars</th>\n",
       "    </tr>\n",
       "  </thead>\n",
       "  <tbody>\n",
       "    <tr>\n",
       "      <th>0</th>\n",
       "      <td>0</td>\n",
       "      <td>0W4lkclzZThpx3V65bVgig</td>\n",
       "      <td>2016-05-28</td>\n",
       "      <td>5</td>\n",
       "      <td>bv2nCi5Qv5vroFiqKGopiw</td>\n",
       "      <td>May</td>\n",
       "      <td>Saturday</td>\n",
       "      <td>4.67</td>\n",
       "      <td>0</td>\n",
       "      <td>0</td>\n",
       "      <td>0</td>\n",
       "      <td>6</td>\n",
       "      <td>1</td>\n",
       "      <td>Montréal</td>\n",
       "      <td>1953</td>\n",
       "      <td>4.0</td>\n",
       "    </tr>\n",
       "    <tr>\n",
       "      <th>1</th>\n",
       "      <td>1</td>\n",
       "      <td>AEx2SYEUJmTxVVB18LlCwA</td>\n",
       "      <td>2016-05-28</td>\n",
       "      <td>5</td>\n",
       "      <td>bv2nCi5Qv5vroFiqKGopiw</td>\n",
       "      <td>May</td>\n",
       "      <td>Saturday</td>\n",
       "      <td>4.67</td>\n",
       "      <td>0</td>\n",
       "      <td>0</td>\n",
       "      <td>0</td>\n",
       "      <td>6</td>\n",
       "      <td>1</td>\n",
       "      <td>Montréal</td>\n",
       "      <td>84</td>\n",
       "      <td>4.0</td>\n",
       "    </tr>\n",
       "    <tr>\n",
       "      <th>2</th>\n",
       "      <td>2</td>\n",
       "      <td>VR6GpWIda3SfvPC-lg9H3w</td>\n",
       "      <td>2016-05-28</td>\n",
       "      <td>5</td>\n",
       "      <td>bv2nCi5Qv5vroFiqKGopiw</td>\n",
       "      <td>May</td>\n",
       "      <td>Saturday</td>\n",
       "      <td>4.67</td>\n",
       "      <td>0</td>\n",
       "      <td>0</td>\n",
       "      <td>0</td>\n",
       "      <td>6</td>\n",
       "      <td>1</td>\n",
       "      <td>Montréal</td>\n",
       "      <td>50</td>\n",
       "      <td>4.5</td>\n",
       "    </tr>\n",
       "  </tbody>\n",
       "</table>\n",
       "</div>"
      ],
      "text/plain": [
       "   Unnamed: 0             business_id        date  stars  \\\n",
       "0           0  0W4lkclzZThpx3V65bVgig  2016-05-28      5   \n",
       "1           1  AEx2SYEUJmTxVVB18LlCwA  2016-05-28      5   \n",
       "2           2  VR6GpWIda3SfvPC-lg9H3w  2016-05-28      5   \n",
       "\n",
       "                  user_id name_of_month day_of_week  user_average_stars  \\\n",
       "0  bv2nCi5Qv5vroFiqKGopiw           May    Saturday                4.67   \n",
       "1  bv2nCi5Qv5vroFiqKGopiw           May    Saturday                4.67   \n",
       "2  bv2nCi5Qv5vroFiqKGopiw           May    Saturday                4.67   \n",
       "\n",
       "   user_cool  user_funny  user_userful  user_num_reviews  user_num_friends  \\\n",
       "0          0           0             0                 6                 1   \n",
       "1          0           0             0                 6                 1   \n",
       "2          0           0             0                 6                 1   \n",
       "\n",
       "  business_city  business_num_reviews  business_average_stars  \n",
       "0      Montréal                  1953                     4.0  \n",
       "1      Montréal                    84                     4.0  \n",
       "2      Montréal                    50                     4.5  "
      ]
     },
     "execution_count": 23,
     "metadata": {},
     "output_type": "execute_result"
    }
   ],
   "source": [
    "# Read in Overall CSV\n",
    "df1 = pd.read_csv('Incomplete.csv')\n",
    "df1.head(3)"
   ]
  },
  {
   "cell_type": "code",
   "execution_count": 24,
   "metadata": {},
   "outputs": [
    {
     "name": "stdout",
     "output_type": "stream",
     "text": [
      "(array([1, 2, 3, 4, 5]), array([ 731363,  438161,  615481, 1223316, 2253348]))\n"
     ]
    }
   ],
   "source": [
    "# Find and Print Number of Each Unique Star Value\n",
    "nums = np.unique(df1['stars'], return_counts=True)\n",
    "print(nums)"
   ]
  },
  {
   "cell_type": "code",
   "execution_count": 30,
   "metadata": {},
   "outputs": [
    {
     "data": {
      "image/png": "[encoded data removed]",
      "text/plain": [
       "<Figure size 432x288 with 1 Axes>"
      ]
     },
     "metadata": {},
     "output_type": "display_data"
    }
   ],
   "source": [
    "# Graph the Distribution\n",
    "y = [731363,  438161,  615481, 1223316, 2253348]\n",
    "x = [1, 2, 3, 4, 5]\n",
    "width = 1/1.5\n",
    "plt.bar(x, y, width, color=\"blue\")\n",
    "fig = plt.gcf()"
   ]
  },
  {
   "cell_type": "markdown",
   "metadata": {},
   "source": [
    "### Find Distribution of Each Class in Multiclass Problem"
   ]
  },
  {
   "cell_type": "code",
   "execution_count": 31,
   "metadata": {},
   "outputs": [],
   "source": [
    "# Read in Neural Net CSV\n",
    "df2 = pd.read_csv('Neural_Net_df.csv')"
   ]
  },
  {
   "cell_type": "code",
   "execution_count": 32,
   "metadata": {},
   "outputs": [
    {
     "name": "stdout",
     "output_type": "stream",
     "text": [
      "(array([-0.68611132, -0.43611132, -0.18611132,  0.06388868,  0.31388868]), array([ 476110,  366647,  567991, 1111871, 1660579]))\n"
     ]
    }
   ],
   "source": [
    "# Find and Print Number of Each Unique Star Value\n",
    "nums = np.unique(df2['stars'], return_counts=True)\n",
    "print(nums)"
   ]
  },
  {
   "cell_type": "code",
   "execution_count": 33,
   "metadata": {},
   "outputs": [
    {
     "data": {
      "image/png": "[encoded data removed]",
      "text/plain": [
       "<Figure size 432x288 with 1 Axes>"
      ]
     },
     "metadata": {},
     "output_type": "display_data"
    }
   ],
   "source": [
    "# Graph the Distribution\n",
    "y = [476110,  366647,  567991, 1111871, 1660579]\n",
    "x = [1, 2, 3, 4, 5]\n",
    "width = 1/1.5\n",
    "plt.bar(x, y, width, color=\"blue\")\n",
    "fig = plt.gcf()"
   ]
  },
  {
   "cell_type": "code",
   "execution_count": 34,
   "metadata": {},
   "outputs": [],
   "source": [
    "# Read in Cold Start CSV\n",
    "df3 = pd.read_csv('Cold_Start_df.csv')"
   ]
  },
  {
   "cell_type": "code",
   "execution_count": 35,
   "metadata": {},
   "outputs": [
    {
     "name": "stdout",
     "output_type": "stream",
     "text": [
      "(array([-0.66573533, -0.41573533, -0.16573533,  0.08426467,  0.33426467]), array([255253,  71514,  47490, 111445, 592769]))\n"
     ]
    }
   ],
   "source": [
    "# Find and Print Number of Each Unique Star Value\n",
    "nums = np.unique(df3['stars'], return_counts=True)\n",
    "print(nums)"
   ]
  },
  {
   "cell_type": "code",
   "execution_count": 36,
   "metadata": {},
   "outputs": [
    {
     "data": {
      "image/png": "[encoded data removed]",
      "text/plain": [
       "<Figure size 432x288 with 1 Axes>"
      ]
     },
     "metadata": {},
     "output_type": "display_data"
    }
   ],
   "source": [
    "# Graph the Distribution\n",
    "y = [255253,  71514,  47490, 111445, 592769]\n",
    "x = [1, 2, 3, 4, 5]\n",
    "width = 1/1.5\n",
    "plt.bar(x, y, width, color=\"blue\")\n",
    "fig = plt.gcf()"
   ]
  },
  {
   "cell_type": "markdown",
   "metadata": {},
   "source": [
    "### Find Distribution of Each Class in Binary Class Problem"
   ]
  },
  {
   "cell_type": "code",
   "execution_count": 37,
   "metadata": {},
   "outputs": [],
   "source": [
    "# Read in Neural Net CSV\n",
    "df4 = pd.read_csv('Neural_Net_Binary_df.csv')"
   ]
  },
  {
   "cell_type": "code",
   "execution_count": 38,
   "metadata": {},
   "outputs": [
    {
     "name": "stdout",
     "output_type": "stream",
     "text": [
      "(array([-0.66275849,  0.33724151]), array([1410748, 2772450]))\n"
     ]
    }
   ],
   "source": [
    "# Find and Print Number of Each Unique Star Value\n",
    "nums = np.unique(df4['stars'], return_counts=True)\n",
    "print(nums)"
   ]
  },
  {
   "cell_type": "code",
   "execution_count": 42,
   "metadata": {},
   "outputs": [
    {
     "data": {
      "image/png": "[encoded data removed]",
      "text/plain": [
       "<Figure size 432x288 with 1 Axes>"
      ]
     },
     "metadata": {},
     "output_type": "display_data"
    }
   ],
   "source": [
    "# Graph the Distribution\n",
    "y = [1410748, 2772450]\n",
    "x = [1, 2]\n",
    "width = 1/1.5\n",
    "plt.bar(x, y, width, color=\"blue\")\n",
    "fig = plt.gcf()"
   ]
  },
  {
   "cell_type": "code",
   "execution_count": 43,
   "metadata": {},
   "outputs": [],
   "source": [
    "# Read in Cold Start CSV\n",
    "df5 = pd.read_csv('Cold_Start_Binary_df.csv')"
   ]
  },
  {
   "cell_type": "code",
   "execution_count": 44,
   "metadata": {},
   "outputs": [
    {
     "name": "stdout",
     "output_type": "stream",
     "text": [
      "(array([-0.65297444,  0.34702556]), array([374257, 704214]))\n"
     ]
    }
   ],
   "source": [
    "# Find and Print Number of Each Unique Star Value\n",
    "nums = np.unique(df5['stars'], return_counts=True)\n",
    "print(nums)"
   ]
  },
  {
   "cell_type": "code",
   "execution_count": 45,
   "metadata": {},
   "outputs": [
    {
     "data": {
      "image/png": "[encoded data removed]",
      "text/plain": [
       "<Figure size 432x288 with 1 Axes>"
      ]
     },
     "metadata": {},
     "output_type": "display_data"
    }
   ],
   "source": [
    "# Graph the Distribution\n",
    "y = [374257, 704214]\n",
    "x = [1, 2]\n",
    "width = 1/1.5\n",
    "plt.bar(x, y, width, color=\"blue\")\n",
    "fig = plt.gcf()"
   ]
  }
 ],
 "metadata": {
  "kernelspec": {
   "display_name": "REU",
   "language": "python",
   "name": "reu"
  },
  "language_info": {
   "codemirror_mode": {
    "name": "ipython",
    "version": 3
   },
   "file_extension": ".py",
   "mimetype": "text/x-python",
   "name": "python",
   "nbconvert_exporter": "python",
   "pygments_lexer": "ipython3",
   "version": "3.6.5"
  }
 },
 "nbformat": 4,
 "nbformat_minor": 2
}
