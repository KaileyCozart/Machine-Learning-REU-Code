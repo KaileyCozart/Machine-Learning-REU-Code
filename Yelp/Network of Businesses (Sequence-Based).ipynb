{
 "cells": [
  {
   "cell_type": "markdown",
   "metadata": {},
   "source": [
    "# Network of Businesses based on Sequences"
   ]
  },
  {
   "cell_type": "code",
   "execution_count": 74,
   "metadata": {},
   "outputs": [],
   "source": [
    "# Import necessary libraries\n",
    "import pandas as pd\n",
    "import matplotlib as mpl\n",
    "import matplotlib.pyplot as plt\n",
    "import json\n",
    "import collections\n",
    "from itertools import combinations\n",
    "import networkx as nx\n",
    "from glob import glob\n",
    "from networkx.algorithms import community\n",
    "%matplotlib inline"
   ]
  },
  {
   "cell_type": "markdown",
   "metadata": {},
   "source": [
    "## Edges: User's Sequenes of Services Visited"
   ]
  },
  {
   "cell_type": "code",
   "execution_count": 2,
   "metadata": {},
   "outputs": [],
   "source": [
    "# Read review objects into a dataframe\n",
    "Yelp_Reviews = pd.read_json('YelpDataset/review.json',lines=True)"
   ]
  },
  {
   "cell_type": "code",
   "execution_count": 3,
   "metadata": {},
   "outputs": [
    {
     "data": {
      "text/html": [
       "<div>\n",
       "<style scoped>\n",
       "    .dataframe tbody tr th:only-of-type {\n",
       "        vertical-align: middle;\n",
       "    }\n",
       "\n",
       "    .dataframe tbody tr th {\n",
       "        vertical-align: top;\n",
       "    }\n",
       "\n",
       "    .dataframe thead th {\n",
       "        text-align: right;\n",
       "    }\n",
       "</style>\n",
       "<table border=\"1\" class=\"dataframe\">\n",
       "  <thead>\n",
       "    <tr style=\"text-align: right;\">\n",
       "      <th></th>\n",
       "      <th>business_id</th>\n",
       "      <th>cool</th>\n",
       "      <th>date</th>\n",
       "      <th>funny</th>\n",
       "      <th>review_id</th>\n",
       "      <th>stars</th>\n",
       "      <th>text</th>\n",
       "      <th>useful</th>\n",
       "      <th>user_id</th>\n",
       "    </tr>\n",
       "  </thead>\n",
       "  <tbody>\n",
       "    <tr>\n",
       "      <th>0</th>\n",
       "      <td>0W4lkclzZThpx3V65bVgig</td>\n",
       "      <td>0</td>\n",
       "      <td>2016-05-28</td>\n",
       "      <td>0</td>\n",
       "      <td>v0i_UHJMo_hPBq9bxWvW4w</td>\n",
       "      <td>5</td>\n",
       "      <td>Love the staff, love the meat, love the place....</td>\n",
       "      <td>0</td>\n",
       "      <td>bv2nCi5Qv5vroFiqKGopiw</td>\n",
       "    </tr>\n",
       "    <tr>\n",
       "      <th>1</th>\n",
       "      <td>AEx2SYEUJmTxVVB18LlCwA</td>\n",
       "      <td>0</td>\n",
       "      <td>2016-05-28</td>\n",
       "      <td>0</td>\n",
       "      <td>vkVSCC7xljjrAI4UGfnKEQ</td>\n",
       "      <td>5</td>\n",
       "      <td>Super simple place but amazing nonetheless. It...</td>\n",
       "      <td>0</td>\n",
       "      <td>bv2nCi5Qv5vroFiqKGopiw</td>\n",
       "    </tr>\n",
       "    <tr>\n",
       "      <th>2</th>\n",
       "      <td>VR6GpWIda3SfvPC-lg9H3w</td>\n",
       "      <td>0</td>\n",
       "      <td>2016-05-28</td>\n",
       "      <td>0</td>\n",
       "      <td>n6QzIUObkYshz4dz2QRJTw</td>\n",
       "      <td>5</td>\n",
       "      <td>Small unassuming place that changes their menu...</td>\n",
       "      <td>0</td>\n",
       "      <td>bv2nCi5Qv5vroFiqKGopiw</td>\n",
       "    </tr>\n",
       "  </tbody>\n",
       "</table>\n",
       "</div>"
      ],
      "text/plain": [
       "              business_id  cool       date  funny               review_id  \\\n",
       "0  0W4lkclzZThpx3V65bVgig     0 2016-05-28      0  v0i_UHJMo_hPBq9bxWvW4w   \n",
       "1  AEx2SYEUJmTxVVB18LlCwA     0 2016-05-28      0  vkVSCC7xljjrAI4UGfnKEQ   \n",
       "2  VR6GpWIda3SfvPC-lg9H3w     0 2016-05-28      0  n6QzIUObkYshz4dz2QRJTw   \n",
       "\n",
       "   stars                                               text  useful  \\\n",
       "0      5  Love the staff, love the meat, love the place....       0   \n",
       "1      5  Super simple place but amazing nonetheless. It...       0   \n",
       "2      5  Small unassuming place that changes their menu...       0   \n",
       "\n",
       "                  user_id  \n",
       "0  bv2nCi5Qv5vroFiqKGopiw  \n",
       "1  bv2nCi5Qv5vroFiqKGopiw  \n",
       "2  bv2nCi5Qv5vroFiqKGopiw  "
      ]
     },
     "execution_count": 3,
     "metadata": {},
     "output_type": "execute_result"
    }
   ],
   "source": [
    "# Check head\n",
    "Yelp_Reviews.head(3)"
   ]
  },
  {
   "cell_type": "code",
   "execution_count": 54,
   "metadata": {},
   "outputs": [],
   "source": [
    "# print(Yelp_Reviews)"
   ]
  },
  {
   "cell_type": "code",
   "execution_count": 5,
   "metadata": {},
   "outputs": [
    {
     "data": {
      "text/plain": [
       "['business_id',\n",
       " 'cool',\n",
       " 'date',\n",
       " 'funny',\n",
       " 'review_id',\n",
       " 'stars',\n",
       " 'text',\n",
       " 'useful',\n",
       " 'user_id']"
      ]
     },
     "execution_count": 5,
     "metadata": {},
     "output_type": "execute_result"
    }
   ],
   "source": [
    "list(Yelp_Reviews)"
   ]
  },
  {
   "cell_type": "code",
   "execution_count": 6,
   "metadata": {},
   "outputs": [],
   "source": [
    "list_of_lists = []\n",
    "def create_lists():\n",
    "    temp_user = Yelp_Reviews['user_id'][0]\n",
    "    temp_list = []\n",
    "    for x in range(0, len(Yelp_Reviews) - 1):\n",
    "        if (temp_user == Yelp_Reviews['user_id'][x]):\n",
    "            # Append business id this current temp list\n",
    "            temp_tuple = (Yelp_Reviews['business_id'][x], Yelp_Reviews['date'][x])\n",
    "            temp_list.append(temp_tuple)\n",
    "        elif (temp_user != Yelp_Reviews['user_id'][x]):\n",
    "            # Append the current temp list to list of lists\n",
    "            list_of_lists.append(temp_list)\n",
    "            # Clear temp list\n",
    "            temp_list = []\n",
    "            # Add this value to the new temp list\n",
    "            temp_tuple = (Yelp_Reviews['business_id'][x], Yelp_Reviews['date'][x])\n",
    "            temp_list.append(temp_tuple)\n",
    "            # Make the new user the temp user\n",
    "            temp_user = Yelp_Reviews['user_id'][x]"
   ]
  },
  {
   "cell_type": "code",
   "execution_count": 7,
   "metadata": {},
   "outputs": [],
   "source": [
    "create_lists()"
   ]
  },
  {
   "cell_type": "code",
   "execution_count": 59,
   "metadata": {},
   "outputs": [],
   "source": [
    "# print(list_of_lists[:5])"
   ]
  },
  {
   "cell_type": "code",
   "execution_count": 56,
   "metadata": {},
   "outputs": [
    {
     "name": "stdout",
     "output_type": "stream",
     "text": [
      "[('0W4lkclzZThpx3V65bVgig', Timestamp('2016-05-28 00:00:00')), ('AEx2SYEUJmTxVVB18LlCwA', Timestamp('2016-05-28 00:00:00')), ('VR6GpWIda3SfvPC-lg9H3w', Timestamp('2016-05-28 00:00:00')), ('CKC0-MOWMqoeWf6s-szl8g', Timestamp('2016-05-28 00:00:00')), ('ACFtxLv8pGrrxMm6EgjreA', Timestamp('2016-05-28 00:00:00')), ('s2I_Ni76bjJNK9yG60iD-Q', Timestamp('2016-05-28 00:00:00'))]\n"
     ]
    }
   ],
   "source": [
    "print(list_of_lists[0])"
   ]
  },
  {
   "cell_type": "code",
   "execution_count": 17,
   "metadata": {},
   "outputs": [],
   "source": [
    "# Arrange tuples in each sublist based on time value\n",
    "time_arranged = []\n",
    "time_temp_list = []\n",
    "for x in range(0, len(list_of_lists) - 1):\n",
    "    time_temp_list = sorted(list_of_lists[x], key=lambda x: x[1])\n",
    "    time_arranged.append(time_temp_list)\n",
    "    time_temp_list = []"
   ]
  },
  {
   "cell_type": "code",
   "execution_count": 58,
   "metadata": {},
   "outputs": [
    {
     "data": {
      "text/plain": [
       "['8QWPlVQ6D-OExqXoaD2Z1g']"
      ]
     },
     "execution_count": 58,
     "metadata": {},
     "output_type": "execute_result"
    }
   ],
   "source": [
    "[item[0] for item in time_arranged[1]]"
   ]
  },
  {
   "cell_type": "code",
   "execution_count": 31,
   "metadata": {},
   "outputs": [],
   "source": [
    "# Put only the business info into a new list of lists\n",
    "temp_var = []\n",
    "id_only = []\n",
    "for x in range(0, len(list_of_lists) - 1):\n",
    "    temp_var = [item[0] for item in time_arranged[x]]\n",
    "    id_only.append(temp_var)"
   ]
  },
  {
   "cell_type": "code",
   "execution_count": 32,
   "metadata": {},
   "outputs": [
    {
     "name": "stdout",
     "output_type": "stream",
     "text": [
      "['0W4lkclzZThpx3V65bVgig', 'AEx2SYEUJmTxVVB18LlCwA', 'VR6GpWIda3SfvPC-lg9H3w', 'CKC0-MOWMqoeWf6s-szl8g', 'ACFtxLv8pGrrxMm6EgjreA', 's2I_Ni76bjJNK9yG60iD-Q']\n"
     ]
    }
   ],
   "source": [
    "# Check to see if function removed second item in tuples\n",
    "print(id_only[0])"
   ]
  },
  {
   "cell_type": "code",
   "execution_count": 47,
   "metadata": {},
   "outputs": [],
   "source": [
    "# Take each pair and make it into a tuple\n",
    "businesses_tuple = []\n",
    "\n",
    "for y in range(0, len(id_only) - 1):\n",
    "    for x in range(0, len(id_only[y]) - 1):\n",
    "        businesses_tuple.append((tuple(id_only[y][x:(x+2)])))"
   ]
  },
  {
   "cell_type": "code",
   "execution_count": 50,
   "metadata": {},
   "outputs": [
    {
     "name": "stdout",
     "output_type": "stream",
     "text": [
      "[('0W4lkclzZThpx3V65bVgig', 'AEx2SYEUJmTxVVB18LlCwA'), ('AEx2SYEUJmTxVVB18LlCwA', 'VR6GpWIda3SfvPC-lg9H3w'), ('VR6GpWIda3SfvPC-lg9H3w', 'CKC0-MOWMqoeWf6s-szl8g'), ('CKC0-MOWMqoeWf6s-szl8g', 'ACFtxLv8pGrrxMm6EgjreA'), ('ACFtxLv8pGrrxMm6EgjreA', 's2I_Ni76bjJNK9yG60iD-Q'), ('0-yj2jtzLUHG2b7PpEHyog', '7Uti5EeAwm3drG14KVrE3Q'), ('7Uti5EeAwm3drG14KVrE3Q', 'SCklYa_jhihWAcfIn-_chg'), ('SCklYa_jhihWAcfIn-_chg', 'lRwpFFaFr3QQ5fGHkk3eXQ'), ('lRwpFFaFr3QQ5fGHkk3eXQ', 'Aov96CM4FZAXeZvKtsStdA'), ('Aov96CM4FZAXeZvKtsStdA', 'yaViddk9vxi-7p8DnjoClw')]\n"
     ]
    }
   ],
   "source": [
    "print(businesses_tuple[:10])"
   ]
  },
  {
   "cell_type": "code",
   "execution_count": 60,
   "metadata": {},
   "outputs": [],
   "source": [
    "### Edges stored in \" businesses_tuple \""
   ]
  },
  {
   "cell_type": "markdown",
   "metadata": {},
   "source": [
    "## Vertices: Business ID's"
   ]
  },
  {
   "cell_type": "code",
   "execution_count": 61,
   "metadata": {},
   "outputs": [],
   "source": [
    "# Read review objects into a dataframe\n",
    "Yelp_Businesses = pd.read_json('YelpDataset/business.json',lines=True)"
   ]
  },
  {
   "cell_type": "code",
   "execution_count": 62,
   "metadata": {},
   "outputs": [
    {
     "data": {
      "text/html": [
       "<div>\n",
       "<style scoped>\n",
       "    .dataframe tbody tr th:only-of-type {\n",
       "        vertical-align: middle;\n",
       "    }\n",
       "\n",
       "    .dataframe tbody tr th {\n",
       "        vertical-align: top;\n",
       "    }\n",
       "\n",
       "    .dataframe thead th {\n",
       "        text-align: right;\n",
       "    }\n",
       "</style>\n",
       "<table border=\"1\" class=\"dataframe\">\n",
       "  <thead>\n",
       "    <tr style=\"text-align: right;\">\n",
       "      <th></th>\n",
       "      <th>address</th>\n",
       "      <th>attributes</th>\n",
       "      <th>business_id</th>\n",
       "      <th>categories</th>\n",
       "      <th>city</th>\n",
       "      <th>hours</th>\n",
       "      <th>is_open</th>\n",
       "      <th>latitude</th>\n",
       "      <th>longitude</th>\n",
       "      <th>name</th>\n",
       "      <th>neighborhood</th>\n",
       "      <th>postal_code</th>\n",
       "      <th>review_count</th>\n",
       "      <th>stars</th>\n",
       "      <th>state</th>\n",
       "    </tr>\n",
       "  </thead>\n",
       "  <tbody>\n",
       "    <tr>\n",
       "      <th>0</th>\n",
       "      <td>4855 E Warner Rd, Ste B9</td>\n",
       "      <td>{'AcceptsInsurance': True, 'ByAppointmentOnly'...</td>\n",
       "      <td>FYWN1wneV18bWNgQjJ2GNg</td>\n",
       "      <td>[Dentists, General Dentistry, Health &amp; Medical...</td>\n",
       "      <td>Ahwatukee</td>\n",
       "      <td>{'Friday': '7:30-17:00', 'Tuesday': '7:30-17:0...</td>\n",
       "      <td>1</td>\n",
       "      <td>33.330690</td>\n",
       "      <td>-111.978599</td>\n",
       "      <td>Dental by Design</td>\n",
       "      <td></td>\n",
       "      <td>85044</td>\n",
       "      <td>22</td>\n",
       "      <td>4.0</td>\n",
       "      <td>AZ</td>\n",
       "    </tr>\n",
       "    <tr>\n",
       "      <th>1</th>\n",
       "      <td>3101 Washington Rd</td>\n",
       "      <td>{'BusinessParking': {'garage': False, 'street'...</td>\n",
       "      <td>He-G7vWjzVUysIKrfNbPUQ</td>\n",
       "      <td>[Hair Stylists, Hair Salons, Men's Hair Salons...</td>\n",
       "      <td>McMurray</td>\n",
       "      <td>{'Monday': '9:00-20:00', 'Tuesday': '9:00-20:0...</td>\n",
       "      <td>1</td>\n",
       "      <td>40.291685</td>\n",
       "      <td>-80.104900</td>\n",
       "      <td>Stephen Szabo Salon</td>\n",
       "      <td></td>\n",
       "      <td>15317</td>\n",
       "      <td>11</td>\n",
       "      <td>3.0</td>\n",
       "      <td>PA</td>\n",
       "    </tr>\n",
       "    <tr>\n",
       "      <th>2</th>\n",
       "      <td>6025 N 27th Ave, Ste 1</td>\n",
       "      <td>{}</td>\n",
       "      <td>KQPW8lFf1y5BT2MxiSZ3QA</td>\n",
       "      <td>[Departments of Motor Vehicles, Public Service...</td>\n",
       "      <td>Phoenix</td>\n",
       "      <td>{}</td>\n",
       "      <td>1</td>\n",
       "      <td>33.524903</td>\n",
       "      <td>-112.115310</td>\n",
       "      <td>Western Motor Vehicle</td>\n",
       "      <td></td>\n",
       "      <td>85017</td>\n",
       "      <td>18</td>\n",
       "      <td>1.5</td>\n",
       "      <td>AZ</td>\n",
       "    </tr>\n",
       "  </tbody>\n",
       "</table>\n",
       "</div>"
      ],
      "text/plain": [
       "                    address  \\\n",
       "0  4855 E Warner Rd, Ste B9   \n",
       "1        3101 Washington Rd   \n",
       "2    6025 N 27th Ave, Ste 1   \n",
       "\n",
       "                                          attributes             business_id  \\\n",
       "0  {'AcceptsInsurance': True, 'ByAppointmentOnly'...  FYWN1wneV18bWNgQjJ2GNg   \n",
       "1  {'BusinessParking': {'garage': False, 'street'...  He-G7vWjzVUysIKrfNbPUQ   \n",
       "2                                                 {}  KQPW8lFf1y5BT2MxiSZ3QA   \n",
       "\n",
       "                                          categories       city  \\\n",
       "0  [Dentists, General Dentistry, Health & Medical...  Ahwatukee   \n",
       "1  [Hair Stylists, Hair Salons, Men's Hair Salons...   McMurray   \n",
       "2  [Departments of Motor Vehicles, Public Service...    Phoenix   \n",
       "\n",
       "                                               hours  is_open   latitude  \\\n",
       "0  {'Friday': '7:30-17:00', 'Tuesday': '7:30-17:0...        1  33.330690   \n",
       "1  {'Monday': '9:00-20:00', 'Tuesday': '9:00-20:0...        1  40.291685   \n",
       "2                                                 {}        1  33.524903   \n",
       "\n",
       "    longitude                   name neighborhood postal_code  review_count  \\\n",
       "0 -111.978599       Dental by Design                    85044            22   \n",
       "1  -80.104900    Stephen Szabo Salon                    15317            11   \n",
       "2 -112.115310  Western Motor Vehicle                    85017            18   \n",
       "\n",
       "   stars state  \n",
       "0    4.0    AZ  \n",
       "1    3.0    PA  \n",
       "2    1.5    AZ  "
      ]
     },
     "execution_count": 62,
     "metadata": {},
     "output_type": "execute_result"
    }
   ],
   "source": [
    "# Check head\n",
    "Yelp_Businesses.head(3)"
   ]
  },
  {
   "cell_type": "code",
   "execution_count": 63,
   "metadata": {},
   "outputs": [],
   "source": [
    "# Put business id's into a list to represent the vertices\n",
    "Business_IDs = []\n",
    "for x in range(0, (len(Yelp_Businesses) - 1)):\n",
    "    Business_IDs.append(Yelp_Businesses['business_id'][x])"
   ]
  },
  {
   "cell_type": "code",
   "execution_count": 64,
   "metadata": {},
   "outputs": [
    {
     "name": "stdout",
     "output_type": "stream",
     "text": [
      "['FYWN1wneV18bWNgQjJ2GNg', 'He-G7vWjzVUysIKrfNbPUQ', 'KQPW8lFf1y5BT2MxiSZ3QA', '8DShNS-LuFqpEWIp0HxijA', 'PfOCPjBrlQAnz__NXj9h_w']\n"
     ]
    }
   ],
   "source": [
    "# Ensure the correct information has been appended\n",
    "print(Business_IDs[:5])"
   ]
  },
  {
   "cell_type": "code",
   "execution_count": 65,
   "metadata": {},
   "outputs": [
    {
     "name": "stdout",
     "output_type": "stream",
     "text": [
      "174566\n"
     ]
    }
   ],
   "source": [
    "# Check the number of nodes\n",
    "print(len(Business_IDs))"
   ]
  },
  {
   "cell_type": "code",
   "execution_count": 66,
   "metadata": {},
   "outputs": [],
   "source": [
    "### Vertices or nodes stored in \" Business_IDs \""
   ]
  },
  {
   "cell_type": "markdown",
   "metadata": {},
   "source": [
    "## Creating the Network"
   ]
  },
  {
   "cell_type": "code",
   "execution_count": 67,
   "metadata": {},
   "outputs": [],
   "source": [
    "G=nx.DiGraph()"
   ]
  },
  {
   "cell_type": "code",
   "execution_count": 68,
   "metadata": {},
   "outputs": [],
   "source": [
    "# Add Nodes\n",
    "G.add_nodes_from(Business_IDs)"
   ]
  },
  {
   "cell_type": "code",
   "execution_count": 69,
   "metadata": {},
   "outputs": [
    {
     "name": "stdout",
     "output_type": "stream",
     "text": [
      "edges added\n"
     ]
    }
   ],
   "source": [
    "# Add Edges\n",
    "G.add_edges_from(businesses_tuple)\n",
    "print('edges added')"
   ]
  },
  {
   "cell_type": "code",
   "execution_count": 70,
   "metadata": {},
   "outputs": [
    {
     "data": {
      "text/plain": [
       "174567"
      ]
     },
     "execution_count": 70,
     "metadata": {},
     "output_type": "execute_result"
    }
   ],
   "source": [
    "G.number_of_nodes()"
   ]
  },
  {
   "cell_type": "code",
   "execution_count": 71,
   "metadata": {},
   "outputs": [
    {
     "data": {
      "text/plain": [
       "3617982"
      ]
     },
     "execution_count": 71,
     "metadata": {},
     "output_type": "execute_result"
    }
   ],
   "source": [
    "G.number_of_edges()"
   ]
  },
  {
   "cell_type": "code",
   "execution_count": 72,
   "metadata": {},
   "outputs": [
    {
     "name": "stdout",
     "output_type": "stream",
     "text": [
      "174567\n",
      "173019\n"
     ]
    }
   ],
   "source": [
    "# Remove Vertices That Don't Have Any Edge Connections\n",
    "# REFERENCED: https://stackoverflow.com/questions/18261587/python-networkx-remove-nodes-and-edges-with-some-condition?utm_medium=organic&utm_source=google_rich_qa&utm_campaign=google_rich_qa\n",
    "remove = [node for node,degree in G.degree() if degree < 1]\n",
    "print(len(G.nodes))\n",
    "G.remove_nodes_from(remove)\n",
    "print(len(G.nodes))"
   ]
  },
  {
   "cell_type": "code",
   "execution_count": 87,
   "metadata": {},
   "outputs": [
    {
     "data": {
      "image/png": "[encoded data removed]",
      "text/plain": [
       "<Figure size 432x288 with 1 Axes>"
      ]
     },
     "metadata": {},
     "output_type": "display_data"
    }
   ],
   "source": [
    "# Find the distribution of degrees\n",
    "\n",
    "degree_sequence = sorted([d for n, d in G.degree()], reverse=True)\n",
    "degreeCount = collections.Counter(degree_sequence)\n",
    "deg, cnt = zip(*degreeCount.items())\n",
    "\n",
    "fig, ax = plt.subplots()\n",
    "plt.bar(deg, cnt, width=1, color='b')\n",
    "\n",
    "plt.title(\"Degree Histogram\")\n",
    "plt.ylabel(\"Count\")\n",
    "plt.xlabel(\"Degree\")\n",
    "\n",
    "ax.set_xlim(0, 400)\n",
    "\n",
    "plt.savefig(\"images/Net1.png\")\n",
    "plt.show()"
   ]
  }
 ],
 "metadata": {
  "kernelspec": {
   "display_name": "Python 3",
   "language": "python",
   "name": "python3"
  },
  "language_info": {
   "codemirror_mode": {
    "name": "ipython",
    "version": 3
   },
   "file_extension": ".py",
   "mimetype": "text/x-python",
   "name": "python",
   "nbconvert_exporter": "python",
   "pygments_lexer": "ipython3",
   "version": "3.6.5"
  }
 },
 "nbformat": 4,
 "nbformat_minor": 2
}
