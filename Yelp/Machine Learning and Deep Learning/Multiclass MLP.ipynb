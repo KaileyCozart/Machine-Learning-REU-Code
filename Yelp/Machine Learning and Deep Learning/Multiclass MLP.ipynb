{
 "cells": [
  {
   "cell_type": "markdown",
   "metadata": {},
   "source": [
    "# Yelp and Simple MLP"
   ]
  },
  {
   "cell_type": "markdown",
   "metadata": {},
   "source": [
    "### Read in CSV"
   ]
  },
  {
   "cell_type": "code",
   "execution_count": 1,
   "metadata": {},
   "outputs": [
    {
     "name": "stderr",
     "output_type": "stream",
     "text": [
      "/home/kcozart/anaconda3/lib/python3.6/site-packages/h5py/__init__.py:36: FutureWarning: Conversion of the second argument of issubdtype from `float` to `np.floating` is deprecated. In future, it will be treated as `np.float64 == np.dtype(float).type`.\n",
      "  from ._conv import register_converters as _register_converters\n",
      "Using TensorFlow backend.\n"
     ]
    }
   ],
   "source": [
    "import pandas as pd\n",
    "import numpy as np\n",
    "import keras\n",
    "import tensorflow as tf\n",
    "\n",
    "from keras.models import Sequential\n",
    "from keras.layers.core import Dense, Activation, Dropout\n",
    "from keras.utils import np_utils"
   ]
  },
  {
   "cell_type": "code",
   "execution_count": 2,
   "metadata": {},
   "outputs": [],
   "source": [
    "session_conf = tf.ConfigProto(\n",
    "      intra_op_parallelism_threads=1,\n",
    "      inter_op_parallelism_threads=1)\n",
    "sess = tf.Session(config=session_conf)"
   ]
  },
  {
   "cell_type": "code",
   "execution_count": 3,
   "metadata": {},
   "outputs": [],
   "source": [
    "df = pd.read_csv('HOPEFUL.csv')"
   ]
  },
  {
   "cell_type": "code",
   "execution_count": 4,
   "metadata": {},
   "outputs": [
    {
     "data": {
      "text/html": [
       "<div>\n",
       "<style scoped>\n",
       "    .dataframe tbody tr th:only-of-type {\n",
       "        vertical-align: middle;\n",
       "    }\n",
       "\n",
       "    .dataframe tbody tr th {\n",
       "        vertical-align: top;\n",
       "    }\n",
       "\n",
       "    .dataframe thead th {\n",
       "        text-align: right;\n",
       "    }\n",
       "</style>\n",
       "<table border=\"1\" class=\"dataframe\">\n",
       "  <thead>\n",
       "    <tr style=\"text-align: right;\">\n",
       "      <th></th>\n",
       "      <th>stars</th>\n",
       "      <th>name_of_month</th>\n",
       "      <th>day_of_week</th>\n",
       "      <th>user_average_stars</th>\n",
       "      <th>user_num_reviews</th>\n",
       "      <th>user_num_friends</th>\n",
       "      <th>business_num_reviews</th>\n",
       "      <th>business_average_stars</th>\n",
       "      <th>business_catgrylv2</th>\n",
       "      <th>business_catgrylv1</th>\n",
       "      <th>business_lat</th>\n",
       "      <th>business_long</th>\n",
       "      <th>lv1Cat_Av</th>\n",
       "      <th>lv2Cat_Av</th>\n",
       "      <th>zipCodeBusiness_Av</th>\n",
       "      <th>zipCodeUser_Av</th>\n",
       "      <th>zipCodeUser_WeightedAv</th>\n",
       "      <th>zipCodeUserCount</th>\n",
       "    </tr>\n",
       "  </thead>\n",
       "  <tbody>\n",
       "    <tr>\n",
       "      <th>0</th>\n",
       "      <td>5</td>\n",
       "      <td>May</td>\n",
       "      <td>Saturday</td>\n",
       "      <td>4.67</td>\n",
       "      <td>6</td>\n",
       "      <td>1</td>\n",
       "      <td>1953</td>\n",
       "      <td>4.0</td>\n",
       "      <td>Bars</td>\n",
       "      <td>Breakfast &amp; Brunch</td>\n",
       "      <td>45.516373</td>\n",
       "      <td>-73.577537</td>\n",
       "      <td>3.739232</td>\n",
       "      <td>3.731733</td>\n",
       "      <td>3.980257</td>\n",
       "      <td>3.779459</td>\n",
       "      <td>3.720424</td>\n",
       "      <td>2162</td>\n",
       "    </tr>\n",
       "    <tr>\n",
       "      <th>1</th>\n",
       "      <td>5</td>\n",
       "      <td>May</td>\n",
       "      <td>Saturday</td>\n",
       "      <td>4.67</td>\n",
       "      <td>6</td>\n",
       "      <td>1</td>\n",
       "      <td>84</td>\n",
       "      <td>4.0</td>\n",
       "      <td>Bars</td>\n",
       "      <td>Food</td>\n",
       "      <td>45.523333</td>\n",
       "      <td>-73.594859</td>\n",
       "      <td>3.719693</td>\n",
       "      <td>3.731733</td>\n",
       "      <td>4.031579</td>\n",
       "      <td>3.875368</td>\n",
       "      <td>3.711489</td>\n",
       "      <td>95</td>\n",
       "    </tr>\n",
       "    <tr>\n",
       "      <th>2</th>\n",
       "      <td>5</td>\n",
       "      <td>May</td>\n",
       "      <td>Saturday</td>\n",
       "      <td>4.67</td>\n",
       "      <td>6</td>\n",
       "      <td>1</td>\n",
       "      <td>50</td>\n",
       "      <td>4.5</td>\n",
       "      <td>Bars</td>\n",
       "      <td>Breakfast &amp; Brunch</td>\n",
       "      <td>45.472902</td>\n",
       "      <td>-73.588321</td>\n",
       "      <td>3.739232</td>\n",
       "      <td>3.731733</td>\n",
       "      <td>4.280899</td>\n",
       "      <td>3.843488</td>\n",
       "      <td>3.927304</td>\n",
       "      <td>86</td>\n",
       "    </tr>\n",
       "    <tr>\n",
       "      <th>3</th>\n",
       "      <td>5</td>\n",
       "      <td>May</td>\n",
       "      <td>Saturday</td>\n",
       "      <td>4.67</td>\n",
       "      <td>6</td>\n",
       "      <td>1</td>\n",
       "      <td>70</td>\n",
       "      <td>4.0</td>\n",
       "      <td>Bars</td>\n",
       "      <td>Breakfast &amp; Brunch</td>\n",
       "      <td>45.522144</td>\n",
       "      <td>-73.607076</td>\n",
       "      <td>3.739232</td>\n",
       "      <td>3.731733</td>\n",
       "      <td>3.943038</td>\n",
       "      <td>3.837975</td>\n",
       "      <td>3.851323</td>\n",
       "      <td>79</td>\n",
       "    </tr>\n",
       "  </tbody>\n",
       "</table>\n",
       "</div>"
      ],
      "text/plain": [
       "   stars name_of_month day_of_week  user_average_stars  user_num_reviews  \\\n",
       "0      5           May    Saturday                4.67                 6   \n",
       "1      5           May    Saturday                4.67                 6   \n",
       "2      5           May    Saturday                4.67                 6   \n",
       "3      5           May    Saturday                4.67                 6   \n",
       "\n",
       "   user_num_friends  business_num_reviews  business_average_stars  \\\n",
       "0                 1                  1953                     4.0   \n",
       "1                 1                    84                     4.0   \n",
       "2                 1                    50                     4.5   \n",
       "3                 1                    70                     4.0   \n",
       "\n",
       "  business_catgrylv2  business_catgrylv1  business_lat  business_long  \\\n",
       "0               Bars  Breakfast & Brunch     45.516373     -73.577537   \n",
       "1               Bars                Food     45.523333     -73.594859   \n",
       "2               Bars  Breakfast & Brunch     45.472902     -73.588321   \n",
       "3               Bars  Breakfast & Brunch     45.522144     -73.607076   \n",
       "\n",
       "   lv1Cat_Av  lv2Cat_Av  zipCodeBusiness_Av  zipCodeUser_Av  \\\n",
       "0   3.739232   3.731733            3.980257        3.779459   \n",
       "1   3.719693   3.731733            4.031579        3.875368   \n",
       "2   3.739232   3.731733            4.280899        3.843488   \n",
       "3   3.739232   3.731733            3.943038        3.837975   \n",
       "\n",
       "   zipCodeUser_WeightedAv  zipCodeUserCount  \n",
       "0                3.720424              2162  \n",
       "1                3.711489                95  \n",
       "2                3.927304                86  \n",
       "3                3.851323                79  "
      ]
     },
     "execution_count": 4,
     "metadata": {},
     "output_type": "execute_result"
    }
   ],
   "source": [
    "df = df.drop(df.columns[df.columns.str.contains('unnamed', case = False)],axis = 1)\n",
    "df = df.drop(['business_id', 'date', 'user_id', 'user_cool', 'user_funny', 'user_userful', 'business_city', 'business_zip'], axis=1)\n",
    "df.head(4)"
   ]
  },
  {
   "cell_type": "code",
   "execution_count": 5,
   "metadata": {},
   "outputs": [
    {
     "data": {
      "text/html": [
       "<div>\n",
       "<style scoped>\n",
       "    .dataframe tbody tr th:only-of-type {\n",
       "        vertical-align: middle;\n",
       "    }\n",
       "\n",
       "    .dataframe tbody tr th {\n",
       "        vertical-align: top;\n",
       "    }\n",
       "\n",
       "    .dataframe thead th {\n",
       "        text-align: right;\n",
       "    }\n",
       "</style>\n",
       "<table border=\"1\" class=\"dataframe\">\n",
       "  <thead>\n",
       "    <tr style=\"text-align: right;\">\n",
       "      <th></th>\n",
       "      <th>stars</th>\n",
       "      <th>name_of_month</th>\n",
       "      <th>day_of_week</th>\n",
       "      <th>user_average_stars</th>\n",
       "      <th>user_num_reviews</th>\n",
       "      <th>user_num_friends</th>\n",
       "      <th>business_num_reviews</th>\n",
       "      <th>business_average_stars</th>\n",
       "      <th>business_catgrylv2</th>\n",
       "      <th>business_catgrylv1</th>\n",
       "      <th>business_lat</th>\n",
       "      <th>business_long</th>\n",
       "      <th>lv1Cat_Av</th>\n",
       "      <th>lv2Cat_Av</th>\n",
       "      <th>zipCodeBusiness_Av</th>\n",
       "      <th>zipCodeUser_Av</th>\n",
       "      <th>zipCodeUser_WeightedAv</th>\n",
       "      <th>zipCodeUserCount</th>\n",
       "    </tr>\n",
       "  </thead>\n",
       "  <tbody>\n",
       "    <tr>\n",
       "      <th>0</th>\n",
       "      <td>5</td>\n",
       "      <td>8</td>\n",
       "      <td>2</td>\n",
       "      <td>4.67</td>\n",
       "      <td>6</td>\n",
       "      <td>1</td>\n",
       "      <td>1953</td>\n",
       "      <td>4.0</td>\n",
       "      <td>1</td>\n",
       "      <td>9</td>\n",
       "      <td>45.516373</td>\n",
       "      <td>-73.577537</td>\n",
       "      <td>3.739232</td>\n",
       "      <td>3.731733</td>\n",
       "      <td>3.980257</td>\n",
       "      <td>3.779459</td>\n",
       "      <td>3.720424</td>\n",
       "      <td>2162</td>\n",
       "    </tr>\n",
       "    <tr>\n",
       "      <th>1</th>\n",
       "      <td>5</td>\n",
       "      <td>8</td>\n",
       "      <td>2</td>\n",
       "      <td>4.67</td>\n",
       "      <td>6</td>\n",
       "      <td>1</td>\n",
       "      <td>84</td>\n",
       "      <td>4.0</td>\n",
       "      <td>1</td>\n",
       "      <td>22</td>\n",
       "      <td>45.523333</td>\n",
       "      <td>-73.594859</td>\n",
       "      <td>3.719693</td>\n",
       "      <td>3.731733</td>\n",
       "      <td>4.031579</td>\n",
       "      <td>3.875368</td>\n",
       "      <td>3.711489</td>\n",
       "      <td>95</td>\n",
       "    </tr>\n",
       "    <tr>\n",
       "      <th>2</th>\n",
       "      <td>5</td>\n",
       "      <td>8</td>\n",
       "      <td>2</td>\n",
       "      <td>4.67</td>\n",
       "      <td>6</td>\n",
       "      <td>1</td>\n",
       "      <td>50</td>\n",
       "      <td>4.5</td>\n",
       "      <td>1</td>\n",
       "      <td>9</td>\n",
       "      <td>45.472902</td>\n",
       "      <td>-73.588321</td>\n",
       "      <td>3.739232</td>\n",
       "      <td>3.731733</td>\n",
       "      <td>4.280899</td>\n",
       "      <td>3.843488</td>\n",
       "      <td>3.927304</td>\n",
       "      <td>86</td>\n",
       "    </tr>\n",
       "  </tbody>\n",
       "</table>\n",
       "</div>"
      ],
      "text/plain": [
       "   stars  name_of_month  day_of_week  user_average_stars  user_num_reviews  \\\n",
       "0      5              8            2                4.67                 6   \n",
       "1      5              8            2                4.67                 6   \n",
       "2      5              8            2                4.67                 6   \n",
       "\n",
       "   user_num_friends  business_num_reviews  business_average_stars  \\\n",
       "0                 1                  1953                     4.0   \n",
       "1                 1                    84                     4.0   \n",
       "2                 1                    50                     4.5   \n",
       "\n",
       "   business_catgrylv2  business_catgrylv1  business_lat  business_long  \\\n",
       "0                   1                   9     45.516373     -73.577537   \n",
       "1                   1                  22     45.523333     -73.594859   \n",
       "2                   1                   9     45.472902     -73.588321   \n",
       "\n",
       "   lv1Cat_Av  lv2Cat_Av  zipCodeBusiness_Av  zipCodeUser_Av  \\\n",
       "0   3.739232   3.731733            3.980257        3.779459   \n",
       "1   3.719693   3.731733            4.031579        3.875368   \n",
       "2   3.739232   3.731733            4.280899        3.843488   \n",
       "\n",
       "   zipCodeUser_WeightedAv  zipCodeUserCount  \n",
       "0                3.720424              2162  \n",
       "1                3.711489                95  \n",
       "2                3.927304                86  "
      ]
     },
     "execution_count": 5,
     "metadata": {},
     "output_type": "execute_result"
    }
   ],
   "source": [
    "# Label Encode Categorical Data\n",
    "# name_of_month\n",
    "df['name_of_month'] = df['name_of_month'].astype('category')\n",
    "df['name_of_month'] = df['name_of_month'].cat.codes\n",
    "\n",
    "# day_of_week\n",
    "df['day_of_week'] = df['day_of_week'].astype('category')\n",
    "df['day_of_week'] = df['day_of_week'].cat.codes\n",
    "\n",
    "# business_catgrylv2\n",
    "df['business_catgrylv2'] = df['business_catgrylv2'].astype('category')\n",
    "df['business_catgrylv2'] = df['business_catgrylv2'].cat.codes\n",
    "\n",
    "# business_catgrylv1\n",
    "df['business_catgrylv1'] = df['business_catgrylv1'].astype('category')\n",
    "df['business_catgrylv1'] = df['business_catgrylv1'].cat.codes\n",
    "\n",
    "# Check Categorization\n",
    "df.head(3)"
   ]
  },
  {
   "cell_type": "code",
   "execution_count": 6,
   "metadata": {},
   "outputs": [
    {
     "data": {
      "text/html": [
       "<div>\n",
       "<style scoped>\n",
       "    .dataframe tbody tr th:only-of-type {\n",
       "        vertical-align: middle;\n",
       "    }\n",
       "\n",
       "    .dataframe tbody tr th {\n",
       "        vertical-align: top;\n",
       "    }\n",
       "\n",
       "    .dataframe thead th {\n",
       "        text-align: right;\n",
       "    }\n",
       "</style>\n",
       "<table border=\"1\" class=\"dataframe\">\n",
       "  <thead>\n",
       "    <tr style=\"text-align: right;\">\n",
       "      <th></th>\n",
       "      <th>stars</th>\n",
       "      <th>name_of_month</th>\n",
       "      <th>day_of_week</th>\n",
       "      <th>user_average_stars</th>\n",
       "      <th>user_num_reviews</th>\n",
       "      <th>user_num_friends</th>\n",
       "      <th>business_num_reviews</th>\n",
       "      <th>business_average_stars</th>\n",
       "      <th>business_catgrylv2</th>\n",
       "      <th>business_catgrylv1</th>\n",
       "      <th>business_lat</th>\n",
       "      <th>business_long</th>\n",
       "      <th>lv1Cat_Av</th>\n",
       "      <th>lv2Cat_Av</th>\n",
       "      <th>zipCodeBusiness_Av</th>\n",
       "      <th>zipCodeUser_Av</th>\n",
       "      <th>zipCodeUser_WeightedAv</th>\n",
       "      <th>zipCodeUserCount</th>\n",
       "    </tr>\n",
       "  </thead>\n",
       "  <tbody>\n",
       "    <tr>\n",
       "      <th>0</th>\n",
       "      <td>0.317834</td>\n",
       "      <td>0.223576</td>\n",
       "      <td>-0.166741</td>\n",
       "      <td>0.233088</td>\n",
       "      <td>-0.009673</td>\n",
       "      <td>-0.007536</td>\n",
       "      <td>0.217769</td>\n",
       "      <td>0.067103</td>\n",
       "      <td>-0.261601</td>\n",
       "      <td>-0.301905</td>\n",
       "      <td>0.065042</td>\n",
       "      <td>0.105853</td>\n",
       "      <td>0.004180</td>\n",
       "      <td>0.000537</td>\n",
       "      <td>0.062301</td>\n",
       "      <td>0.011980</td>\n",
       "      <td>-0.006591</td>\n",
       "      <td>-0.152566</td>\n",
       "    </tr>\n",
       "    <tr>\n",
       "      <th>1</th>\n",
       "      <td>0.317834</td>\n",
       "      <td>0.223576</td>\n",
       "      <td>-0.166741</td>\n",
       "      <td>0.233088</td>\n",
       "      <td>-0.009673</td>\n",
       "      <td>-0.007536</td>\n",
       "      <td>-0.036240</td>\n",
       "      <td>0.067103</td>\n",
       "      <td>-0.261601</td>\n",
       "      <td>-0.051905</td>\n",
       "      <td>0.065097</td>\n",
       "      <td>0.105786</td>\n",
       "      <td>-0.006062</td>\n",
       "      <td>0.000537</td>\n",
       "      <td>0.075132</td>\n",
       "      <td>0.035957</td>\n",
       "      <td>-0.008825</td>\n",
       "      <td>-0.161757</td>\n",
       "    </tr>\n",
       "    <tr>\n",
       "      <th>2</th>\n",
       "      <td>0.317834</td>\n",
       "      <td>0.223576</td>\n",
       "      <td>-0.166741</td>\n",
       "      <td>0.233088</td>\n",
       "      <td>-0.009673</td>\n",
       "      <td>-0.007536</td>\n",
       "      <td>-0.040861</td>\n",
       "      <td>0.192103</td>\n",
       "      <td>-0.261601</td>\n",
       "      <td>-0.301905</td>\n",
       "      <td>0.064697</td>\n",
       "      <td>0.105812</td>\n",
       "      <td>0.004180</td>\n",
       "      <td>0.000537</td>\n",
       "      <td>0.137462</td>\n",
       "      <td>0.027987</td>\n",
       "      <td>0.045128</td>\n",
       "      <td>-0.161797</td>\n",
       "    </tr>\n",
       "  </tbody>\n",
       "</table>\n",
       "</div>"
      ],
      "text/plain": [
       "      stars  name_of_month  day_of_week  user_average_stars  user_num_reviews  \\\n",
       "0  0.317834       0.223576    -0.166741            0.233088         -0.009673   \n",
       "1  0.317834       0.223576    -0.166741            0.233088         -0.009673   \n",
       "2  0.317834       0.223576    -0.166741            0.233088         -0.009673   \n",
       "\n",
       "   user_num_friends  business_num_reviews  business_average_stars  \\\n",
       "0         -0.007536              0.217769                0.067103   \n",
       "1         -0.007536             -0.036240                0.067103   \n",
       "2         -0.007536             -0.040861                0.192103   \n",
       "\n",
       "   business_catgrylv2  business_catgrylv1  business_lat  business_long  \\\n",
       "0           -0.261601           -0.301905      0.065042       0.105853   \n",
       "1           -0.261601           -0.051905      0.065097       0.105786   \n",
       "2           -0.261601           -0.301905      0.064697       0.105812   \n",
       "\n",
       "   lv1Cat_Av  lv2Cat_Av  zipCodeBusiness_Av  zipCodeUser_Av  \\\n",
       "0   0.004180   0.000537            0.062301        0.011980   \n",
       "1  -0.006062   0.000537            0.075132        0.035957   \n",
       "2   0.004180   0.000537            0.137462        0.027987   \n",
       "\n",
       "   zipCodeUser_WeightedAv  zipCodeUserCount  \n",
       "0               -0.006591         -0.152566  \n",
       "1               -0.008825         -0.161757  \n",
       "2                0.045128         -0.161797  "
      ]
     },
     "execution_count": 6,
     "metadata": {},
     "output_type": "execute_result"
    }
   ],
   "source": [
    "# Normalize\n",
    "df = (df - df.mean()) / (df.max() - df.min())\n",
    "df.head(3)"
   ]
  },
  {
   "cell_type": "markdown",
   "metadata": {},
   "source": [
    "### Split into Train and Test Data"
   ]
  },
  {
   "cell_type": "code",
   "execution_count": 7,
   "metadata": {},
   "outputs": [],
   "source": [
    "from sklearn.model_selection import train_test_split"
   ]
  },
  {
   "cell_type": "code",
   "execution_count": 8,
   "metadata": {},
   "outputs": [],
   "source": [
    "y = df.pop('stars')\n",
    "X = df"
   ]
  },
  {
   "cell_type": "code",
   "execution_count": 9,
   "metadata": {},
   "outputs": [],
   "source": [
    "X_train, X_test, y_train, y_test = train_test_split(X.index,y,test_size=0.20)"
   ]
  },
  {
   "cell_type": "code",
   "execution_count": 10,
   "metadata": {},
   "outputs": [
    {
     "name": "stdout",
     "output_type": "stream",
     "text": [
      "(4202787,)\n",
      "(1050697,)\n"
     ]
    }
   ],
   "source": [
    "print(X_train.shape)\n",
    "print(X_test.shape)"
   ]
  },
  {
   "cell_type": "code",
   "execution_count": 11,
   "metadata": {},
   "outputs": [
    {
     "name": "stdout",
     "output_type": "stream",
     "text": [
      "(4202787,)\n",
      "(1050697,)\n"
     ]
    }
   ],
   "source": [
    "print(y_train.shape)\n",
    "print(y_test.shape)"
   ]
  },
  {
   "cell_type": "code",
   "execution_count": 12,
   "metadata": {},
   "outputs": [
    {
     "name": "stdout",
     "output_type": "stream",
     "text": [
      "[[0. 1. 0. 0. 0.]\n",
      " [0. 0. 0. 1. 0.]]\n"
     ]
    }
   ],
   "source": [
    "# We need to get y sets to one-hot-encoded values\n",
    "def create_one_hot_encoded_array(array):\n",
    "    uniques, ids = np.unique(array, return_inverse=True)\n",
    "    return np_utils.to_categorical(ids, len(uniques))\n",
    "\n",
    "y_train = create_one_hot_encoded_array(y_train)\n",
    "y_test = create_one_hot_encoded_array(y_test)\n",
    "\n",
    "print(y_train[:2])"
   ]
  },
  {
   "cell_type": "code",
   "execution_count": 13,
   "metadata": {},
   "outputs": [
    {
     "name": "stdout",
     "output_type": "stream",
     "text": [
      "Int64Index([2791561, 3129547], dtype='int64')\n"
     ]
    }
   ],
   "source": [
    "print(X_train[:2])"
   ]
  },
  {
   "cell_type": "code",
   "execution_count": 14,
   "metadata": {},
   "outputs": [],
   "source": [
    "X_train = X.iloc[X_train]"
   ]
  },
  {
   "cell_type": "code",
   "execution_count": 15,
   "metadata": {},
   "outputs": [
    {
     "name": "stdout",
     "output_type": "stream",
     "text": [
      "         name_of_month  day_of_week  user_average_stars  user_num_reviews  \\\n",
      "2791561      -0.503697     0.166593           -0.059412         -0.006913   \n",
      "3129547       0.405394    -0.000074            0.253088         -0.009841   \n",
      "\n",
      "         user_num_friends  business_num_reviews  business_average_stars  \\\n",
      "2791561         -0.006269             -0.047113               -0.307897   \n",
      "3129547         -0.007603             -0.041813               -0.057897   \n",
      "\n",
      "         business_catgrylv2  business_catgrylv1  business_lat  business_long  \\\n",
      "2791561           -0.328268            0.467326      0.068113       0.103260   \n",
      "3129547           -0.261601            0.371172     -0.017267       0.077285   \n",
      "\n",
      "         lv1Cat_Av  lv2Cat_Av  zipCodeBusiness_Av  zipCodeUser_Av  \\\n",
      "2791561   0.088873  -0.259515           -0.076994        0.011758   \n",
      "3129547  -0.024896   0.000537           -0.067337       -0.040280   \n",
      "\n",
      "         zipCodeUser_WeightedAv  zipCodeUserCount  \n",
      "2791561                0.013796         -0.162086  \n",
      "3129547               -0.007046         -0.133646  \n"
     ]
    }
   ],
   "source": [
    "print(X_train[:2])"
   ]
  },
  {
   "cell_type": "code",
   "execution_count": 16,
   "metadata": {},
   "outputs": [
    {
     "name": "stdout",
     "output_type": "stream",
     "text": [
      "<class 'pandas.core.frame.DataFrame'>\n"
     ]
    }
   ],
   "source": [
    "print(type(X_train))"
   ]
  },
  {
   "cell_type": "code",
   "execution_count": 17,
   "metadata": {},
   "outputs": [
    {
     "name": "stdout",
     "output_type": "stream",
     "text": [
      "(4202787, 17)\n"
     ]
    }
   ],
   "source": [
    "print(X_train.shape)"
   ]
  },
  {
   "cell_type": "code",
   "execution_count": 18,
   "metadata": {},
   "outputs": [
    {
     "name": "stdout",
     "output_type": "stream",
     "text": [
      "(4202787, 5)\n"
     ]
    }
   ],
   "source": [
    "print(y_train.shape)"
   ]
  },
  {
   "cell_type": "code",
   "execution_count": 19,
   "metadata": {},
   "outputs": [],
   "source": [
    "X_test = X.iloc[X_test]"
   ]
  },
  {
   "cell_type": "code",
   "execution_count": 20,
   "metadata": {},
   "outputs": [
    {
     "name": "stdout",
     "output_type": "stream",
     "text": [
      "(1050697, 17)\n"
     ]
    }
   ],
   "source": [
    "print(X_test.shape)"
   ]
  },
  {
   "cell_type": "code",
   "execution_count": 21,
   "metadata": {},
   "outputs": [
    {
     "name": "stdout",
     "output_type": "stream",
     "text": [
      "(1050697, 5)\n"
     ]
    }
   ],
   "source": [
    "print(y_test.shape)"
   ]
  },
  {
   "cell_type": "markdown",
   "metadata": {},
   "source": [
    "### Define Network"
   ]
  },
  {
   "cell_type": "code",
   "execution_count": 42,
   "metadata": {},
   "outputs": [],
   "source": [
    "model = Sequential()"
   ]
  },
  {
   "cell_type": "code",
   "execution_count": 43,
   "metadata": {},
   "outputs": [],
   "source": [
    "model.add(Dense(100, input_shape=(17,)))"
   ]
  },
  {
   "cell_type": "code",
   "execution_count": 44,
   "metadata": {},
   "outputs": [],
   "source": [
    "model.add(Activation('relu'))"
   ]
  },
  {
   "cell_type": "code",
   "execution_count": 45,
   "metadata": {},
   "outputs": [],
   "source": [
    "model.add(Dropout(0.05))"
   ]
  },
  {
   "cell_type": "code",
   "execution_count": 46,
   "metadata": {},
   "outputs": [],
   "source": [
    "model.add(Dense(100))"
   ]
  },
  {
   "cell_type": "code",
   "execution_count": 47,
   "metadata": {},
   "outputs": [],
   "source": [
    "model.add(Activation('relu'))"
   ]
  },
  {
   "cell_type": "code",
   "execution_count": 48,
   "metadata": {},
   "outputs": [],
   "source": [
    "model.add(Dropout(0.05))"
   ]
  },
  {
   "cell_type": "code",
   "execution_count": 49,
   "metadata": {},
   "outputs": [],
   "source": [
    "model.add(Dense(50))"
   ]
  },
  {
   "cell_type": "code",
   "execution_count": 50,
   "metadata": {},
   "outputs": [],
   "source": [
    "model.add(Activation('relu'))"
   ]
  },
  {
   "cell_type": "code",
   "execution_count": 51,
   "metadata": {},
   "outputs": [],
   "source": [
    "model.add(Dropout(0.05))"
   ]
  },
  {
   "cell_type": "code",
   "execution_count": 52,
   "metadata": {},
   "outputs": [],
   "source": [
    "model.add(Dense(5))"
   ]
  },
  {
   "cell_type": "code",
   "execution_count": 53,
   "metadata": {},
   "outputs": [],
   "source": [
    "model.add(Activation('softmax'))"
   ]
  },
  {
   "cell_type": "markdown",
   "metadata": {},
   "source": [
    "### Compile Network"
   ]
  },
  {
   "cell_type": "code",
   "execution_count": 54,
   "metadata": {},
   "outputs": [],
   "source": [
    "from keras import optimizers\n",
    "model.compile(loss='categorical_crossentropy', optimizer='adagrad', metrics=['accuracy'])"
   ]
  },
  {
   "cell_type": "markdown",
   "metadata": {},
   "source": [
    "### Fit Network"
   ]
  },
  {
   "cell_type": "code",
   "execution_count": 55,
   "metadata": {},
   "outputs": [
    {
     "name": "stdout",
     "output_type": "stream",
     "text": [
      "Train on 4202787 samples, validate on 1050697 samples\n",
      "Epoch 1/1\n",
      "4202787/4202787 [==============================] - 279s 66us/step - loss: 1.1006 - acc: 0.5440 - val_loss: 1.0867 - val_acc: 0.5495\n"
     ]
    }
   ],
   "source": [
    "history = model.fit(X_train, y_train, \n",
    "          batch_size=50, epochs=1, verbose=1,\n",
    "          validation_data=(X_test, y_test)\n",
    "         )"
   ]
  },
  {
   "cell_type": "code",
   "execution_count": 56,
   "metadata": {},
   "outputs": [
    {
     "data": {
      "text/plain": [
       "array([0, 1, 2, 3, 4])"
      ]
     },
     "execution_count": 56,
     "metadata": {},
     "output_type": "execute_result"
    }
   ],
   "source": [
    "np.unique(model.predict_classes(X_train))"
   ]
  },
  {
   "cell_type": "code",
   "execution_count": 57,
   "metadata": {},
   "outputs": [
    {
     "data": {
      "text/plain": [
       "<Figure size 640x480 with 1 Axes>"
      ]
     },
     "metadata": {},
     "output_type": "display_data"
    }
   ],
   "source": [
    "import matplotlib.pyplot as plt\n",
    "pd.Series(history.history['loss']).plot(logy=True)\n",
    "plt.xlabel(\"Epoch\")\n",
    "plt.ylabel(\"Train Error\")\n",
    "plt.savefig('Yelp_Simple_MLP_V1')\n",
    "plt.show()"
   ]
  },
  {
   "cell_type": "code",
   "execution_count": 58,
   "metadata": {},
   "outputs": [
    {
     "name": "stdout",
     "output_type": "stream",
     "text": [
      "             precision    recall  f1-score   support\n",
      "\n",
      "          0       0.55      0.64      0.59    145748\n",
      "          1       0.23      0.01      0.02     87737\n",
      "          2       0.36      0.09      0.15    123024\n",
      "          3       0.39      0.47      0.42    243770\n",
      "          4       0.65      0.79      0.72    450418\n",
      "\n",
      "avg / total       0.51      0.55      0.51   1050697\n",
      "\n",
      "             precision    recall  f1-score   support\n",
      "\n",
      "          0       0.55      0.64      0.59    582784\n",
      "          1       0.23      0.01      0.02    349865\n",
      "          2       0.36      0.09      0.15    491871\n",
      "          3       0.39      0.47      0.42    978455\n",
      "          4       0.65      0.79      0.72   1799812\n",
      "\n",
      "avg / total       0.51      0.55      0.51   4202787\n",
      "\n"
     ]
    }
   ],
   "source": [
    "from sklearn.metrics import classification_report\n",
    "\n",
    "Y_test = np.argmax(y_test, axis=1) # Convert one-hot to index\n",
    "y_pred = model.predict_classes(X_test)\n",
    "print(classification_report(Y_test, y_pred))\n",
    "\n",
    "Y_train = np.argmax(y_train, axis=1) # Convert one-hot to index\n",
    "y_pred = model.predict_classes(X_train)\n",
    "print(classification_report(Y_train, y_pred))"
   ]
  }
 ],
 "metadata": {
  "kernelspec": {
   "display_name": "REU",
   "language": "python",
   "name": "reu"
  },
  "language_info": {
   "codemirror_mode": {
    "name": "ipython",
    "version": 3
   },
   "file_extension": ".py",
   "mimetype": "text/x-python",
   "name": "python",
   "nbconvert_exporter": "python",
   "pygments_lexer": "ipython3",
   "version": "3.6.5"
  }
 },
 "nbformat": 4,
 "nbformat_minor": 2
}
