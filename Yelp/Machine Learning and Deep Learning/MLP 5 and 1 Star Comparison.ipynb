{
 "cells": [
  {
   "cell_type": "markdown",
   "metadata": {},
   "source": [
    "# Yelp and Simple MLP"
   ]
  },
  {
   "cell_type": "markdown",
   "metadata": {},
   "source": [
    "### Read in CSV"
   ]
  },
  {
   "cell_type": "code",
   "execution_count": 37,
   "metadata": {},
   "outputs": [],
   "source": [
    "import pandas as pd\n",
    "import numpy as np\n",
    "import keras\n",
    "import tensorflow as tf\n",
    "\n",
    "from keras.models import Sequential\n",
    "from keras.layers.core import Dense, Activation, Dropout\n",
    "from keras.utils import np_utils"
   ]
  },
  {
   "cell_type": "code",
   "execution_count": 38,
   "metadata": {},
   "outputs": [],
   "source": [
    "session_conf = tf.ConfigProto(\n",
    "      intra_op_parallelism_threads=1,\n",
    "      inter_op_parallelism_threads=1)\n",
    "sess = tf.Session(config=session_conf)"
   ]
  },
  {
   "cell_type": "code",
   "execution_count": 39,
   "metadata": {},
   "outputs": [],
   "source": [
    "df = pd.read_csv('HOPEFUL.csv')"
   ]
  },
  {
   "cell_type": "code",
   "execution_count": 40,
   "metadata": {},
   "outputs": [
    {
     "data": {
      "text/html": [
       "<div>\n",
       "<style scoped>\n",
       "    .dataframe tbody tr th:only-of-type {\n",
       "        vertical-align: middle;\n",
       "    }\n",
       "\n",
       "    .dataframe tbody tr th {\n",
       "        vertical-align: top;\n",
       "    }\n",
       "\n",
       "    .dataframe thead th {\n",
       "        text-align: right;\n",
       "    }\n",
       "</style>\n",
       "<table border=\"1\" class=\"dataframe\">\n",
       "  <thead>\n",
       "    <tr style=\"text-align: right;\">\n",
       "      <th></th>\n",
       "      <th>Unnamed: 0</th>\n",
       "      <th>stars</th>\n",
       "      <th>name_of_month</th>\n",
       "      <th>day_of_week</th>\n",
       "      <th>user_average_stars</th>\n",
       "      <th>user_num_reviews</th>\n",
       "      <th>user_num_friends</th>\n",
       "      <th>business_num_reviews</th>\n",
       "      <th>business_average_stars</th>\n",
       "      <th>business_catgrylv2</th>\n",
       "      <th>business_catgrylv1</th>\n",
       "      <th>business_lat</th>\n",
       "      <th>business_long</th>\n",
       "      <th>lv1Cat_Av</th>\n",
       "      <th>lv2Cat_Av</th>\n",
       "      <th>zipCodeBusiness_Av</th>\n",
       "      <th>zipCodeUser_Av</th>\n",
       "      <th>zipCodeUser_WeightedAv</th>\n",
       "      <th>zipCodeUserCount</th>\n",
       "    </tr>\n",
       "  </thead>\n",
       "  <tbody>\n",
       "    <tr>\n",
       "      <th>0</th>\n",
       "      <td>0</td>\n",
       "      <td>5</td>\n",
       "      <td>May</td>\n",
       "      <td>Saturday</td>\n",
       "      <td>4.67</td>\n",
       "      <td>6</td>\n",
       "      <td>1</td>\n",
       "      <td>1953</td>\n",
       "      <td>4.0</td>\n",
       "      <td>Bars</td>\n",
       "      <td>Breakfast &amp; Brunch</td>\n",
       "      <td>45.516373</td>\n",
       "      <td>-73.577537</td>\n",
       "      <td>3.739232</td>\n",
       "      <td>3.731733</td>\n",
       "      <td>3.980257</td>\n",
       "      <td>3.779459</td>\n",
       "      <td>3.720424</td>\n",
       "      <td>2162</td>\n",
       "    </tr>\n",
       "    <tr>\n",
       "      <th>1</th>\n",
       "      <td>1</td>\n",
       "      <td>5</td>\n",
       "      <td>May</td>\n",
       "      <td>Saturday</td>\n",
       "      <td>4.67</td>\n",
       "      <td>6</td>\n",
       "      <td>1</td>\n",
       "      <td>84</td>\n",
       "      <td>4.0</td>\n",
       "      <td>Bars</td>\n",
       "      <td>Food</td>\n",
       "      <td>45.523333</td>\n",
       "      <td>-73.594859</td>\n",
       "      <td>3.719693</td>\n",
       "      <td>3.731733</td>\n",
       "      <td>4.031579</td>\n",
       "      <td>3.875368</td>\n",
       "      <td>3.711489</td>\n",
       "      <td>95</td>\n",
       "    </tr>\n",
       "    <tr>\n",
       "      <th>2</th>\n",
       "      <td>2</td>\n",
       "      <td>5</td>\n",
       "      <td>May</td>\n",
       "      <td>Saturday</td>\n",
       "      <td>4.67</td>\n",
       "      <td>6</td>\n",
       "      <td>1</td>\n",
       "      <td>50</td>\n",
       "      <td>4.5</td>\n",
       "      <td>Bars</td>\n",
       "      <td>Breakfast &amp; Brunch</td>\n",
       "      <td>45.472902</td>\n",
       "      <td>-73.588321</td>\n",
       "      <td>3.739232</td>\n",
       "      <td>3.731733</td>\n",
       "      <td>4.280899</td>\n",
       "      <td>3.843488</td>\n",
       "      <td>3.927304</td>\n",
       "      <td>86</td>\n",
       "    </tr>\n",
       "    <tr>\n",
       "      <th>3</th>\n",
       "      <td>3</td>\n",
       "      <td>5</td>\n",
       "      <td>May</td>\n",
       "      <td>Saturday</td>\n",
       "      <td>4.67</td>\n",
       "      <td>6</td>\n",
       "      <td>1</td>\n",
       "      <td>70</td>\n",
       "      <td>4.0</td>\n",
       "      <td>Bars</td>\n",
       "      <td>Breakfast &amp; Brunch</td>\n",
       "      <td>45.522144</td>\n",
       "      <td>-73.607076</td>\n",
       "      <td>3.739232</td>\n",
       "      <td>3.731733</td>\n",
       "      <td>3.943038</td>\n",
       "      <td>3.837975</td>\n",
       "      <td>3.851323</td>\n",
       "      <td>79</td>\n",
       "    </tr>\n",
       "  </tbody>\n",
       "</table>\n",
       "</div>"
      ],
      "text/plain": [
       "   Unnamed: 0  stars name_of_month day_of_week  user_average_stars  \\\n",
       "0           0      5           May    Saturday                4.67   \n",
       "1           1      5           May    Saturday                4.67   \n",
       "2           2      5           May    Saturday                4.67   \n",
       "3           3      5           May    Saturday                4.67   \n",
       "\n",
       "   user_num_reviews  user_num_friends  business_num_reviews  \\\n",
       "0                 6                 1                  1953   \n",
       "1                 6                 1                    84   \n",
       "2                 6                 1                    50   \n",
       "3                 6                 1                    70   \n",
       "\n",
       "   business_average_stars business_catgrylv2  business_catgrylv1  \\\n",
       "0                     4.0               Bars  Breakfast & Brunch   \n",
       "1                     4.0               Bars                Food   \n",
       "2                     4.5               Bars  Breakfast & Brunch   \n",
       "3                     4.0               Bars  Breakfast & Brunch   \n",
       "\n",
       "   business_lat  business_long  lv1Cat_Av  lv2Cat_Av  zipCodeBusiness_Av  \\\n",
       "0     45.516373     -73.577537   3.739232   3.731733            3.980257   \n",
       "1     45.523333     -73.594859   3.719693   3.731733            4.031579   \n",
       "2     45.472902     -73.588321   3.739232   3.731733            4.280899   \n",
       "3     45.522144     -73.607076   3.739232   3.731733            3.943038   \n",
       "\n",
       "   zipCodeUser_Av  zipCodeUser_WeightedAv  zipCodeUserCount  \n",
       "0        3.779459                3.720424              2162  \n",
       "1        3.875368                3.711489                95  \n",
       "2        3.843488                3.927304                86  \n",
       "3        3.837975                3.851323                79  "
      ]
     },
     "execution_count": 40,
     "metadata": {},
     "output_type": "execute_result"
    }
   ],
   "source": [
    "df = df.drop(df.columns[df.columns.str.contains('unnamed', case = False)],axis = 1)\n",
    "df = df.drop(['business_id', 'date', 'user_id', 'user_cool', 'user_funny', 'user_userful', 'business_city', 'business_zip'], axis=1)\n",
    "df = df[df[\"stars\"] != 4]\n",
    "df = df[df[\"stars\"] != 3]\n",
    "df = df[df[\"stars\"] != 1]\n",
    "df.to_csv(path_or_buf='HOPEFUL_CROPPED.csv')\n",
    "df = pd.read_csv('HOPEFUL_CROPPED.csv')\n",
    "df.head(4)"
   ]
  },
  {
   "cell_type": "code",
   "execution_count": 41,
   "metadata": {},
   "outputs": [
    {
     "data": {
      "text/html": [
       "<div>\n",
       "<style scoped>\n",
       "    .dataframe tbody tr th:only-of-type {\n",
       "        vertical-align: middle;\n",
       "    }\n",
       "\n",
       "    .dataframe tbody tr th {\n",
       "        vertical-align: top;\n",
       "    }\n",
       "\n",
       "    .dataframe thead th {\n",
       "        text-align: right;\n",
       "    }\n",
       "</style>\n",
       "<table border=\"1\" class=\"dataframe\">\n",
       "  <thead>\n",
       "    <tr style=\"text-align: right;\">\n",
       "      <th></th>\n",
       "      <th>Unnamed: 0</th>\n",
       "      <th>stars</th>\n",
       "      <th>name_of_month</th>\n",
       "      <th>day_of_week</th>\n",
       "      <th>user_average_stars</th>\n",
       "      <th>user_num_reviews</th>\n",
       "      <th>user_num_friends</th>\n",
       "      <th>business_num_reviews</th>\n",
       "      <th>business_average_stars</th>\n",
       "      <th>business_catgrylv2</th>\n",
       "      <th>business_catgrylv1</th>\n",
       "      <th>business_lat</th>\n",
       "      <th>business_long</th>\n",
       "      <th>lv1Cat_Av</th>\n",
       "      <th>lv2Cat_Av</th>\n",
       "      <th>zipCodeBusiness_Av</th>\n",
       "      <th>zipCodeUser_Av</th>\n",
       "      <th>zipCodeUser_WeightedAv</th>\n",
       "      <th>zipCodeUserCount</th>\n",
       "    </tr>\n",
       "  </thead>\n",
       "  <tbody>\n",
       "    <tr>\n",
       "      <th>0</th>\n",
       "      <td>0</td>\n",
       "      <td>5</td>\n",
       "      <td>8</td>\n",
       "      <td>2</td>\n",
       "      <td>4.67</td>\n",
       "      <td>6</td>\n",
       "      <td>1</td>\n",
       "      <td>1953</td>\n",
       "      <td>4.0</td>\n",
       "      <td>1</td>\n",
       "      <td>9</td>\n",
       "      <td>45.516373</td>\n",
       "      <td>-73.577537</td>\n",
       "      <td>3.739232</td>\n",
       "      <td>3.731733</td>\n",
       "      <td>3.980257</td>\n",
       "      <td>3.779459</td>\n",
       "      <td>3.720424</td>\n",
       "      <td>2162</td>\n",
       "    </tr>\n",
       "    <tr>\n",
       "      <th>1</th>\n",
       "      <td>1</td>\n",
       "      <td>5</td>\n",
       "      <td>8</td>\n",
       "      <td>2</td>\n",
       "      <td>4.67</td>\n",
       "      <td>6</td>\n",
       "      <td>1</td>\n",
       "      <td>84</td>\n",
       "      <td>4.0</td>\n",
       "      <td>1</td>\n",
       "      <td>22</td>\n",
       "      <td>45.523333</td>\n",
       "      <td>-73.594859</td>\n",
       "      <td>3.719693</td>\n",
       "      <td>3.731733</td>\n",
       "      <td>4.031579</td>\n",
       "      <td>3.875368</td>\n",
       "      <td>3.711489</td>\n",
       "      <td>95</td>\n",
       "    </tr>\n",
       "    <tr>\n",
       "      <th>2</th>\n",
       "      <td>2</td>\n",
       "      <td>5</td>\n",
       "      <td>8</td>\n",
       "      <td>2</td>\n",
       "      <td>4.67</td>\n",
       "      <td>6</td>\n",
       "      <td>1</td>\n",
       "      <td>50</td>\n",
       "      <td>4.5</td>\n",
       "      <td>1</td>\n",
       "      <td>9</td>\n",
       "      <td>45.472902</td>\n",
       "      <td>-73.588321</td>\n",
       "      <td>3.739232</td>\n",
       "      <td>3.731733</td>\n",
       "      <td>4.280899</td>\n",
       "      <td>3.843488</td>\n",
       "      <td>3.927304</td>\n",
       "      <td>86</td>\n",
       "    </tr>\n",
       "  </tbody>\n",
       "</table>\n",
       "</div>"
      ],
      "text/plain": [
       "   Unnamed: 0  stars  name_of_month  day_of_week  user_average_stars  \\\n",
       "0           0      5              8            2                4.67   \n",
       "1           1      5              8            2                4.67   \n",
       "2           2      5              8            2                4.67   \n",
       "\n",
       "   user_num_reviews  user_num_friends  business_num_reviews  \\\n",
       "0                 6                 1                  1953   \n",
       "1                 6                 1                    84   \n",
       "2                 6                 1                    50   \n",
       "\n",
       "   business_average_stars  business_catgrylv2  business_catgrylv1  \\\n",
       "0                     4.0                   1                   9   \n",
       "1                     4.0                   1                  22   \n",
       "2                     4.5                   1                   9   \n",
       "\n",
       "   business_lat  business_long  lv1Cat_Av  lv2Cat_Av  zipCodeBusiness_Av  \\\n",
       "0     45.516373     -73.577537   3.739232   3.731733            3.980257   \n",
       "1     45.523333     -73.594859   3.719693   3.731733            4.031579   \n",
       "2     45.472902     -73.588321   3.739232   3.731733            4.280899   \n",
       "\n",
       "   zipCodeUser_Av  zipCodeUser_WeightedAv  zipCodeUserCount  \n",
       "0        3.779459                3.720424              2162  \n",
       "1        3.875368                3.711489                95  \n",
       "2        3.843488                3.927304                86  "
      ]
     },
     "execution_count": 41,
     "metadata": {},
     "output_type": "execute_result"
    }
   ],
   "source": [
    "# Label Encode Categorical Data\n",
    "# name_of_month\n",
    "df['name_of_month'] = df['name_of_month'].astype('category')\n",
    "df['name_of_month'] = df['name_of_month'].cat.codes\n",
    "\n",
    "# day_of_week\n",
    "df['day_of_week'] = df['day_of_week'].astype('category')\n",
    "df['day_of_week'] = df['day_of_week'].cat.codes\n",
    "\n",
    "# business_catgrylv2\n",
    "df['business_catgrylv2'] = df['business_catgrylv2'].astype('category')\n",
    "df['business_catgrylv2'] = df['business_catgrylv2'].cat.codes\n",
    "\n",
    "# business_catgrylv1\n",
    "df['business_catgrylv1'] = df['business_catgrylv1'].astype('category')\n",
    "df['business_catgrylv1'] = df['business_catgrylv1'].cat.codes\n",
    "\n",
    "# Check Categorization\n",
    "df.head(3)"
   ]
  },
  {
   "cell_type": "code",
   "execution_count": 42,
   "metadata": {},
   "outputs": [
    {
     "data": {
      "text/html": [
       "<div>\n",
       "<style scoped>\n",
       "    .dataframe tbody tr th:only-of-type {\n",
       "        vertical-align: middle;\n",
       "    }\n",
       "\n",
       "    .dataframe tbody tr th {\n",
       "        vertical-align: top;\n",
       "    }\n",
       "\n",
       "    .dataframe thead th {\n",
       "        text-align: right;\n",
       "    }\n",
       "</style>\n",
       "<table border=\"1\" class=\"dataframe\">\n",
       "  <thead>\n",
       "    <tr style=\"text-align: right;\">\n",
       "      <th></th>\n",
       "      <th>Unnamed: 0</th>\n",
       "      <th>stars</th>\n",
       "      <th>name_of_month</th>\n",
       "      <th>day_of_week</th>\n",
       "      <th>user_average_stars</th>\n",
       "      <th>user_num_reviews</th>\n",
       "      <th>user_num_friends</th>\n",
       "      <th>business_num_reviews</th>\n",
       "      <th>business_average_stars</th>\n",
       "      <th>business_catgrylv2</th>\n",
       "      <th>business_catgrylv1</th>\n",
       "      <th>business_lat</th>\n",
       "      <th>business_long</th>\n",
       "      <th>lv1Cat_Av</th>\n",
       "      <th>lv2Cat_Av</th>\n",
       "      <th>zipCodeBusiness_Av</th>\n",
       "      <th>zipCodeUser_Av</th>\n",
       "      <th>zipCodeUser_WeightedAv</th>\n",
       "      <th>zipCodeUserCount</th>\n",
       "    </tr>\n",
       "  </thead>\n",
       "  <tbody>\n",
       "    <tr>\n",
       "      <th>0</th>\n",
       "      <td>-0.498921</td>\n",
       "      <td>0.162809</td>\n",
       "      <td>0.221879</td>\n",
       "      <td>-0.167188</td>\n",
       "      <td>0.173974</td>\n",
       "      <td>-0.006411</td>\n",
       "      <td>-0.005967</td>\n",
       "      <td>0.219832</td>\n",
       "      <td>0.008122</td>\n",
       "      <td>-0.262671</td>\n",
       "      <td>-0.295774</td>\n",
       "      <td>0.068140</td>\n",
       "      <td>0.112131</td>\n",
       "      <td>-0.004203</td>\n",
       "      <td>-0.012993</td>\n",
       "      <td>0.055033</td>\n",
       "      <td>0.008784</td>\n",
       "      <td>-0.008426</td>\n",
       "      <td>-0.146443</td>\n",
       "    </tr>\n",
       "    <tr>\n",
       "      <th>1</th>\n",
       "      <td>-0.498921</td>\n",
       "      <td>0.162809</td>\n",
       "      <td>0.221879</td>\n",
       "      <td>-0.167188</td>\n",
       "      <td>0.173974</td>\n",
       "      <td>-0.006411</td>\n",
       "      <td>-0.005967</td>\n",
       "      <td>-0.034177</td>\n",
       "      <td>0.008122</td>\n",
       "      <td>-0.262671</td>\n",
       "      <td>-0.045774</td>\n",
       "      <td>0.068195</td>\n",
       "      <td>0.112064</td>\n",
       "      <td>-0.014446</td>\n",
       "      <td>-0.012993</td>\n",
       "      <td>0.067864</td>\n",
       "      <td>0.033804</td>\n",
       "      <td>-0.010660</td>\n",
       "      <td>-0.155633</td>\n",
       "    </tr>\n",
       "    <tr>\n",
       "      <th>2</th>\n",
       "      <td>-0.498921</td>\n",
       "      <td>0.162809</td>\n",
       "      <td>0.221879</td>\n",
       "      <td>-0.167188</td>\n",
       "      <td>0.173974</td>\n",
       "      <td>-0.006411</td>\n",
       "      <td>-0.005967</td>\n",
       "      <td>-0.038798</td>\n",
       "      <td>0.133122</td>\n",
       "      <td>-0.262671</td>\n",
       "      <td>-0.295774</td>\n",
       "      <td>0.067795</td>\n",
       "      <td>0.112089</td>\n",
       "      <td>-0.004203</td>\n",
       "      <td>-0.012993</td>\n",
       "      <td>0.130194</td>\n",
       "      <td>0.025488</td>\n",
       "      <td>0.043294</td>\n",
       "      <td>-0.155673</td>\n",
       "    </tr>\n",
       "  </tbody>\n",
       "</table>\n",
       "</div>"
      ],
      "text/plain": [
       "   Unnamed: 0     stars  name_of_month  day_of_week  user_average_stars  \\\n",
       "0   -0.498921  0.162809       0.221879    -0.167188            0.173974   \n",
       "1   -0.498921  0.162809       0.221879    -0.167188            0.173974   \n",
       "2   -0.498921  0.162809       0.221879    -0.167188            0.173974   \n",
       "\n",
       "   user_num_reviews  user_num_friends  business_num_reviews  \\\n",
       "0         -0.006411         -0.005967              0.219832   \n",
       "1         -0.006411         -0.005967             -0.034177   \n",
       "2         -0.006411         -0.005967             -0.038798   \n",
       "\n",
       "   business_average_stars  business_catgrylv2  business_catgrylv1  \\\n",
       "0                0.008122           -0.262671           -0.295774   \n",
       "1                0.008122           -0.262671           -0.045774   \n",
       "2                0.133122           -0.262671           -0.295774   \n",
       "\n",
       "   business_lat  business_long  lv1Cat_Av  lv2Cat_Av  zipCodeBusiness_Av  \\\n",
       "0      0.068140       0.112131  -0.004203  -0.012993            0.055033   \n",
       "1      0.068195       0.112064  -0.014446  -0.012993            0.067864   \n",
       "2      0.067795       0.112089  -0.004203  -0.012993            0.130194   \n",
       "\n",
       "   zipCodeUser_Av  zipCodeUser_WeightedAv  zipCodeUserCount  \n",
       "0        0.008784               -0.008426         -0.146443  \n",
       "1        0.033804               -0.010660         -0.155633  \n",
       "2        0.025488                0.043294         -0.155673  "
      ]
     },
     "execution_count": 42,
     "metadata": {},
     "output_type": "execute_result"
    }
   ],
   "source": [
    "# Normalize\n",
    "df = (df - df.mean()) / (df.max() - df.min())\n",
    "df.head(3)"
   ]
  },
  {
   "cell_type": "code",
   "execution_count": 43,
   "metadata": {},
   "outputs": [
    {
     "data": {
      "text/html": [
       "<div>\n",
       "<style scoped>\n",
       "    .dataframe tbody tr th:only-of-type {\n",
       "        vertical-align: middle;\n",
       "    }\n",
       "\n",
       "    .dataframe tbody tr th {\n",
       "        vertical-align: top;\n",
       "    }\n",
       "\n",
       "    .dataframe thead th {\n",
       "        text-align: right;\n",
       "    }\n",
       "</style>\n",
       "<table border=\"1\" class=\"dataframe\">\n",
       "  <thead>\n",
       "    <tr style=\"text-align: right;\">\n",
       "      <th></th>\n",
       "      <th>stars</th>\n",
       "      <th>name_of_month</th>\n",
       "      <th>day_of_week</th>\n",
       "      <th>user_average_stars</th>\n",
       "      <th>user_num_reviews</th>\n",
       "      <th>user_num_friends</th>\n",
       "      <th>business_num_reviews</th>\n",
       "      <th>business_average_stars</th>\n",
       "      <th>business_catgrylv2</th>\n",
       "      <th>business_catgrylv1</th>\n",
       "      <th>business_lat</th>\n",
       "      <th>business_long</th>\n",
       "      <th>lv1Cat_Av</th>\n",
       "      <th>lv2Cat_Av</th>\n",
       "      <th>zipCodeBusiness_Av</th>\n",
       "      <th>zipCodeUser_Av</th>\n",
       "      <th>zipCodeUser_WeightedAv</th>\n",
       "      <th>zipCodeUserCount</th>\n",
       "    </tr>\n",
       "  </thead>\n",
       "  <tbody>\n",
       "    <tr>\n",
       "      <th>0</th>\n",
       "      <td>0.162809</td>\n",
       "      <td>0.221879</td>\n",
       "      <td>-0.167188</td>\n",
       "      <td>0.173974</td>\n",
       "      <td>-0.006411</td>\n",
       "      <td>-0.005967</td>\n",
       "      <td>0.219832</td>\n",
       "      <td>0.008122</td>\n",
       "      <td>-0.262671</td>\n",
       "      <td>-0.295774</td>\n",
       "      <td>0.068140</td>\n",
       "      <td>0.112131</td>\n",
       "      <td>-0.004203</td>\n",
       "      <td>-0.012993</td>\n",
       "      <td>0.055033</td>\n",
       "      <td>0.008784</td>\n",
       "      <td>-0.008426</td>\n",
       "      <td>-0.146443</td>\n",
       "    </tr>\n",
       "    <tr>\n",
       "      <th>1</th>\n",
       "      <td>0.162809</td>\n",
       "      <td>0.221879</td>\n",
       "      <td>-0.167188</td>\n",
       "      <td>0.173974</td>\n",
       "      <td>-0.006411</td>\n",
       "      <td>-0.005967</td>\n",
       "      <td>-0.034177</td>\n",
       "      <td>0.008122</td>\n",
       "      <td>-0.262671</td>\n",
       "      <td>-0.045774</td>\n",
       "      <td>0.068195</td>\n",
       "      <td>0.112064</td>\n",
       "      <td>-0.014446</td>\n",
       "      <td>-0.012993</td>\n",
       "      <td>0.067864</td>\n",
       "      <td>0.033804</td>\n",
       "      <td>-0.010660</td>\n",
       "      <td>-0.155633</td>\n",
       "    </tr>\n",
       "    <tr>\n",
       "      <th>2</th>\n",
       "      <td>0.162809</td>\n",
       "      <td>0.221879</td>\n",
       "      <td>-0.167188</td>\n",
       "      <td>0.173974</td>\n",
       "      <td>-0.006411</td>\n",
       "      <td>-0.005967</td>\n",
       "      <td>-0.038798</td>\n",
       "      <td>0.133122</td>\n",
       "      <td>-0.262671</td>\n",
       "      <td>-0.295774</td>\n",
       "      <td>0.067795</td>\n",
       "      <td>0.112089</td>\n",
       "      <td>-0.004203</td>\n",
       "      <td>-0.012993</td>\n",
       "      <td>0.130194</td>\n",
       "      <td>0.025488</td>\n",
       "      <td>0.043294</td>\n",
       "      <td>-0.155673</td>\n",
       "    </tr>\n",
       "  </tbody>\n",
       "</table>\n",
       "</div>"
      ],
      "text/plain": [
       "      stars  name_of_month  day_of_week  user_average_stars  user_num_reviews  \\\n",
       "0  0.162809       0.221879    -0.167188            0.173974         -0.006411   \n",
       "1  0.162809       0.221879    -0.167188            0.173974         -0.006411   \n",
       "2  0.162809       0.221879    -0.167188            0.173974         -0.006411   \n",
       "\n",
       "   user_num_friends  business_num_reviews  business_average_stars  \\\n",
       "0         -0.005967              0.219832                0.008122   \n",
       "1         -0.005967             -0.034177                0.008122   \n",
       "2         -0.005967             -0.038798                0.133122   \n",
       "\n",
       "   business_catgrylv2  business_catgrylv1  business_lat  business_long  \\\n",
       "0           -0.262671           -0.295774      0.068140       0.112131   \n",
       "1           -0.262671           -0.045774      0.068195       0.112064   \n",
       "2           -0.262671           -0.295774      0.067795       0.112089   \n",
       "\n",
       "   lv1Cat_Av  lv2Cat_Av  zipCodeBusiness_Av  zipCodeUser_Av  \\\n",
       "0  -0.004203  -0.012993            0.055033        0.008784   \n",
       "1  -0.014446  -0.012993            0.067864        0.033804   \n",
       "2  -0.004203  -0.012993            0.130194        0.025488   \n",
       "\n",
       "   zipCodeUser_WeightedAv  zipCodeUserCount  \n",
       "0               -0.008426         -0.146443  \n",
       "1               -0.010660         -0.155633  \n",
       "2                0.043294         -0.155673  "
      ]
     },
     "execution_count": 43,
     "metadata": {},
     "output_type": "execute_result"
    }
   ],
   "source": [
    "df = df.drop(df.columns[df.columns.str.contains('unnamed', case = False)],axis = 1)\n",
    "df.head(3)"
   ]
  },
  {
   "cell_type": "markdown",
   "metadata": {},
   "source": [
    "### Split into Train and Test Data"
   ]
  },
  {
   "cell_type": "code",
   "execution_count": 44,
   "metadata": {},
   "outputs": [],
   "source": [
    "from sklearn.model_selection import train_test_split"
   ]
  },
  {
   "cell_type": "code",
   "execution_count": 45,
   "metadata": {},
   "outputs": [],
   "source": [
    "y = df.pop('stars')\n",
    "X = df"
   ]
  },
  {
   "cell_type": "code",
   "execution_count": 46,
   "metadata": {},
   "outputs": [],
   "source": [
    "X_train, X_test, y_train, y_test = train_test_split(X.index,y,test_size=0.20)"
   ]
  },
  {
   "cell_type": "code",
   "execution_count": 47,
   "metadata": {},
   "outputs": [
    {
     "name": "stdout",
     "output_type": "stream",
     "text": [
      "(2150265,)\n",
      "(537567,)\n"
     ]
    }
   ],
   "source": [
    "print(X_train.shape)\n",
    "print(X_test.shape)"
   ]
  },
  {
   "cell_type": "code",
   "execution_count": 48,
   "metadata": {},
   "outputs": [
    {
     "name": "stdout",
     "output_type": "stream",
     "text": [
      "(2150265,)\n",
      "(537567,)\n"
     ]
    }
   ],
   "source": [
    "print(y_train.shape)\n",
    "print(y_test.shape)"
   ]
  },
  {
   "cell_type": "code",
   "execution_count": 49,
   "metadata": {},
   "outputs": [
    {
     "name": "stdout",
     "output_type": "stream",
     "text": [
      "[[0. 1.]\n",
      " [0. 1.]]\n"
     ]
    }
   ],
   "source": [
    "# We need to get y sets to one-hot-encoded values\n",
    "def create_one_hot_encoded_array(array):\n",
    "    uniques, ids = np.unique(array, return_inverse=True)\n",
    "    return np_utils.to_categorical(ids, len(uniques))\n",
    "\n",
    "y_train = create_one_hot_encoded_array(y_train)\n",
    "y_test = create_one_hot_encoded_array(y_test)\n",
    "\n",
    "print(y_train[:2])"
   ]
  },
  {
   "cell_type": "code",
   "execution_count": 50,
   "metadata": {},
   "outputs": [
    {
     "name": "stdout",
     "output_type": "stream",
     "text": [
      "Int64Index([2605680, 1721423], dtype='int64')\n"
     ]
    }
   ],
   "source": [
    "print(X_train[:2])"
   ]
  },
  {
   "cell_type": "code",
   "execution_count": 51,
   "metadata": {},
   "outputs": [],
   "source": [
    "X_train = X.iloc[X_train]"
   ]
  },
  {
   "cell_type": "code",
   "execution_count": 52,
   "metadata": {},
   "outputs": [
    {
     "name": "stdout",
     "output_type": "stream",
     "text": [
      "         name_of_month  day_of_week  user_average_stars  user_num_reviews  \\\n",
      "2605680      -0.505393     0.499478            0.257519         -0.006076   \n",
      "1721423      -0.141757    -0.000522            0.257519         -0.006829   \n",
      "\n",
      "         user_num_friends  business_num_reviews  business_average_stars  \\\n",
      "2605680         -0.006034              0.075364                0.008122   \n",
      "1721423         -0.003899             -0.044778                0.258122   \n",
      "\n",
      "         business_catgrylv2  business_catgrylv1  business_lat  business_long  \\\n",
      "2605680           -0.262671            0.165765     -0.006422       -0.04932   \n",
      "1721423            0.070663           -0.007312     -0.025430       -0.03810   \n",
      "\n",
      "         lv1Cat_Av  lv2Cat_Av  zipCodeBusiness_Av  zipCodeUser_Av  \\\n",
      "2605680  -0.009254  -0.012993            0.001380        0.005165   \n",
      "1721423   0.243122   0.382080           -0.027471        0.000454   \n",
      "\n",
      "         zipCodeUser_WeightedAv  zipCodeUserCount  \n",
      "2605680               -0.000165          0.000298  \n",
      "1721423                0.003233         -0.137434  \n"
     ]
    }
   ],
   "source": [
    "print(X_train[:2])"
   ]
  },
  {
   "cell_type": "code",
   "execution_count": 53,
   "metadata": {},
   "outputs": [
    {
     "name": "stdout",
     "output_type": "stream",
     "text": [
      "<class 'pandas.core.frame.DataFrame'>\n"
     ]
    }
   ],
   "source": [
    "print(type(X_train))"
   ]
  },
  {
   "cell_type": "code",
   "execution_count": 54,
   "metadata": {},
   "outputs": [
    {
     "name": "stdout",
     "output_type": "stream",
     "text": [
      "(2150265, 17)\n"
     ]
    }
   ],
   "source": [
    "print(X_train.shape)"
   ]
  },
  {
   "cell_type": "code",
   "execution_count": 55,
   "metadata": {},
   "outputs": [
    {
     "name": "stdout",
     "output_type": "stream",
     "text": [
      "(2150265, 2)\n"
     ]
    }
   ],
   "source": [
    "print(y_train.shape)"
   ]
  },
  {
   "cell_type": "code",
   "execution_count": 56,
   "metadata": {},
   "outputs": [],
   "source": [
    "X_test = X.iloc[X_test]"
   ]
  },
  {
   "cell_type": "code",
   "execution_count": 57,
   "metadata": {},
   "outputs": [
    {
     "name": "stdout",
     "output_type": "stream",
     "text": [
      "(537567, 17)\n"
     ]
    }
   ],
   "source": [
    "print(X_test.shape)"
   ]
  },
  {
   "cell_type": "code",
   "execution_count": 58,
   "metadata": {},
   "outputs": [
    {
     "name": "stdout",
     "output_type": "stream",
     "text": [
      "(537567, 2)\n"
     ]
    }
   ],
   "source": [
    "print(y_test.shape)"
   ]
  },
  {
   "cell_type": "markdown",
   "metadata": {},
   "source": [
    "### Define Network"
   ]
  },
  {
   "cell_type": "code",
   "execution_count": 59,
   "metadata": {},
   "outputs": [],
   "source": [
    "model = Sequential()"
   ]
  },
  {
   "cell_type": "code",
   "execution_count": 60,
   "metadata": {},
   "outputs": [],
   "source": [
    "model.add(Dense(100, input_shape=(17,)))"
   ]
  },
  {
   "cell_type": "code",
   "execution_count": 61,
   "metadata": {},
   "outputs": [],
   "source": [
    "model.add(Activation('relu'))"
   ]
  },
  {
   "cell_type": "code",
   "execution_count": 62,
   "metadata": {},
   "outputs": [],
   "source": [
    "model.add(Dropout(0.05))"
   ]
  },
  {
   "cell_type": "code",
   "execution_count": 63,
   "metadata": {},
   "outputs": [],
   "source": [
    "model.add(Dense(100))"
   ]
  },
  {
   "cell_type": "code",
   "execution_count": 64,
   "metadata": {},
   "outputs": [],
   "source": [
    "model.add(Activation('relu'))"
   ]
  },
  {
   "cell_type": "code",
   "execution_count": 65,
   "metadata": {},
   "outputs": [],
   "source": [
    "model.add(Dropout(0.05))"
   ]
  },
  {
   "cell_type": "code",
   "execution_count": 66,
   "metadata": {},
   "outputs": [],
   "source": [
    "model.add(Dense(50))"
   ]
  },
  {
   "cell_type": "code",
   "execution_count": 67,
   "metadata": {},
   "outputs": [],
   "source": [
    "model.add(Activation('relu'))"
   ]
  },
  {
   "cell_type": "code",
   "execution_count": 68,
   "metadata": {},
   "outputs": [],
   "source": [
    "model.add(Dropout(0.05))"
   ]
  },
  {
   "cell_type": "code",
   "execution_count": 69,
   "metadata": {},
   "outputs": [],
   "source": [
    "model.add(Dense(2))"
   ]
  },
  {
   "cell_type": "code",
   "execution_count": 70,
   "metadata": {},
   "outputs": [],
   "source": [
    "model.add(Activation('softmax'))"
   ]
  },
  {
   "cell_type": "markdown",
   "metadata": {},
   "source": [
    "### Compile Network"
   ]
  },
  {
   "cell_type": "code",
   "execution_count": 71,
   "metadata": {},
   "outputs": [],
   "source": [
    "from keras import optimizers\n",
    "model.compile(loss='categorical_crossentropy', optimizer='adagrad', metrics=['accuracy'])"
   ]
  },
  {
   "cell_type": "markdown",
   "metadata": {},
   "source": [
    "### Fit Network"
   ]
  },
  {
   "cell_type": "code",
   "execution_count": 72,
   "metadata": {},
   "outputs": [
    {
     "name": "stdout",
     "output_type": "stream",
     "text": [
      "Train on 2150265 samples, validate on 537567 samples\n",
      "Epoch 1/1\n",
      "2150265/2150265 [==============================] - 128s 59us/step - loss: 0.2944 - acc: 0.8709 - val_loss: 0.2899 - val_acc: 0.8729\n"
     ]
    }
   ],
   "source": [
    "history = model.fit(X_train, y_train, \n",
    "          batch_size=50, epochs=1, verbose=1,\n",
    "          validation_data=(X_test, y_test)\n",
    "         )"
   ]
  },
  {
   "cell_type": "code",
   "execution_count": 73,
   "metadata": {},
   "outputs": [
    {
     "data": {
      "text/plain": [
       "array([0, 1])"
      ]
     },
     "execution_count": 73,
     "metadata": {},
     "output_type": "execute_result"
    }
   ],
   "source": [
    "np.unique(model.predict_classes(X_train))"
   ]
  },
  {
   "cell_type": "code",
   "execution_count": 74,
   "metadata": {},
   "outputs": [
    {
     "data": {
      "text/plain": [
       "<Figure size 640x480 with 1 Axes>"
      ]
     },
     "metadata": {},
     "output_type": "display_data"
    }
   ],
   "source": [
    "import matplotlib.pyplot as plt\n",
    "pd.Series(history.history['loss']).plot(logy=True)\n",
    "plt.xlabel(\"Epoch\")\n",
    "plt.ylabel(\"Train Error\")\n",
    "plt.savefig('Yelp_Simple_MLP_V1')\n",
    "plt.show()"
   ]
  },
  {
   "cell_type": "code",
   "execution_count": 75,
   "metadata": {},
   "outputs": [
    {
     "name": "stdout",
     "output_type": "stream",
     "text": [
      "             precision    recall  f1-score   support\n",
      "\n",
      "          0       0.67      0.42      0.52     87503\n",
      "          1       0.90      0.96      0.93    450064\n",
      "\n",
      "avg / total       0.86      0.87      0.86    537567\n",
      "\n",
      "             precision    recall  f1-score   support\n",
      "\n",
      "          0       0.67      0.42      0.52    350099\n",
      "          1       0.90      0.96      0.93   1800166\n",
      "\n",
      "avg / total       0.86      0.87      0.86   2150265\n",
      "\n"
     ]
    }
   ],
   "source": [
    "from sklearn.metrics import classification_report\n",
    "\n",
    "Y_test = np.argmax(y_test, axis=1) # Convert one-hot to index\n",
    "y_pred = model.predict_classes(X_test)\n",
    "print(classification_report(Y_test, y_pred))\n",
    "\n",
    "Y_train = np.argmax(y_train, axis=1) # Convert one-hot to index\n",
    "y_pred = model.predict_classes(X_train)\n",
    "print(classification_report(Y_train, y_pred))"
   ]
  }
 ],
 "metadata": {
  "kernelspec": {
   "display_name": "REU",
   "language": "python",
   "name": "reu"
  },
  "language_info": {
   "codemirror_mode": {
    "name": "ipython",
    "version": 3
   },
   "file_extension": ".py",
   "mimetype": "text/x-python",
   "name": "python",
   "nbconvert_exporter": "python",
   "pygments_lexer": "ipython3",
   "version": "3.6.5"
  }
 },
 "nbformat": 4,
 "nbformat_minor": 2
}
