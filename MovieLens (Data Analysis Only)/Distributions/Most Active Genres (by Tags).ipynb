{
 "cells": [
  {
   "cell_type": "code",
   "execution_count": 1,
   "metadata": {
    "collapsed": true
   },
   "outputs": [],
   "source": [
    "# Import Necessary Items\n",
    "import pandas as pd\n",
    "import numpy as np\n",
    "import matplotlib.pyplot as plt\n",
    "from matplotlib import colors\n",
    "from matplotlib.ticker import FuncFormatter"
   ]
  },
  {
   "cell_type": "markdown",
   "metadata": {},
   "source": [
    "## Ratings Per Genre"
   ]
  },
  {
   "cell_type": "code",
   "execution_count": 2,
   "metadata": {},
   "outputs": [
    {
     "data": {
      "text/html": [
       "<div>\n",
       "<style>\n",
       "    .dataframe thead tr:only-child th {\n",
       "        text-align: right;\n",
       "    }\n",
       "\n",
       "    .dataframe thead th {\n",
       "        text-align: left;\n",
       "    }\n",
       "\n",
       "    .dataframe tbody tr th {\n",
       "        vertical-align: top;\n",
       "    }\n",
       "</style>\n",
       "<table border=\"1\" class=\"dataframe\">\n",
       "  <thead>\n",
       "    <tr style=\"text-align: right;\">\n",
       "      <th></th>\n",
       "      <th>movieId</th>\n",
       "      <th>genres</th>\n",
       "    </tr>\n",
       "  </thead>\n",
       "  <tbody>\n",
       "    <tr>\n",
       "      <th>0</th>\n",
       "      <td>1</td>\n",
       "      <td>Adventure|Animation|Children|Comedy|Fantasy</td>\n",
       "    </tr>\n",
       "    <tr>\n",
       "      <th>1</th>\n",
       "      <td>2</td>\n",
       "      <td>Adventure|Children|Fantasy</td>\n",
       "    </tr>\n",
       "    <tr>\n",
       "      <th>2</th>\n",
       "      <td>3</td>\n",
       "      <td>Comedy|Romance</td>\n",
       "    </tr>\n",
       "    <tr>\n",
       "      <th>3</th>\n",
       "      <td>4</td>\n",
       "      <td>Comedy|Drama|Romance</td>\n",
       "    </tr>\n",
       "    <tr>\n",
       "      <th>4</th>\n",
       "      <td>5</td>\n",
       "      <td>Comedy</td>\n",
       "    </tr>\n",
       "  </tbody>\n",
       "</table>\n",
       "</div>"
      ],
      "text/plain": [
       "   movieId                                       genres\n",
       "0        1  Adventure|Animation|Children|Comedy|Fantasy\n",
       "1        2                   Adventure|Children|Fantasy\n",
       "2        3                               Comedy|Romance\n",
       "3        4                         Comedy|Drama|Romance\n",
       "4        5                                       Comedy"
      ]
     },
     "execution_count": 2,
     "metadata": {},
     "output_type": "execute_result"
    }
   ],
   "source": [
    "# Make DF with Movies and Genre\n",
    "movie_id_and_genre = pd.read_csv('movies.csv', header = 0, delimiter=',')\n",
    "movie_id_and_genre = movie_id_and_genre.drop(movie_id_and_genre.columns[[1]], axis = 1)\n",
    "movie_id_and_genre.head()"
   ]
  },
  {
   "cell_type": "code",
   "execution_count": 3,
   "metadata": {},
   "outputs": [
    {
     "data": {
      "text/html": [
       "<div>\n",
       "<style>\n",
       "    .dataframe thead tr:only-child th {\n",
       "        text-align: right;\n",
       "    }\n",
       "\n",
       "    .dataframe thead th {\n",
       "        text-align: left;\n",
       "    }\n",
       "\n",
       "    .dataframe tbody tr th {\n",
       "        vertical-align: top;\n",
       "    }\n",
       "</style>\n",
       "<table border=\"1\" class=\"dataframe\">\n",
       "  <thead>\n",
       "    <tr style=\"text-align: right;\">\n",
       "      <th></th>\n",
       "      <th>userId</th>\n",
       "      <th>movieId</th>\n",
       "      <th>tag</th>\n",
       "      <th>timestamp</th>\n",
       "    </tr>\n",
       "  </thead>\n",
       "  <tbody>\n",
       "    <tr>\n",
       "      <th>0</th>\n",
       "      <td>18</td>\n",
       "      <td>4141</td>\n",
       "      <td>Mark Waters</td>\n",
       "      <td>1240597180</td>\n",
       "    </tr>\n",
       "    <tr>\n",
       "      <th>1</th>\n",
       "      <td>65</td>\n",
       "      <td>208</td>\n",
       "      <td>dark hero</td>\n",
       "      <td>1368150078</td>\n",
       "    </tr>\n",
       "    <tr>\n",
       "      <th>2</th>\n",
       "      <td>65</td>\n",
       "      <td>353</td>\n",
       "      <td>dark hero</td>\n",
       "      <td>1368150079</td>\n",
       "    </tr>\n",
       "    <tr>\n",
       "      <th>3</th>\n",
       "      <td>65</td>\n",
       "      <td>521</td>\n",
       "      <td>noir thriller</td>\n",
       "      <td>1368149983</td>\n",
       "    </tr>\n",
       "    <tr>\n",
       "      <th>4</th>\n",
       "      <td>65</td>\n",
       "      <td>592</td>\n",
       "      <td>dark hero</td>\n",
       "      <td>1368150078</td>\n",
       "    </tr>\n",
       "  </tbody>\n",
       "</table>\n",
       "</div>"
      ],
      "text/plain": [
       "   userId  movieId            tag   timestamp\n",
       "0      18     4141    Mark Waters  1240597180\n",
       "1      65      208      dark hero  1368150078\n",
       "2      65      353      dark hero  1368150079\n",
       "3      65      521  noir thriller  1368149983\n",
       "4      65      592      dark hero  1368150078"
      ]
     },
     "execution_count": 3,
     "metadata": {},
     "output_type": "execute_result"
    }
   ],
   "source": [
    "# Make DF with Movies and Rating\n",
    "rating_user_movie_timestamp = pd.read_csv('tags.csv', header = 0, delimiter=',')\n",
    "rating_user_movie_timestamp = rating_user_movie_timestamp.drop(rating_user_movie_timestamp.index[10001:20000263])\n",
    "\n",
    "rating_user_movie_timestamp.head()"
   ]
  },
  {
   "cell_type": "code",
   "execution_count": 4,
   "metadata": {},
   "outputs": [
    {
     "data": {
      "text/html": [
       "<div>\n",
       "<style>\n",
       "    .dataframe thead tr:only-child th {\n",
       "        text-align: right;\n",
       "    }\n",
       "\n",
       "    .dataframe thead th {\n",
       "        text-align: left;\n",
       "    }\n",
       "\n",
       "    .dataframe tbody tr th {\n",
       "        vertical-align: top;\n",
       "    }\n",
       "</style>\n",
       "<table border=\"1\" class=\"dataframe\">\n",
       "  <thead>\n",
       "    <tr style=\"text-align: right;\">\n",
       "      <th></th>\n",
       "      <th>userId</th>\n",
       "      <th>movieId</th>\n",
       "      <th>tag</th>\n",
       "      <th>timestamp</th>\n",
       "    </tr>\n",
       "  </thead>\n",
       "  <tbody>\n",
       "    <tr>\n",
       "      <th>0</th>\n",
       "      <td>18</td>\n",
       "      <td>4141</td>\n",
       "      <td>Mark Waters</td>\n",
       "      <td>1240597180</td>\n",
       "    </tr>\n",
       "    <tr>\n",
       "      <th>1</th>\n",
       "      <td>65</td>\n",
       "      <td>208</td>\n",
       "      <td>dark hero</td>\n",
       "      <td>1368150078</td>\n",
       "    </tr>\n",
       "    <tr>\n",
       "      <th>2</th>\n",
       "      <td>65</td>\n",
       "      <td>353</td>\n",
       "      <td>dark hero</td>\n",
       "      <td>1368150079</td>\n",
       "    </tr>\n",
       "    <tr>\n",
       "      <th>3</th>\n",
       "      <td>65</td>\n",
       "      <td>521</td>\n",
       "      <td>noir thriller</td>\n",
       "      <td>1368149983</td>\n",
       "    </tr>\n",
       "    <tr>\n",
       "      <th>4</th>\n",
       "      <td>65</td>\n",
       "      <td>592</td>\n",
       "      <td>dark hero</td>\n",
       "      <td>1368150078</td>\n",
       "    </tr>\n",
       "  </tbody>\n",
       "</table>\n",
       "</div>"
      ],
      "text/plain": [
       "   userId  movieId            tag   timestamp\n",
       "0      18     4141    Mark Waters  1240597180\n",
       "1      65      208      dark hero  1368150078\n",
       "2      65      353      dark hero  1368150079\n",
       "3      65      521  noir thriller  1368149983\n",
       "4      65      592      dark hero  1368150078"
      ]
     },
     "execution_count": 4,
     "metadata": {},
     "output_type": "execute_result"
    }
   ],
   "source": [
    "# Create Copy DF to become Genre and Rating\n",
    "rating_user_genre_timestamp = rating_user_movie_timestamp\n",
    "rating_user_genre_timestamp.head()"
   ]
  },
  {
   "cell_type": "code",
   "execution_count": 5,
   "metadata": {},
   "outputs": [
    {
     "name": "stderr",
     "output_type": "stream",
     "text": [
      "/home/kcozart/anaconda3/lib/python3.6/site-packages/pandas/core/indexing.py:179: SettingWithCopyWarning: \n",
      "A value is trying to be set on a copy of a slice from a DataFrame\n",
      "\n",
      "See the caveats in the documentation: http://pandas.pydata.org/pandas-docs/stable/indexing.html#indexing-view-versus-copy\n",
      "  self._setitem_with_indexer(indexer, value)\n"
     ]
    }
   ],
   "source": [
    "# Create Actual Genre and Rating DF Content\n",
    "rating_user_genre_timestamp['movie_genre'] = 'unsucessful'\n",
    "num_rows = len(rating_user_genre_timestamp)\n",
    "for x in range(0, (num_rows-1)):\n",
    "    data = movie_id_and_genre['genres'].loc[movie_id_and_genre['movieId'] == \n",
    "                                            rating_user_genre_timestamp['movieId'].loc[x]]\n",
    "    for item in data:\n",
    "        rating_user_genre_timestamp['movie_genre'].loc[x] = item"
   ]
  },
  {
   "cell_type": "code",
   "execution_count": 6,
   "metadata": {},
   "outputs": [
    {
     "data": {
      "text/html": [
       "<div>\n",
       "<style>\n",
       "    .dataframe thead tr:only-child th {\n",
       "        text-align: right;\n",
       "    }\n",
       "\n",
       "    .dataframe thead th {\n",
       "        text-align: left;\n",
       "    }\n",
       "\n",
       "    .dataframe tbody tr th {\n",
       "        vertical-align: top;\n",
       "    }\n",
       "</style>\n",
       "<table border=\"1\" class=\"dataframe\">\n",
       "  <thead>\n",
       "    <tr style=\"text-align: right;\">\n",
       "      <th></th>\n",
       "      <th>userId</th>\n",
       "      <th>movieId</th>\n",
       "      <th>tag</th>\n",
       "      <th>timestamp</th>\n",
       "      <th>movie_genre</th>\n",
       "    </tr>\n",
       "  </thead>\n",
       "  <tbody>\n",
       "    <tr>\n",
       "      <th>0</th>\n",
       "      <td>18</td>\n",
       "      <td>4141</td>\n",
       "      <td>Mark Waters</td>\n",
       "      <td>1240597180</td>\n",
       "      <td>Comedy|Romance</td>\n",
       "    </tr>\n",
       "    <tr>\n",
       "      <th>1</th>\n",
       "      <td>65</td>\n",
       "      <td>208</td>\n",
       "      <td>dark hero</td>\n",
       "      <td>1368150078</td>\n",
       "      <td>Action|Adventure|Sci-Fi</td>\n",
       "    </tr>\n",
       "    <tr>\n",
       "      <th>2</th>\n",
       "      <td>65</td>\n",
       "      <td>353</td>\n",
       "      <td>dark hero</td>\n",
       "      <td>1368150079</td>\n",
       "      <td>Action|Crime|Fantasy|Thriller</td>\n",
       "    </tr>\n",
       "    <tr>\n",
       "      <th>3</th>\n",
       "      <td>65</td>\n",
       "      <td>521</td>\n",
       "      <td>noir thriller</td>\n",
       "      <td>1368149983</td>\n",
       "      <td>Crime|Thriller</td>\n",
       "    </tr>\n",
       "    <tr>\n",
       "      <th>4</th>\n",
       "      <td>65</td>\n",
       "      <td>592</td>\n",
       "      <td>dark hero</td>\n",
       "      <td>1368150078</td>\n",
       "      <td>Action|Crime|Thriller</td>\n",
       "    </tr>\n",
       "  </tbody>\n",
       "</table>\n",
       "</div>"
      ],
      "text/plain": [
       "   userId  movieId            tag   timestamp                    movie_genre\n",
       "0      18     4141    Mark Waters  1240597180                 Comedy|Romance\n",
       "1      65      208      dark hero  1368150078        Action|Adventure|Sci-Fi\n",
       "2      65      353      dark hero  1368150079  Action|Crime|Fantasy|Thriller\n",
       "3      65      521  noir thriller  1368149983                 Crime|Thriller\n",
       "4      65      592      dark hero  1368150078          Action|Crime|Thriller"
      ]
     },
     "execution_count": 6,
     "metadata": {},
     "output_type": "execute_result"
    }
   ],
   "source": [
    "# Check if DF for Genre and Rating is Sucessful\n",
    "rating_user_genre_timestamp.head()"
   ]
  },
  {
   "cell_type": "markdown",
   "metadata": {},
   "source": [
    "### Action"
   ]
  },
  {
   "cell_type": "code",
   "execution_count": 7,
   "metadata": {},
   "outputs": [
    {
     "name": "stdout",
     "output_type": "stream",
     "text": [
      "3520\n"
     ]
    }
   ],
   "source": [
    "# Find Movies from Action Genre\n",
    "replacement_value = 'Action'\n",
    "movie_list = []\n",
    "for x in range(0, len(movie_id_and_genre)):\n",
    "    if replacement_value in movie_id_and_genre['genres'][x]:\n",
    "        movie_list.append(movie_id_and_genre['movieId'][x])\n",
    "num_movies_in_genre = len(movie_list)\n",
    "print(num_movies_in_genre)"
   ]
  },
  {
   "cell_type": "code",
   "execution_count": 8,
   "metadata": {},
   "outputs": [
    {
     "name": "stdout",
     "output_type": "stream",
     "text": [
      "2426\n"
     ]
    }
   ],
   "source": [
    "# Find Num of Ratings for a Genre\n",
    "replacement_value = 'Action'\n",
    "movie_list = []\n",
    "for x in range(0, len(rating_user_genre_timestamp)):\n",
    "    if replacement_value in rating_user_genre_timestamp['movie_genre'][x]:\n",
    "        movie_list.append(rating_user_genre_timestamp['movieId'][x])\n",
    "num_ratings_for_genre = len(movie_list)\n",
    "print(num_ratings_for_genre)"
   ]
  },
  {
   "cell_type": "code",
   "execution_count": 9,
   "metadata": {},
   "outputs": [
    {
     "name": "stdout",
     "output_type": "stream",
     "text": [
      "0.6892045454545455\n"
     ]
    }
   ],
   "source": [
    "# Divide Num of Ratings by Num of Movies to Find RATINGS PER MOVIE for the Genre\n",
    "ratings_per_movie = num_ratings_for_genre / num_movies_in_genre\n",
    "action_ratings_per_movie = ratings_per_movie\n",
    "print(ratings_per_movie)"
   ]
  },
  {
   "cell_type": "markdown",
   "metadata": {},
   "source": [
    "### Adventure"
   ]
  },
  {
   "cell_type": "code",
   "execution_count": 10,
   "metadata": {},
   "outputs": [
    {
     "name": "stdout",
     "output_type": "stream",
     "text": [
      "2329\n"
     ]
    }
   ],
   "source": [
    "# Find Movies from Action Genre\n",
    "replacement_value = 'Adventure'\n",
    "movie_list = []\n",
    "for x in range(0, len(movie_id_and_genre)):\n",
    "    if replacement_value in movie_id_and_genre['genres'][x]:\n",
    "        movie_list.append(movie_id_and_genre['movieId'][x])\n",
    "num_movies_in_genre = len(movie_list)\n",
    "print(num_movies_in_genre)"
   ]
  },
  {
   "cell_type": "code",
   "execution_count": 11,
   "metadata": {},
   "outputs": [
    {
     "name": "stdout",
     "output_type": "stream",
     "text": [
      "1963\n"
     ]
    }
   ],
   "source": [
    "# Find Num of Ratings for a Genre\n",
    "replacement_value = 'Adventure'\n",
    "movie_list = []\n",
    "for x in range(0, len(rating_user_genre_timestamp)):\n",
    "    if replacement_value in rating_user_genre_timestamp['movie_genre'][x]:\n",
    "        movie_list.append(rating_user_genre_timestamp['movieId'][x])\n",
    "num_ratings_for_genre = len(movie_list)\n",
    "print(num_ratings_for_genre)"
   ]
  },
  {
   "cell_type": "code",
   "execution_count": 12,
   "metadata": {},
   "outputs": [
    {
     "name": "stdout",
     "output_type": "stream",
     "text": [
      "0.8428510090167454\n"
     ]
    }
   ],
   "source": [
    "# Divide Num of Ratings by Num of Movies to Find RATINGS PER MOVIE for the Genre\n",
    "ratings_per_movie = num_ratings_for_genre / num_movies_in_genre \n",
    "adventure_ratings_per_movie = ratings_per_movie\n",
    "adventure_ratings_per_movie = ratings_per_movie\n",
    "print(ratings_per_movie)"
   ]
  },
  {
   "cell_type": "markdown",
   "metadata": {},
   "source": [
    "### Animation"
   ]
  },
  {
   "cell_type": "code",
   "execution_count": 13,
   "metadata": {},
   "outputs": [
    {
     "name": "stdout",
     "output_type": "stream",
     "text": [
      "1027\n"
     ]
    }
   ],
   "source": [
    "# Find Movies from Action Genre\n",
    "replacement_value = 'Animation'\n",
    "movie_list = []\n",
    "for x in range(0, len(movie_id_and_genre)):\n",
    "    if replacement_value in movie_id_and_genre['genres'][x]:\n",
    "        movie_list.append(movie_id_and_genre['movieId'][x])\n",
    "num_movies_in_genre = len(movie_list)\n",
    "print(num_movies_in_genre)"
   ]
  },
  {
   "cell_type": "code",
   "execution_count": 14,
   "metadata": {},
   "outputs": [
    {
     "name": "stdout",
     "output_type": "stream",
     "text": [
      "493\n"
     ]
    }
   ],
   "source": [
    "# Find Num of Ratings for a Genre\n",
    "replacement_value = 'Animation'\n",
    "movie_list = []\n",
    "for x in range(0, len(rating_user_genre_timestamp)):\n",
    "    if replacement_value in rating_user_genre_timestamp['movie_genre'][x]:\n",
    "        movie_list.append(rating_user_genre_timestamp['movieId'][x])\n",
    "num_ratings_for_genre = len(movie_list)\n",
    "print(num_ratings_for_genre)"
   ]
  },
  {
   "cell_type": "code",
   "execution_count": 15,
   "metadata": {},
   "outputs": [
    {
     "name": "stdout",
     "output_type": "stream",
     "text": [
      "0.4800389483933788\n"
     ]
    }
   ],
   "source": [
    "# Divide Num of Ratings by Num of Movies to Find RATINGS PER MOVIE for the Genre\n",
    "ratings_per_movie = num_ratings_for_genre / num_movies_in_genre \n",
    "animation_ratings_per_movie = ratings_per_movie\n",
    "print(ratings_per_movie)"
   ]
  },
  {
   "cell_type": "markdown",
   "metadata": {},
   "source": [
    "### Children's"
   ]
  },
  {
   "cell_type": "code",
   "execution_count": 16,
   "metadata": {},
   "outputs": [
    {
     "name": "stdout",
     "output_type": "stream",
     "text": [
      "1139\n"
     ]
    }
   ],
   "source": [
    "# Find Movies from Action Genre\n",
    "replacement_value = 'Children'\n",
    "movie_list = []\n",
    "for x in range(0, len(movie_id_and_genre)):\n",
    "    if replacement_value in movie_id_and_genre['genres'][x]:\n",
    "        movie_list.append(movie_id_and_genre['movieId'][x])\n",
    "num_movies_in_genre = len(movie_list)\n",
    "print(num_movies_in_genre)"
   ]
  },
  {
   "cell_type": "code",
   "execution_count": 17,
   "metadata": {},
   "outputs": [
    {
     "name": "stdout",
     "output_type": "stream",
     "text": [
      "671\n"
     ]
    }
   ],
   "source": [
    "# Find Num of Ratings for a Genre\n",
    "replacement_value = 'Children'\n",
    "movie_list = []\n",
    "for x in range(0, len(rating_user_genre_timestamp)):\n",
    "    if replacement_value in rating_user_genre_timestamp['movie_genre'][x]:\n",
    "        movie_list.append(rating_user_genre_timestamp['movieId'][x])\n",
    "num_ratings_for_genre = len(movie_list)\n",
    "print(num_ratings_for_genre)"
   ]
  },
  {
   "cell_type": "code",
   "execution_count": 18,
   "metadata": {},
   "outputs": [
    {
     "name": "stdout",
     "output_type": "stream",
     "text": [
      "0.5891132572431957\n"
     ]
    }
   ],
   "source": [
    "# Divide Num of Ratings by Num of Movies to Find RATINGS PER MOVIE for the Genre\n",
    "ratings_per_movie = num_ratings_for_genre / num_movies_in_genre \n",
    "children_ratings_per_movie = ratings_per_movie\n",
    "print(ratings_per_movie)"
   ]
  },
  {
   "cell_type": "markdown",
   "metadata": {},
   "source": [
    "### Comedy"
   ]
  },
  {
   "cell_type": "code",
   "execution_count": 19,
   "metadata": {},
   "outputs": [
    {
     "name": "stdout",
     "output_type": "stream",
     "text": [
      "8374\n"
     ]
    }
   ],
   "source": [
    "# Find Movies from Action Genre\n",
    "replacement_value = 'Comedy'\n",
    "movie_list = []\n",
    "for x in range(0, len(movie_id_and_genre)):\n",
    "    if replacement_value in movie_id_and_genre['genres'][x]:\n",
    "        movie_list.append(movie_id_and_genre['movieId'][x])\n",
    "num_movies_in_genre = len(movie_list)\n",
    "print(num_movies_in_genre)"
   ]
  },
  {
   "cell_type": "code",
   "execution_count": 20,
   "metadata": {},
   "outputs": [
    {
     "name": "stdout",
     "output_type": "stream",
     "text": [
      "3347\n"
     ]
    }
   ],
   "source": [
    "# Find Num of Ratings for a Genre\n",
    "replacement_value = 'Comedy'\n",
    "movie_list = []\n",
    "for x in range(0, len(rating_user_genre_timestamp)):\n",
    "    if replacement_value in rating_user_genre_timestamp['movie_genre'][x]:\n",
    "        movie_list.append(rating_user_genre_timestamp['movieId'][x])\n",
    "num_ratings_for_genre = len(movie_list)\n",
    "print(num_ratings_for_genre)"
   ]
  },
  {
   "cell_type": "code",
   "execution_count": 21,
   "metadata": {},
   "outputs": [
    {
     "name": "stdout",
     "output_type": "stream",
     "text": [
      "0.39968951516599\n"
     ]
    }
   ],
   "source": [
    "# Divide Num of Ratings by Num of Movies to Find RATINGS PER MOVIE for the Genre\n",
    "ratings_per_movie = num_ratings_for_genre / num_movies_in_genre \n",
    "comedy_ratings_per_movie = ratings_per_movie\n",
    "print(ratings_per_movie)"
   ]
  },
  {
   "cell_type": "markdown",
   "metadata": {},
   "source": [
    "### Crime"
   ]
  },
  {
   "cell_type": "code",
   "execution_count": 22,
   "metadata": {},
   "outputs": [
    {
     "name": "stdout",
     "output_type": "stream",
     "text": [
      "2939\n"
     ]
    }
   ],
   "source": [
    "# Find Movies from Action Genre\n",
    "replacement_value = 'Crime'\n",
    "movie_list = []\n",
    "for x in range(0, len(movie_id_and_genre)):\n",
    "    if replacement_value in movie_id_and_genre['genres'][x]:\n",
    "        movie_list.append(movie_id_and_genre['movieId'][x])\n",
    "num_movies_in_genre = len(movie_list)\n",
    "print(num_movies_in_genre)"
   ]
  },
  {
   "cell_type": "code",
   "execution_count": 23,
   "metadata": {},
   "outputs": [
    {
     "name": "stdout",
     "output_type": "stream",
     "text": [
      "1773\n"
     ]
    }
   ],
   "source": [
    "# Find Num of Ratings for a Genre\n",
    "replacement_value = 'Crime'\n",
    "movie_list = []\n",
    "for x in range(0, len(rating_user_genre_timestamp)):\n",
    "    if replacement_value in rating_user_genre_timestamp['movie_genre'][x]:\n",
    "        movie_list.append(rating_user_genre_timestamp['movieId'][x])\n",
    "num_ratings_for_genre = len(movie_list)\n",
    "print(num_ratings_for_genre)"
   ]
  },
  {
   "cell_type": "code",
   "execution_count": 24,
   "metadata": {},
   "outputs": [
    {
     "name": "stdout",
     "output_type": "stream",
     "text": [
      "0.60326641714869\n"
     ]
    }
   ],
   "source": [
    "# Divide Num of Ratings by Num of Movies to Find RATINGS PER MOVIE for the Genre\n",
    "ratings_per_movie = num_ratings_for_genre / num_movies_in_genre \n",
    "crime_ratings_per_movie = ratings_per_movie\n",
    "print(ratings_per_movie)"
   ]
  },
  {
   "cell_type": "markdown",
   "metadata": {},
   "source": [
    "### Documentary"
   ]
  },
  {
   "cell_type": "code",
   "execution_count": 25,
   "metadata": {},
   "outputs": [
    {
     "name": "stdout",
     "output_type": "stream",
     "text": [
      "2471\n"
     ]
    }
   ],
   "source": [
    "# Find Movies from Action Genre\n",
    "replacement_value = 'Documentary'\n",
    "movie_list = []\n",
    "for x in range(0, len(movie_id_and_genre)):\n",
    "    if replacement_value in movie_id_and_genre['genres'][x]:\n",
    "        movie_list.append(movie_id_and_genre['movieId'][x])\n",
    "num_movies_in_genre = len(movie_list)\n",
    "print(num_movies_in_genre)"
   ]
  },
  {
   "cell_type": "code",
   "execution_count": 26,
   "metadata": {},
   "outputs": [
    {
     "name": "stdout",
     "output_type": "stream",
     "text": [
      "207\n"
     ]
    }
   ],
   "source": [
    "# Find Num of Ratings for a Genre\n",
    "replacement_value = 'Documentary'\n",
    "movie_list = []\n",
    "for x in range(0, len(rating_user_genre_timestamp)):\n",
    "    if replacement_value in rating_user_genre_timestamp['movie_genre'][x]:\n",
    "        movie_list.append(rating_user_genre_timestamp['movieId'][x])\n",
    "num_ratings_for_genre = len(movie_list)\n",
    "print(num_ratings_for_genre)"
   ]
  },
  {
   "cell_type": "code",
   "execution_count": 27,
   "metadata": {},
   "outputs": [
    {
     "name": "stdout",
     "output_type": "stream",
     "text": [
      "0.08377175232699312\n"
     ]
    }
   ],
   "source": [
    "# Divide Num of Ratings by Num of Movies to Find RATINGS PER MOVIE for the Genre\n",
    "ratings_per_movie = num_ratings_for_genre / num_movies_in_genre \n",
    "documentary_ratings_per_movie = ratings_per_movie\n",
    "print(ratings_per_movie)"
   ]
  },
  {
   "cell_type": "markdown",
   "metadata": {},
   "source": [
    "### Drama"
   ]
  },
  {
   "cell_type": "code",
   "execution_count": 28,
   "metadata": {},
   "outputs": [
    {
     "name": "stdout",
     "output_type": "stream",
     "text": [
      "13344\n"
     ]
    }
   ],
   "source": [
    "# Find Movies from Action Genre\n",
    "replacement_value = 'Drama'\n",
    "movie_list = []\n",
    "for x in range(0, len(movie_id_and_genre)):\n",
    "    if replacement_value in movie_id_and_genre['genres'][x]:\n",
    "        movie_list.append(movie_id_and_genre['movieId'][x])\n",
    "num_movies_in_genre = len(movie_list)\n",
    "print(num_movies_in_genre)"
   ]
  },
  {
   "cell_type": "code",
   "execution_count": 29,
   "metadata": {},
   "outputs": [
    {
     "name": "stdout",
     "output_type": "stream",
     "text": [
      "4892\n"
     ]
    }
   ],
   "source": [
    "# Find Num of Ratings for a Genre\n",
    "replacement_value = 'Drama'\n",
    "movie_list = []\n",
    "for x in range(0, len(rating_user_genre_timestamp)):\n",
    "    if replacement_value in rating_user_genre_timestamp['movie_genre'][x]:\n",
    "        movie_list.append(rating_user_genre_timestamp['movieId'][x])\n",
    "num_ratings_for_genre = len(movie_list)\n",
    "print(num_ratings_for_genre)"
   ]
  },
  {
   "cell_type": "code",
   "execution_count": 30,
   "metadata": {},
   "outputs": [
    {
     "name": "stdout",
     "output_type": "stream",
     "text": [
      "0.36660671462829736\n"
     ]
    }
   ],
   "source": [
    "# Divide Num of Ratings by Num of Movies to Find RATINGS PER MOVIE for the Genre\n",
    "ratings_per_movie = num_ratings_for_genre / num_movies_in_genre \n",
    "drama_ratings_per_movie = ratings_per_movie\n",
    "print(ratings_per_movie)"
   ]
  },
  {
   "cell_type": "markdown",
   "metadata": {},
   "source": [
    "### Fantasy"
   ]
  },
  {
   "cell_type": "code",
   "execution_count": 31,
   "metadata": {},
   "outputs": [
    {
     "name": "stdout",
     "output_type": "stream",
     "text": [
      "1412\n"
     ]
    }
   ],
   "source": [
    "# Find Movies from Action Genre\n",
    "replacement_value = 'Fantasy'\n",
    "movie_list = []\n",
    "for x in range(0, len(movie_id_and_genre)):\n",
    "    if replacement_value in movie_id_and_genre['genres'][x]:\n",
    "        movie_list.append(movie_id_and_genre['movieId'][x])\n",
    "num_movies_in_genre = len(movie_list)\n",
    "print(num_movies_in_genre)"
   ]
  },
  {
   "cell_type": "code",
   "execution_count": 32,
   "metadata": {},
   "outputs": [
    {
     "name": "stdout",
     "output_type": "stream",
     "text": [
      "1073\n"
     ]
    }
   ],
   "source": [
    "# Find Num of Ratings for a Genre\n",
    "replacement_value = 'Fantasy'\n",
    "movie_list = []\n",
    "for x in range(0, len(rating_user_genre_timestamp)):\n",
    "    if replacement_value in rating_user_genre_timestamp['movie_genre'][x]:\n",
    "        movie_list.append(rating_user_genre_timestamp['movieId'][x])\n",
    "num_ratings_for_genre = len(movie_list)\n",
    "print(num_ratings_for_genre)"
   ]
  },
  {
   "cell_type": "code",
   "execution_count": 33,
   "metadata": {},
   "outputs": [
    {
     "name": "stdout",
     "output_type": "stream",
     "text": [
      "0.759915014164306\n"
     ]
    }
   ],
   "source": [
    "# Divide Num of Ratings by Num of Movies to Find RATINGS PER MOVIE for the Genre\n",
    "ratings_per_movie = num_ratings_for_genre / num_movies_in_genre \n",
    "fantasy_ratings_per_movie = ratings_per_movie\n",
    "print(ratings_per_movie)"
   ]
  },
  {
   "cell_type": "markdown",
   "metadata": {},
   "source": [
    "### Film-Noir"
   ]
  },
  {
   "cell_type": "code",
   "execution_count": 34,
   "metadata": {},
   "outputs": [
    {
     "name": "stdout",
     "output_type": "stream",
     "text": [
      "330\n"
     ]
    }
   ],
   "source": [
    "# Find Movies from Action Genre\n",
    "replacement_value = 'Noir'\n",
    "movie_list = []\n",
    "for x in range(0, len(movie_id_and_genre)):\n",
    "    if replacement_value in movie_id_and_genre['genres'][x]:\n",
    "        movie_list.append(movie_id_and_genre['movieId'][x])\n",
    "num_movies_in_genre = len(movie_list)\n",
    "print(num_movies_in_genre)"
   ]
  },
  {
   "cell_type": "code",
   "execution_count": 35,
   "metadata": {},
   "outputs": [
    {
     "name": "stdout",
     "output_type": "stream",
     "text": [
      "242\n"
     ]
    }
   ],
   "source": [
    "# Find Num of Ratings for a Genre\n",
    "replacement_value = 'Noir'\n",
    "movie_list = []\n",
    "for x in range(0, len(rating_user_genre_timestamp)):\n",
    "    if replacement_value in rating_user_genre_timestamp['movie_genre'][x]:\n",
    "        movie_list.append(rating_user_genre_timestamp['movieId'][x])\n",
    "num_ratings_for_genre = len(movie_list)\n",
    "print(num_ratings_for_genre)"
   ]
  },
  {
   "cell_type": "code",
   "execution_count": 36,
   "metadata": {},
   "outputs": [
    {
     "name": "stdout",
     "output_type": "stream",
     "text": [
      "0.7333333333333333\n"
     ]
    }
   ],
   "source": [
    "# Divide Num of Ratings by Num of Movies to Find RATINGS PER MOVIE for the Genre\n",
    "ratings_per_movie = num_ratings_for_genre / num_movies_in_genre \n",
    "noir_ratings_per_movie = ratings_per_movie\n",
    "print(ratings_per_movie)"
   ]
  },
  {
   "cell_type": "markdown",
   "metadata": {},
   "source": [
    "### Horror"
   ]
  },
  {
   "cell_type": "code",
   "execution_count": 37,
   "metadata": {},
   "outputs": [
    {
     "name": "stdout",
     "output_type": "stream",
     "text": [
      "2611\n"
     ]
    }
   ],
   "source": [
    "# Find Movies from Action Genre\n",
    "replacement_value = 'Horror'\n",
    "movie_list = []\n",
    "for x in range(0, len(movie_id_and_genre)):\n",
    "    if replacement_value in movie_id_and_genre['genres'][x]:\n",
    "        movie_list.append(movie_id_and_genre['movieId'][x])\n",
    "num_movies_in_genre = len(movie_list)\n",
    "print(num_movies_in_genre)"
   ]
  },
  {
   "cell_type": "code",
   "execution_count": 38,
   "metadata": {},
   "outputs": [
    {
     "name": "stdout",
     "output_type": "stream",
     "text": [
      "760\n"
     ]
    }
   ],
   "source": [
    "# Find Num of Ratings for a Genre\n",
    "replacement_value = 'Horror'\n",
    "movie_list = []\n",
    "for x in range(0, len(rating_user_genre_timestamp)):\n",
    "    if replacement_value in rating_user_genre_timestamp['movie_genre'][x]:\n",
    "        movie_list.append(rating_user_genre_timestamp['movieId'][x])\n",
    "num_ratings_for_genre = len(movie_list)\n",
    "print(num_ratings_for_genre)"
   ]
  },
  {
   "cell_type": "code",
   "execution_count": 39,
   "metadata": {},
   "outputs": [
    {
     "name": "stdout",
     "output_type": "stream",
     "text": [
      "0.29107621600919187\n"
     ]
    }
   ],
   "source": [
    "# Divide Num of Ratings by Num of Movies to Find RATINGS PER MOVIE for the Genre\n",
    "ratings_per_movie = num_ratings_for_genre / num_movies_in_genre \n",
    "horror_ratings_per_movie = ratings_per_movie\n",
    "print(ratings_per_movie)"
   ]
  },
  {
   "cell_type": "markdown",
   "metadata": {},
   "source": [
    "### Musical"
   ]
  },
  {
   "cell_type": "code",
   "execution_count": 40,
   "metadata": {},
   "outputs": [
    {
     "name": "stdout",
     "output_type": "stream",
     "text": [
      "1036\n"
     ]
    }
   ],
   "source": [
    "# Find Movies from Action Genre\n",
    "replacement_value = 'Musical'\n",
    "movie_list = []\n",
    "for x in range(0, len(movie_id_and_genre)):\n",
    "    if replacement_value in movie_id_and_genre['genres'][x]:\n",
    "        movie_list.append(movie_id_and_genre['movieId'][x])\n",
    "num_movies_in_genre = len(movie_list)\n",
    "print(num_movies_in_genre)"
   ]
  },
  {
   "cell_type": "code",
   "execution_count": 41,
   "metadata": {},
   "outputs": [
    {
     "name": "stdout",
     "output_type": "stream",
     "text": [
      "529\n"
     ]
    }
   ],
   "source": [
    "# Find Num of Ratings for a Genre\n",
    "replacement_value = 'Musical'\n",
    "movie_list = []\n",
    "for x in range(0, len(rating_user_genre_timestamp)):\n",
    "    if replacement_value in rating_user_genre_timestamp['movie_genre'][x]:\n",
    "        movie_list.append(rating_user_genre_timestamp['movieId'][x])\n",
    "num_ratings_for_genre = len(movie_list)\n",
    "print(num_ratings_for_genre)"
   ]
  },
  {
   "cell_type": "code",
   "execution_count": 42,
   "metadata": {},
   "outputs": [
    {
     "name": "stdout",
     "output_type": "stream",
     "text": [
      "0.5106177606177607\n"
     ]
    }
   ],
   "source": [
    "# Divide Num of Ratings by Num of Movies to Find RATINGS PER MOVIE for the Genre\n",
    "ratings_per_movie = num_ratings_for_genre / num_movies_in_genre \n",
    "musical_ratings_per_movie = ratings_per_movie\n",
    "print(ratings_per_movie)"
   ]
  },
  {
   "cell_type": "markdown",
   "metadata": {},
   "source": [
    "### Mystery"
   ]
  },
  {
   "cell_type": "code",
   "execution_count": 43,
   "metadata": {},
   "outputs": [
    {
     "name": "stdout",
     "output_type": "stream",
     "text": [
      "1514\n"
     ]
    }
   ],
   "source": [
    "# Find Movies from Action Genre\n",
    "replacement_value = 'Mystery'\n",
    "movie_list = []\n",
    "for x in range(0, len(movie_id_and_genre)):\n",
    "    if replacement_value in movie_id_and_genre['genres'][x]:\n",
    "        movie_list.append(movie_id_and_genre['movieId'][x])\n",
    "num_movies_in_genre = len(movie_list)\n",
    "print(num_movies_in_genre)"
   ]
  },
  {
   "cell_type": "code",
   "execution_count": 44,
   "metadata": {},
   "outputs": [
    {
     "name": "stdout",
     "output_type": "stream",
     "text": [
      "1081\n"
     ]
    }
   ],
   "source": [
    "# Find Num of Ratings for a Genre\n",
    "replacement_value = 'Mystery'\n",
    "movie_list = []\n",
    "for x in range(0, len(rating_user_genre_timestamp)):\n",
    "    if replacement_value in rating_user_genre_timestamp['movie_genre'][x]:\n",
    "        movie_list.append(rating_user_genre_timestamp['movieId'][x])\n",
    "num_ratings_for_genre = len(movie_list)\n",
    "print(num_ratings_for_genre)"
   ]
  },
  {
   "cell_type": "code",
   "execution_count": 45,
   "metadata": {},
   "outputs": [
    {
     "name": "stdout",
     "output_type": "stream",
     "text": [
      "0.7140026420079261\n"
     ]
    }
   ],
   "source": [
    "# Divide Num of Ratings by Num of Movies to Find RATINGS PER MOVIE for the Genre\n",
    "ratings_per_movie = num_ratings_for_genre / num_movies_in_genre \n",
    "mystery_ratings_per_movie = ratings_per_movie\n",
    "print(ratings_per_movie)"
   ]
  },
  {
   "cell_type": "markdown",
   "metadata": {},
   "source": [
    "### Romance"
   ]
  },
  {
   "cell_type": "code",
   "execution_count": 46,
   "metadata": {},
   "outputs": [
    {
     "name": "stdout",
     "output_type": "stream",
     "text": [
      "4127\n"
     ]
    }
   ],
   "source": [
    "# Find Movies from Action Genre\n",
    "replacement_value = 'Romance'\n",
    "movie_list = []\n",
    "for x in range(0, len(movie_id_and_genre)):\n",
    "    if replacement_value in movie_id_and_genre['genres'][x]:\n",
    "        movie_list.append(movie_id_and_genre['movieId'][x])\n",
    "num_movies_in_genre = len(movie_list)\n",
    "print(num_movies_in_genre)"
   ]
  },
  {
   "cell_type": "code",
   "execution_count": 47,
   "metadata": {},
   "outputs": [
    {
     "name": "stdout",
     "output_type": "stream",
     "text": [
      "1896\n"
     ]
    }
   ],
   "source": [
    "# Find Num of Ratings for a Genre\n",
    "replacement_value = 'Romance'\n",
    "movie_list = []\n",
    "for x in range(0, len(rating_user_genre_timestamp)):\n",
    "    if replacement_value in rating_user_genre_timestamp['movie_genre'][x]:\n",
    "        movie_list.append(rating_user_genre_timestamp['movieId'][x])\n",
    "num_ratings_for_genre = len(movie_list)\n",
    "print(num_ratings_for_genre)"
   ]
  },
  {
   "cell_type": "code",
   "execution_count": 48,
   "metadata": {},
   "outputs": [
    {
     "name": "stdout",
     "output_type": "stream",
     "text": [
      "0.45941361763993216\n"
     ]
    }
   ],
   "source": [
    "# Divide Num of Ratings by Num of Movies to Find RATINGS PER MOVIE for the Genre\n",
    "ratings_per_movie = num_ratings_for_genre / num_movies_in_genre \n",
    "romance_ratings_per_movie = ratings_per_movie\n",
    "print(ratings_per_movie)"
   ]
  },
  {
   "cell_type": "markdown",
   "metadata": {},
   "source": [
    "### Sci-Fi"
   ]
  },
  {
   "cell_type": "code",
   "execution_count": 49,
   "metadata": {},
   "outputs": [
    {
     "name": "stdout",
     "output_type": "stream",
     "text": [
      "1743\n"
     ]
    }
   ],
   "source": [
    "# Find Movies from Action Genre\n",
    "replacement_value = 'Sci'\n",
    "movie_list = []\n",
    "for x in range(0, len(movie_id_and_genre)):\n",
    "    if replacement_value in movie_id_and_genre['genres'][x]:\n",
    "        movie_list.append(movie_id_and_genre['movieId'][x])\n",
    "num_movies_in_genre = len(movie_list)\n",
    "print(num_movies_in_genre)"
   ]
  },
  {
   "cell_type": "code",
   "execution_count": 50,
   "metadata": {},
   "outputs": [
    {
     "name": "stdout",
     "output_type": "stream",
     "text": [
      "1494\n"
     ]
    }
   ],
   "source": [
    "# Find Num of Ratings for a Genre\n",
    "replacement_value = 'Sci'\n",
    "movie_list = []\n",
    "for x in range(0, len(rating_user_genre_timestamp)):\n",
    "    if replacement_value in rating_user_genre_timestamp['movie_genre'][x]:\n",
    "        movie_list.append(rating_user_genre_timestamp['movieId'][x])\n",
    "num_ratings_for_genre = len(movie_list)\n",
    "print(num_ratings_for_genre)"
   ]
  },
  {
   "cell_type": "code",
   "execution_count": 51,
   "metadata": {},
   "outputs": [
    {
     "name": "stdout",
     "output_type": "stream",
     "text": [
      "0.8571428571428571\n"
     ]
    }
   ],
   "source": [
    "# Divide Num of Ratings by Num of Movies to Find RATINGS PER MOVIE for the Genre\n",
    "ratings_per_movie = num_ratings_for_genre / num_movies_in_genre \n",
    "sci_ratings_per_movie = ratings_per_movie\n",
    "print(ratings_per_movie)"
   ]
  },
  {
   "cell_type": "markdown",
   "metadata": {},
   "source": [
    "### Thriller"
   ]
  },
  {
   "cell_type": "code",
   "execution_count": 52,
   "metadata": {},
   "outputs": [
    {
     "name": "stdout",
     "output_type": "stream",
     "text": [
      "4178\n"
     ]
    }
   ],
   "source": [
    "# Find Movies from Action Genre\n",
    "replacement_value = 'Thriller'\n",
    "movie_list = []\n",
    "for x in range(0, len(movie_id_and_genre)):\n",
    "    if replacement_value in movie_id_and_genre['genres'][x]:\n",
    "        movie_list.append(movie_id_and_genre['movieId'][x])\n",
    "num_movies_in_genre = len(movie_list)\n",
    "print(num_movies_in_genre)"
   ]
  },
  {
   "cell_type": "code",
   "execution_count": 53,
   "metadata": {},
   "outputs": [
    {
     "name": "stdout",
     "output_type": "stream",
     "text": [
      "2771\n"
     ]
    }
   ],
   "source": [
    "# Find Num of Ratings for a Genre\n",
    "replacement_value = 'Thriller'\n",
    "movie_list = []\n",
    "for x in range(0, len(rating_user_genre_timestamp)):\n",
    "    if replacement_value in rating_user_genre_timestamp['movie_genre'][x]:\n",
    "        movie_list.append(rating_user_genre_timestamp['movieId'][x])\n",
    "num_ratings_for_genre = len(movie_list)\n",
    "print(num_ratings_for_genre)"
   ]
  },
  {
   "cell_type": "code",
   "execution_count": 54,
   "metadata": {},
   "outputs": [
    {
     "name": "stdout",
     "output_type": "stream",
     "text": [
      "0.6632359980852083\n"
     ]
    }
   ],
   "source": [
    "# Divide Num of Ratings by Num of Movies to Find RATINGS PER MOVIE for the Genre\n",
    "ratings_per_movie = num_ratings_for_genre / num_movies_in_genre \n",
    "thriller_ratings_per_movie = ratings_per_movie\n",
    "print(ratings_per_movie)"
   ]
  },
  {
   "cell_type": "markdown",
   "metadata": {},
   "source": [
    "### War"
   ]
  },
  {
   "cell_type": "code",
   "execution_count": 55,
   "metadata": {},
   "outputs": [
    {
     "name": "stdout",
     "output_type": "stream",
     "text": [
      "1194\n"
     ]
    }
   ],
   "source": [
    "# Find Movies from Action Genre\n",
    "replacement_value = 'War'\n",
    "movie_list = []\n",
    "for x in range(0, len(movie_id_and_genre)):\n",
    "    if replacement_value in movie_id_and_genre['genres'][x]:\n",
    "        movie_list.append(movie_id_and_genre['movieId'][x])\n",
    "num_movies_in_genre = len(movie_list)\n",
    "print(num_movies_in_genre)"
   ]
  },
  {
   "cell_type": "code",
   "execution_count": 56,
   "metadata": {},
   "outputs": [
    {
     "name": "stdout",
     "output_type": "stream",
     "text": [
      "538\n"
     ]
    }
   ],
   "source": [
    "# Find Num of Ratings for a Genre\n",
    "replacement_value = 'War'\n",
    "movie_list = []\n",
    "for x in range(0, len(rating_user_genre_timestamp)):\n",
    "    if replacement_value in rating_user_genre_timestamp['movie_genre'][x]:\n",
    "        movie_list.append(rating_user_genre_timestamp['movieId'][x])\n",
    "num_ratings_for_genre = len(movie_list)\n",
    "print(num_ratings_for_genre)"
   ]
  },
  {
   "cell_type": "code",
   "execution_count": 57,
   "metadata": {},
   "outputs": [
    {
     "name": "stdout",
     "output_type": "stream",
     "text": [
      "0.45058626465661644\n"
     ]
    }
   ],
   "source": [
    "# Divide Num of Ratings by Num of Movies to Find RATINGS PER MOVIE for the Genre\n",
    "ratings_per_movie = num_ratings_for_genre / num_movies_in_genre\n",
    "war_ratings_per_movie = ratings_per_movie\n",
    "print(ratings_per_movie)"
   ]
  },
  {
   "cell_type": "markdown",
   "metadata": {},
   "source": [
    "### Western"
   ]
  },
  {
   "cell_type": "code",
   "execution_count": 58,
   "metadata": {},
   "outputs": [
    {
     "name": "stdout",
     "output_type": "stream",
     "text": [
      "676\n"
     ]
    }
   ],
   "source": [
    "# Find Movies from Action Genre\n",
    "replacement_value = 'Western'\n",
    "movie_list = []\n",
    "for x in range(0, len(movie_id_and_genre)):\n",
    "    if replacement_value in movie_id_and_genre['genres'][x]:\n",
    "        movie_list.append(movie_id_and_genre['movieId'][x])\n",
    "num_movies_in_genre = len(movie_list)\n",
    "print(num_movies_in_genre)"
   ]
  },
  {
   "cell_type": "code",
   "execution_count": 59,
   "metadata": {},
   "outputs": [
    {
     "name": "stdout",
     "output_type": "stream",
     "text": [
      "123\n"
     ]
    }
   ],
   "source": [
    "# Find Num of Ratings for a Genre\n",
    "replacement_value = 'Western'\n",
    "movie_list = []\n",
    "for x in range(0, len(rating_user_genre_timestamp)):\n",
    "    if replacement_value in rating_user_genre_timestamp['movie_genre'][x]:\n",
    "        movie_list.append(rating_user_genre_timestamp['movieId'][x])\n",
    "num_ratings_for_genre = len(movie_list)\n",
    "print(num_ratings_for_genre)"
   ]
  },
  {
   "cell_type": "code",
   "execution_count": 60,
   "metadata": {},
   "outputs": [
    {
     "name": "stdout",
     "output_type": "stream",
     "text": [
      "0.1819526627218935\n"
     ]
    }
   ],
   "source": [
    "# Divide Num of Ratings by Num of Movies to Find RATINGS PER MOVIE for the Genre\n",
    "ratings_per_movie = num_ratings_for_genre / num_movies_in_genre \n",
    "western_ratings_per_movie = ratings_per_movie\n",
    "print(ratings_per_movie)"
   ]
  },
  {
   "cell_type": "markdown",
   "metadata": {},
   "source": [
    "### No Genres Listed"
   ]
  },
  {
   "cell_type": "code",
   "execution_count": 61,
   "metadata": {},
   "outputs": [
    {
     "name": "stdout",
     "output_type": "stream",
     "text": [
      "246\n"
     ]
    }
   ],
   "source": [
    "# Find Movies from Action Genre\n",
    "replacement_value = 'no genres'\n",
    "movie_list = []\n",
    "for x in range(0, len(movie_id_and_genre)):\n",
    "    if replacement_value in movie_id_and_genre['genres'][x]:\n",
    "        movie_list.append(movie_id_and_genre['movieId'][x])\n",
    "num_movies_in_genre = len(movie_list)\n",
    "print(num_movies_in_genre)"
   ]
  },
  {
   "cell_type": "code",
   "execution_count": 62,
   "metadata": {},
   "outputs": [
    {
     "name": "stdout",
     "output_type": "stream",
     "text": [
      "0\n"
     ]
    }
   ],
   "source": [
    "# Find Num of Ratings for a Genre\n",
    "replacement_value = 'no genres'\n",
    "movie_list = []\n",
    "for x in range(0, len(rating_user_genre_timestamp)):\n",
    "    if replacement_value in rating_user_genre_timestamp['movie_genre'][x]:\n",
    "        movie_list.append(rating_user_genre_timestamp['movieId'][x])\n",
    "num_ratings_for_genre = len(movie_list)\n",
    "print(num_ratings_for_genre)"
   ]
  },
  {
   "cell_type": "code",
   "execution_count": 63,
   "metadata": {},
   "outputs": [
    {
     "name": "stdout",
     "output_type": "stream",
     "text": [
      "0.0\n"
     ]
    }
   ],
   "source": [
    "# Divide Num of Ratings by Num of Movies to Find RATINGS PER MOVIE for the Genre\n",
    "ratings_per_movie = num_ratings_for_genre / num_movies_in_genre \n",
    "no_genres_ratings_per_movie = ratings_per_movie\n",
    "print(ratings_per_movie)"
   ]
  },
  {
   "cell_type": "markdown",
   "metadata": {},
   "source": [
    "## Ratings per Genre Results"
   ]
  },
  {
   "cell_type": "code",
   "execution_count": 70,
   "metadata": {},
   "outputs": [
    {
     "name": "stdout",
     "output_type": "stream",
     "text": [
      "['Action', 'Adventure', 'Animation', 'Children', 'Comedy', 'Crime', 'Documentary', 'Drama', 'Fantasy', 'Film-Noir', 'Horror', 'Musical', 'Mystery', 'Romance', 'Sci-Fi', 'Thriller', 'War', 'Western', 'No Genres Listed']\n",
      "[0.6892045454545455, 0.8428510090167454, 0.4800389483933788, 0.5891132572431957, 0.39968951516599, 0.60326641714869, 0.08377175232699312, 0.36660671462829736, 0.759915014164306, 0.7333333333333333, 0.29107621600919187, 0.5106177606177607, 0.7140026420079261, 0.45941361763993216, 0.8571428571428571, 0.6632359980852083, 0.45058626465661644, 0.1819526627218935, 0.0]\n"
     ]
    }
   ],
   "source": [
    "genre_names = ['Action', 'Adventure', 'Animation',\n",
    "              'Children', 'Comedy', 'Crime', 'Documentary',\n",
    "              'Drama', 'Fantasy', 'Film-Noir', 'Horror',\n",
    "              'Musical', 'Mystery', 'Romance', 'Sci-Fi',\n",
    "              'Thriller', 'War', 'Western', 'No Genres Listed']\n",
    "genre_values = [action_ratings_per_movie, adventure_ratings_per_movie,\n",
    "               animation_ratings_per_movie, children_ratings_per_movie,\n",
    "               comedy_ratings_per_movie, crime_ratings_per_movie,\n",
    "               documentary_ratings_per_movie, drama_ratings_per_movie,\n",
    "               fantasy_ratings_per_movie, noir_ratings_per_movie,\n",
    "               horror_ratings_per_movie, musical_ratings_per_movie,\n",
    "               mystery_ratings_per_movie, romance_ratings_per_movie,\n",
    "               sci_ratings_per_movie, thriller_ratings_per_movie,\n",
    "               war_ratings_per_movie, western_ratings_per_movie,\n",
    "               no_genres_ratings_per_movie]\n",
    "print(genre_names)\n",
    "print(genre_values)"
   ]
  },
  {
   "cell_type": "code",
   "execution_count": 71,
   "metadata": {},
   "outputs": [
    {
     "data": {
      "image/png": "[encoded data removed]",
      "text/plain": [
       "<matplotlib.figure.Figure at 0x7f5e2b8e4cc0>"
      ]
     },
     "metadata": {},
     "output_type": "display_data"
    }
   ],
   "source": [
    "import pylab as pl\n",
    "%matplotlib inline\n",
    "plt.style.use('ggplot')\n",
    "\n",
    "x_pos = [i for i, _ in enumerate(genre_names)]\n",
    "\n",
    "fig, ax = plt.subplots()\n",
    "ax.set_facecolor('xkcd:white')\n",
    "\n",
    "plt.bar(x_pos, genre_values, color='lightblue')\n",
    "plt.xlabel(\"Genre\")\n",
    "plt.ylabel(\"Reviews per Movie\")\n",
    "plt.title(\"Reviews per Movie vs Genre\")\n",
    "\n",
    "plt.xticks(x_pos, genre_names)\n",
    "plt.xticks(rotation=90)\n",
    "plt.tight_layout()\n",
    "plt.savefig('Images/Reviews_per_Movie_vs_Genre_Tags')\n",
    "plt.show()"
   ]
  },
  {
   "cell_type": "code",
   "execution_count": 72,
   "metadata": {},
   "outputs": [
    {
     "name": "stdout",
     "output_type": "stream",
     "text": [
      "['Adventure', 'Sci-Fi', 'Action', 'Fantasy', 'Children', 'Thriller', 'Crime', 'Animation', 'War', 'Romance', 'Mystery', 'Comedy', 'Western', 'Musical', 'Drama', 'Horror', 'Film-Noir', 'Documentary', 'No Genres Listed']\n",
      "[0.8428510090167454, 0.8571428571428571, 0.6892045454545455, 0.759915014164306, 0.5891132572431957, 0.6632359980852083, 0.60326641714869, 0.4800389483933788, 0.45058626465661644, 0.45941361763993216, 0.7140026420079261, 0.39968951516599, 0.1819526627218935, 0.5106177606177607, 0.36660671462829736, 0.29107621600919187, 0.7333333333333333, 0.08377175232699312, 0.0]\n"
     ]
    }
   ],
   "source": [
    "genre_names = ['Adventure', 'Sci-Fi', 'Action',\n",
    "              'Fantasy', 'Children', 'Thriller', 'Crime',\n",
    "              'Animation', 'War', 'Romance', 'Mystery',\n",
    "              'Comedy', 'Western', 'Musical', 'Drama',\n",
    "              'Horror', 'Film-Noir', 'Documentary', 'No Genres Listed']\n",
    "genre_values = [adventure_ratings_per_movie, sci_ratings_per_movie,\n",
    "               action_ratings_per_movie, fantasy_ratings_per_movie,\n",
    "               children_ratings_per_movie, thriller_ratings_per_movie,\n",
    "               crime_ratings_per_movie, animation_ratings_per_movie,\n",
    "               war_ratings_per_movie, romance_ratings_per_movie,\n",
    "               mystery_ratings_per_movie, comedy_ratings_per_movie,\n",
    "               western_ratings_per_movie, musical_ratings_per_movie,\n",
    "               drama_ratings_per_movie, horror_ratings_per_movie,\n",
    "               noir_ratings_per_movie, documentary_ratings_per_movie,\n",
    "               no_genres_ratings_per_movie]\n",
    "print(genre_names)\n",
    "print(genre_values)"
   ]
  },
  {
   "cell_type": "code",
   "execution_count": 74,
   "metadata": {},
   "outputs": [
    {
     "data": {
      "image/png": "[encoded data removed]",
      "text/plain": [
       "<matplotlib.figure.Figure at 0x7f5e2bee6400>"
      ]
     },
     "metadata": {},
     "output_type": "display_data"
    }
   ],
   "source": [
    "import pylab as pl\n",
    "%matplotlib inline\n",
    "plt.style.use('ggplot')\n",
    "\n",
    "x_pos = [i for i, _ in enumerate(genre_names)]\n",
    "\n",
    "fig, ax = plt.subplots()\n",
    "ax.set_facecolor('xkcd:white')\n",
    "\n",
    "plt.bar(x_pos, genre_values, color='yellowgreen')\n",
    "plt.xlabel(\"Genre\")\n",
    "plt.ylabel(\"Tags per Movie\")\n",
    "plt.title(\"Tags per Movie vs Genre\")\n",
    "\n",
    "plt.xticks(x_pos, genre_names)\n",
    "plt.xticks(rotation=90)\n",
    "plt.tight_layout()\n",
    "plt.savefig('Images/Reviews_per_Movie_vs_Genre_Tags_Ordered')\n",
    "plt.show()"
   ]
  }
 ],
 "metadata": {
  "kernelspec": {
   "display_name": "Python 3",
   "language": "python",
   "name": "python3"
  },
  "language_info": {
   "codemirror_mode": {
    "name": "ipython",
    "version": 3
   },
   "file_extension": ".py",
   "mimetype": "text/x-python",
   "name": "python",
   "nbconvert_exporter": "python",
   "pygments_lexer": "ipython3",
   "version": "3.6.5"
  }
 },
 "nbformat": 4,
 "nbformat_minor": 2
}
