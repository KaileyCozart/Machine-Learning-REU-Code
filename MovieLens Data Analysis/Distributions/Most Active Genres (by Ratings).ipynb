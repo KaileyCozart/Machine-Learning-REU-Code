{
 "cells": [
  {
   "cell_type": "code",
   "execution_count": 1,
   "metadata": {
    "collapsed": true
   },
   "outputs": [],
   "source": [
    "# Import Necessary Items\n",
    "import pandas as pd\n",
    "import numpy as np\n",
    "import matplotlib.pyplot as plt\n",
    "from matplotlib import colors\n",
    "from matplotlib.ticker import FuncFormatter"
   ]
  },
  {
   "cell_type": "markdown",
   "metadata": {},
   "source": [
    "## Ratings Per Genre"
   ]
  },
  {
   "cell_type": "code",
   "execution_count": 2,
   "metadata": {},
   "outputs": [
    {
     "data": {
      "text/html": [
       "<div>\n",
       "<style>\n",
       "    .dataframe thead tr:only-child th {\n",
       "        text-align: right;\n",
       "    }\n",
       "\n",
       "    .dataframe thead th {\n",
       "        text-align: left;\n",
       "    }\n",
       "\n",
       "    .dataframe tbody tr th {\n",
       "        vertical-align: top;\n",
       "    }\n",
       "</style>\n",
       "<table border=\"1\" class=\"dataframe\">\n",
       "  <thead>\n",
       "    <tr style=\"text-align: right;\">\n",
       "      <th></th>\n",
       "      <th>movieId</th>\n",
       "      <th>genres</th>\n",
       "    </tr>\n",
       "  </thead>\n",
       "  <tbody>\n",
       "    <tr>\n",
       "      <th>0</th>\n",
       "      <td>1</td>\n",
       "      <td>Adventure|Animation|Children|Comedy|Fantasy</td>\n",
       "    </tr>\n",
       "    <tr>\n",
       "      <th>1</th>\n",
       "      <td>2</td>\n",
       "      <td>Adventure|Children|Fantasy</td>\n",
       "    </tr>\n",
       "    <tr>\n",
       "      <th>2</th>\n",
       "      <td>3</td>\n",
       "      <td>Comedy|Romance</td>\n",
       "    </tr>\n",
       "    <tr>\n",
       "      <th>3</th>\n",
       "      <td>4</td>\n",
       "      <td>Comedy|Drama|Romance</td>\n",
       "    </tr>\n",
       "    <tr>\n",
       "      <th>4</th>\n",
       "      <td>5</td>\n",
       "      <td>Comedy</td>\n",
       "    </tr>\n",
       "  </tbody>\n",
       "</table>\n",
       "</div>"
      ],
      "text/plain": [
       "   movieId                                       genres\n",
       "0        1  Adventure|Animation|Children|Comedy|Fantasy\n",
       "1        2                   Adventure|Children|Fantasy\n",
       "2        3                               Comedy|Romance\n",
       "3        4                         Comedy|Drama|Romance\n",
       "4        5                                       Comedy"
      ]
     },
     "execution_count": 2,
     "metadata": {},
     "output_type": "execute_result"
    }
   ],
   "source": [
    "# Make DF with Movies and Genre\n",
    "movie_id_and_genre = pd.read_csv('movies.csv', header = 0, delimiter=',')\n",
    "movie_id_and_genre = movie_id_and_genre.drop(movie_id_and_genre.columns[[1]], axis = 1)\n",
    "movie_id_and_genre.head()"
   ]
  },
  {
   "cell_type": "code",
   "execution_count": 3,
   "metadata": {},
   "outputs": [
    {
     "data": {
      "text/html": [
       "<div>\n",
       "<style>\n",
       "    .dataframe thead tr:only-child th {\n",
       "        text-align: right;\n",
       "    }\n",
       "\n",
       "    .dataframe thead th {\n",
       "        text-align: left;\n",
       "    }\n",
       "\n",
       "    .dataframe tbody tr th {\n",
       "        vertical-align: top;\n",
       "    }\n",
       "</style>\n",
       "<table border=\"1\" class=\"dataframe\">\n",
       "  <thead>\n",
       "    <tr style=\"text-align: right;\">\n",
       "      <th></th>\n",
       "      <th>userId</th>\n",
       "      <th>movieId</th>\n",
       "      <th>rating</th>\n",
       "      <th>timestamp</th>\n",
       "    </tr>\n",
       "  </thead>\n",
       "  <tbody>\n",
       "    <tr>\n",
       "      <th>0</th>\n",
       "      <td>1</td>\n",
       "      <td>2</td>\n",
       "      <td>3.5</td>\n",
       "      <td>1112486027</td>\n",
       "    </tr>\n",
       "    <tr>\n",
       "      <th>1</th>\n",
       "      <td>1</td>\n",
       "      <td>29</td>\n",
       "      <td>3.5</td>\n",
       "      <td>1112484676</td>\n",
       "    </tr>\n",
       "    <tr>\n",
       "      <th>2</th>\n",
       "      <td>1</td>\n",
       "      <td>32</td>\n",
       "      <td>3.5</td>\n",
       "      <td>1112484819</td>\n",
       "    </tr>\n",
       "    <tr>\n",
       "      <th>3</th>\n",
       "      <td>1</td>\n",
       "      <td>47</td>\n",
       "      <td>3.5</td>\n",
       "      <td>1112484727</td>\n",
       "    </tr>\n",
       "    <tr>\n",
       "      <th>4</th>\n",
       "      <td>1</td>\n",
       "      <td>50</td>\n",
       "      <td>3.5</td>\n",
       "      <td>1112484580</td>\n",
       "    </tr>\n",
       "  </tbody>\n",
       "</table>\n",
       "</div>"
      ],
      "text/plain": [
       "   userId  movieId  rating   timestamp\n",
       "0       1        2     3.5  1112486027\n",
       "1       1       29     3.5  1112484676\n",
       "2       1       32     3.5  1112484819\n",
       "3       1       47     3.5  1112484727\n",
       "4       1       50     3.5  1112484580"
      ]
     },
     "execution_count": 3,
     "metadata": {},
     "output_type": "execute_result"
    }
   ],
   "source": [
    "# Make DF with Movies and Rating\n",
    "rating_user_movie_timestamp = pd.read_csv('ratings.csv', header = 0, delimiter=',')\n",
    "rating_user_movie_timestamp = rating_user_movie_timestamp.drop(rating_user_movie_timestamp.index[10001:20000263])\n",
    "\n",
    "rating_user_movie_timestamp.head()"
   ]
  },
  {
   "cell_type": "code",
   "execution_count": 4,
   "metadata": {},
   "outputs": [
    {
     "data": {
      "text/html": [
       "<div>\n",
       "<style>\n",
       "    .dataframe thead tr:only-child th {\n",
       "        text-align: right;\n",
       "    }\n",
       "\n",
       "    .dataframe thead th {\n",
       "        text-align: left;\n",
       "    }\n",
       "\n",
       "    .dataframe tbody tr th {\n",
       "        vertical-align: top;\n",
       "    }\n",
       "</style>\n",
       "<table border=\"1\" class=\"dataframe\">\n",
       "  <thead>\n",
       "    <tr style=\"text-align: right;\">\n",
       "      <th></th>\n",
       "      <th>userId</th>\n",
       "      <th>movieId</th>\n",
       "      <th>rating</th>\n",
       "      <th>timestamp</th>\n",
       "    </tr>\n",
       "  </thead>\n",
       "  <tbody>\n",
       "    <tr>\n",
       "      <th>0</th>\n",
       "      <td>1</td>\n",
       "      <td>2</td>\n",
       "      <td>3.5</td>\n",
       "      <td>1112486027</td>\n",
       "    </tr>\n",
       "    <tr>\n",
       "      <th>1</th>\n",
       "      <td>1</td>\n",
       "      <td>29</td>\n",
       "      <td>3.5</td>\n",
       "      <td>1112484676</td>\n",
       "    </tr>\n",
       "    <tr>\n",
       "      <th>2</th>\n",
       "      <td>1</td>\n",
       "      <td>32</td>\n",
       "      <td>3.5</td>\n",
       "      <td>1112484819</td>\n",
       "    </tr>\n",
       "    <tr>\n",
       "      <th>3</th>\n",
       "      <td>1</td>\n",
       "      <td>47</td>\n",
       "      <td>3.5</td>\n",
       "      <td>1112484727</td>\n",
       "    </tr>\n",
       "    <tr>\n",
       "      <th>4</th>\n",
       "      <td>1</td>\n",
       "      <td>50</td>\n",
       "      <td>3.5</td>\n",
       "      <td>1112484580</td>\n",
       "    </tr>\n",
       "  </tbody>\n",
       "</table>\n",
       "</div>"
      ],
      "text/plain": [
       "   userId  movieId  rating   timestamp\n",
       "0       1        2     3.5  1112486027\n",
       "1       1       29     3.5  1112484676\n",
       "2       1       32     3.5  1112484819\n",
       "3       1       47     3.5  1112484727\n",
       "4       1       50     3.5  1112484580"
      ]
     },
     "execution_count": 4,
     "metadata": {},
     "output_type": "execute_result"
    }
   ],
   "source": [
    "# Create Copy DF to become Genre and Rating\n",
    "rating_user_genre_timestamp = rating_user_movie_timestamp\n",
    "rating_user_genre_timestamp.head()"
   ]
  },
  {
   "cell_type": "code",
   "execution_count": 5,
   "metadata": {},
   "outputs": [
    {
     "name": "stderr",
     "output_type": "stream",
     "text": [
      "/home/kcozart/anaconda3/lib/python3.6/site-packages/pandas/core/indexing.py:179: SettingWithCopyWarning: \n",
      "A value is trying to be set on a copy of a slice from a DataFrame\n",
      "\n",
      "See the caveats in the documentation: http://pandas.pydata.org/pandas-docs/stable/indexing.html#indexing-view-versus-copy\n",
      "  self._setitem_with_indexer(indexer, value)\n"
     ]
    }
   ],
   "source": [
    "# Create Actual Genre and Rating DF Content\n",
    "rating_user_genre_timestamp['movie_genre'] = 'unsucessful'\n",
    "num_rows = len(rating_user_genre_timestamp)\n",
    "for x in range(0, (num_rows-1)):\n",
    "    data = movie_id_and_genre['genres'].loc[movie_id_and_genre['movieId'] == \n",
    "                                            rating_user_genre_timestamp['movieId'].loc[x]]\n",
    "    for item in data:\n",
    "        rating_user_genre_timestamp['movie_genre'].loc[x] = item"
   ]
  },
  {
   "cell_type": "code",
   "execution_count": 6,
   "metadata": {},
   "outputs": [
    {
     "data": {
      "text/html": [
       "<div>\n",
       "<style>\n",
       "    .dataframe thead tr:only-child th {\n",
       "        text-align: right;\n",
       "    }\n",
       "\n",
       "    .dataframe thead th {\n",
       "        text-align: left;\n",
       "    }\n",
       "\n",
       "    .dataframe tbody tr th {\n",
       "        vertical-align: top;\n",
       "    }\n",
       "</style>\n",
       "<table border=\"1\" class=\"dataframe\">\n",
       "  <thead>\n",
       "    <tr style=\"text-align: right;\">\n",
       "      <th></th>\n",
       "      <th>userId</th>\n",
       "      <th>movieId</th>\n",
       "      <th>rating</th>\n",
       "      <th>timestamp</th>\n",
       "      <th>movie_genre</th>\n",
       "    </tr>\n",
       "  </thead>\n",
       "  <tbody>\n",
       "    <tr>\n",
       "      <th>0</th>\n",
       "      <td>1</td>\n",
       "      <td>2</td>\n",
       "      <td>3.5</td>\n",
       "      <td>1112486027</td>\n",
       "      <td>Adventure|Children|Fantasy</td>\n",
       "    </tr>\n",
       "    <tr>\n",
       "      <th>1</th>\n",
       "      <td>1</td>\n",
       "      <td>29</td>\n",
       "      <td>3.5</td>\n",
       "      <td>1112484676</td>\n",
       "      <td>Adventure|Drama|Fantasy|Mystery|Sci-Fi</td>\n",
       "    </tr>\n",
       "    <tr>\n",
       "      <th>2</th>\n",
       "      <td>1</td>\n",
       "      <td>32</td>\n",
       "      <td>3.5</td>\n",
       "      <td>1112484819</td>\n",
       "      <td>Mystery|Sci-Fi|Thriller</td>\n",
       "    </tr>\n",
       "    <tr>\n",
       "      <th>3</th>\n",
       "      <td>1</td>\n",
       "      <td>47</td>\n",
       "      <td>3.5</td>\n",
       "      <td>1112484727</td>\n",
       "      <td>Mystery|Thriller</td>\n",
       "    </tr>\n",
       "    <tr>\n",
       "      <th>4</th>\n",
       "      <td>1</td>\n",
       "      <td>50</td>\n",
       "      <td>3.5</td>\n",
       "      <td>1112484580</td>\n",
       "      <td>Crime|Mystery|Thriller</td>\n",
       "    </tr>\n",
       "  </tbody>\n",
       "</table>\n",
       "</div>"
      ],
      "text/plain": [
       "   userId  movieId  rating   timestamp                             movie_genre\n",
       "0       1        2     3.5  1112486027              Adventure|Children|Fantasy\n",
       "1       1       29     3.5  1112484676  Adventure|Drama|Fantasy|Mystery|Sci-Fi\n",
       "2       1       32     3.5  1112484819                 Mystery|Sci-Fi|Thriller\n",
       "3       1       47     3.5  1112484727                        Mystery|Thriller\n",
       "4       1       50     3.5  1112484580                  Crime|Mystery|Thriller"
      ]
     },
     "execution_count": 6,
     "metadata": {},
     "output_type": "execute_result"
    }
   ],
   "source": [
    "# Check if DF for Genre and Rating is Sucessful\n",
    "rating_user_genre_timestamp.head()"
   ]
  },
  {
   "cell_type": "markdown",
   "metadata": {},
   "source": [
    "### Action"
   ]
  },
  {
   "cell_type": "code",
   "execution_count": 7,
   "metadata": {},
   "outputs": [
    {
     "name": "stdout",
     "output_type": "stream",
     "text": [
      "3520\n"
     ]
    }
   ],
   "source": [
    "# Find Movies from Action Genre\n",
    "replacement_value = 'Action'\n",
    "movie_list = []\n",
    "for x in range(0, len(movie_id_and_genre)):\n",
    "    if replacement_value in movie_id_and_genre['genres'][x]:\n",
    "        movie_list.append(movie_id_and_genre['movieId'][x])\n",
    "num_movies_in_genre = len(movie_list)\n",
    "print(num_movies_in_genre)"
   ]
  },
  {
   "cell_type": "code",
   "execution_count": 8,
   "metadata": {},
   "outputs": [
    {
     "name": "stdout",
     "output_type": "stream",
     "text": [
      "2955\n"
     ]
    }
   ],
   "source": [
    "# Find Num of Ratings for a Genre\n",
    "replacement_value = 'Action'\n",
    "movie_list = []\n",
    "for x in range(0, len(rating_user_genre_timestamp)):\n",
    "    if replacement_value in rating_user_genre_timestamp['movie_genre'][x]:\n",
    "        movie_list.append(rating_user_genre_timestamp['movieId'][x])\n",
    "num_ratings_for_genre = len(movie_list)\n",
    "print(num_ratings_for_genre)"
   ]
  },
  {
   "cell_type": "code",
   "execution_count": 9,
   "metadata": {},
   "outputs": [
    {
     "name": "stdout",
     "output_type": "stream",
     "text": [
      "0.8394886363636364\n"
     ]
    }
   ],
   "source": [
    "# Divide Num of Ratings by Num of Movies to Find RATINGS PER MOVIE for the Genre\n",
    "ratings_per_movie = num_ratings_for_genre / num_movies_in_genre\n",
    "action_ratings_per_movie = ratings_per_movie\n",
    "print(ratings_per_movie)"
   ]
  },
  {
   "cell_type": "markdown",
   "metadata": {},
   "source": [
    "### Adventure"
   ]
  },
  {
   "cell_type": "code",
   "execution_count": 10,
   "metadata": {},
   "outputs": [
    {
     "name": "stdout",
     "output_type": "stream",
     "text": [
      "2329\n"
     ]
    }
   ],
   "source": [
    "# Find Movies from Action Genre\n",
    "replacement_value = 'Adventure'\n",
    "movie_list = []\n",
    "for x in range(0, len(movie_id_and_genre)):\n",
    "    if replacement_value in movie_id_and_genre['genres'][x]:\n",
    "        movie_list.append(movie_id_and_genre['movieId'][x])\n",
    "num_movies_in_genre = len(movie_list)\n",
    "print(num_movies_in_genre)"
   ]
  },
  {
   "cell_type": "code",
   "execution_count": 11,
   "metadata": {},
   "outputs": [
    {
     "name": "stdout",
     "output_type": "stream",
     "text": [
      "2317\n"
     ]
    }
   ],
   "source": [
    "# Find Num of Ratings for a Genre\n",
    "replacement_value = 'Adventure'\n",
    "movie_list = []\n",
    "for x in range(0, len(rating_user_genre_timestamp)):\n",
    "    if replacement_value in rating_user_genre_timestamp['movie_genre'][x]:\n",
    "        movie_list.append(rating_user_genre_timestamp['movieId'][x])\n",
    "num_ratings_for_genre = len(movie_list)\n",
    "print(num_ratings_for_genre)"
   ]
  },
  {
   "cell_type": "code",
   "execution_count": 12,
   "metadata": {},
   "outputs": [
    {
     "name": "stdout",
     "output_type": "stream",
     "text": [
      "0.9948475740661228\n"
     ]
    }
   ],
   "source": [
    "# Divide Num of Ratings by Num of Movies to Find RATINGS PER MOVIE for the Genre\n",
    "ratings_per_movie = num_ratings_for_genre / num_movies_in_genre \n",
    "adventure_ratings_per_movie = ratings_per_movie\n",
    "adventure_ratings_per_movie = ratings_per_movie\n",
    "print(ratings_per_movie)"
   ]
  },
  {
   "cell_type": "markdown",
   "metadata": {},
   "source": [
    "### Animation"
   ]
  },
  {
   "cell_type": "code",
   "execution_count": 13,
   "metadata": {},
   "outputs": [
    {
     "name": "stdout",
     "output_type": "stream",
     "text": [
      "1027\n"
     ]
    }
   ],
   "source": [
    "# Find Movies from Action Genre\n",
    "replacement_value = 'Animation'\n",
    "movie_list = []\n",
    "for x in range(0, len(movie_id_and_genre)):\n",
    "    if replacement_value in movie_id_and_genre['genres'][x]:\n",
    "        movie_list.append(movie_id_and_genre['movieId'][x])\n",
    "num_movies_in_genre = len(movie_list)\n",
    "print(num_movies_in_genre)"
   ]
  },
  {
   "cell_type": "code",
   "execution_count": 14,
   "metadata": {},
   "outputs": [
    {
     "name": "stdout",
     "output_type": "stream",
     "text": [
      "527\n"
     ]
    }
   ],
   "source": [
    "# Find Num of Ratings for a Genre\n",
    "replacement_value = 'Animation'\n",
    "movie_list = []\n",
    "for x in range(0, len(rating_user_genre_timestamp)):\n",
    "    if replacement_value in rating_user_genre_timestamp['movie_genre'][x]:\n",
    "        movie_list.append(rating_user_genre_timestamp['movieId'][x])\n",
    "num_ratings_for_genre = len(movie_list)\n",
    "print(num_ratings_for_genre)"
   ]
  },
  {
   "cell_type": "code",
   "execution_count": 15,
   "metadata": {},
   "outputs": [
    {
     "name": "stdout",
     "output_type": "stream",
     "text": [
      "0.5131450827653359\n"
     ]
    }
   ],
   "source": [
    "# Divide Num of Ratings by Num of Movies to Find RATINGS PER MOVIE for the Genre\n",
    "ratings_per_movie = num_ratings_for_genre / num_movies_in_genre \n",
    "animation_ratings_per_movie = ratings_per_movie\n",
    "print(ratings_per_movie)"
   ]
  },
  {
   "cell_type": "markdown",
   "metadata": {},
   "source": [
    "### Children's"
   ]
  },
  {
   "cell_type": "code",
   "execution_count": 16,
   "metadata": {},
   "outputs": [
    {
     "name": "stdout",
     "output_type": "stream",
     "text": [
      "1139\n"
     ]
    }
   ],
   "source": [
    "# Find Movies from Action Genre\n",
    "replacement_value = 'Children'\n",
    "movie_list = []\n",
    "for x in range(0, len(movie_id_and_genre)):\n",
    "    if replacement_value in movie_id_and_genre['genres'][x]:\n",
    "        movie_list.append(movie_id_and_genre['movieId'][x])\n",
    "num_movies_in_genre = len(movie_list)\n",
    "print(num_movies_in_genre)"
   ]
  },
  {
   "cell_type": "code",
   "execution_count": 17,
   "metadata": {},
   "outputs": [
    {
     "name": "stdout",
     "output_type": "stream",
     "text": [
      "804\n"
     ]
    }
   ],
   "source": [
    "# Find Num of Ratings for a Genre\n",
    "replacement_value = 'Children'\n",
    "movie_list = []\n",
    "for x in range(0, len(rating_user_genre_timestamp)):\n",
    "    if replacement_value in rating_user_genre_timestamp['movie_genre'][x]:\n",
    "        movie_list.append(rating_user_genre_timestamp['movieId'][x])\n",
    "num_ratings_for_genre = len(movie_list)\n",
    "print(num_ratings_for_genre)"
   ]
  },
  {
   "cell_type": "code",
   "execution_count": 18,
   "metadata": {},
   "outputs": [
    {
     "name": "stdout",
     "output_type": "stream",
     "text": [
      "0.7058823529411765\n"
     ]
    }
   ],
   "source": [
    "# Divide Num of Ratings by Num of Movies to Find RATINGS PER MOVIE for the Genre\n",
    "ratings_per_movie = num_ratings_for_genre / num_movies_in_genre \n",
    "children_ratings_per_movie = ratings_per_movie\n",
    "print(ratings_per_movie)"
   ]
  },
  {
   "cell_type": "markdown",
   "metadata": {},
   "source": [
    "### Comedy"
   ]
  },
  {
   "cell_type": "code",
   "execution_count": 19,
   "metadata": {},
   "outputs": [
    {
     "name": "stdout",
     "output_type": "stream",
     "text": [
      "8374\n"
     ]
    }
   ],
   "source": [
    "# Find Movies from Action Genre\n",
    "replacement_value = 'Comedy'\n",
    "movie_list = []\n",
    "for x in range(0, len(movie_id_and_genre)):\n",
    "    if replacement_value in movie_id_and_genre['genres'][x]:\n",
    "        movie_list.append(movie_id_and_genre['movieId'][x])\n",
    "num_movies_in_genre = len(movie_list)\n",
    "print(num_movies_in_genre)"
   ]
  },
  {
   "cell_type": "code",
   "execution_count": 20,
   "metadata": {},
   "outputs": [
    {
     "name": "stdout",
     "output_type": "stream",
     "text": [
      "3726\n"
     ]
    }
   ],
   "source": [
    "# Find Num of Ratings for a Genre\n",
    "replacement_value = 'Comedy'\n",
    "movie_list = []\n",
    "for x in range(0, len(rating_user_genre_timestamp)):\n",
    "    if replacement_value in rating_user_genre_timestamp['movie_genre'][x]:\n",
    "        movie_list.append(rating_user_genre_timestamp['movieId'][x])\n",
    "num_ratings_for_genre = len(movie_list)\n",
    "print(num_ratings_for_genre)"
   ]
  },
  {
   "cell_type": "code",
   "execution_count": 21,
   "metadata": {},
   "outputs": [
    {
     "name": "stdout",
     "output_type": "stream",
     "text": [
      "0.4449486505851445\n"
     ]
    }
   ],
   "source": [
    "# Divide Num of Ratings by Num of Movies to Find RATINGS PER MOVIE for the Genre\n",
    "ratings_per_movie = num_ratings_for_genre / num_movies_in_genre \n",
    "comedy_ratings_per_movie = ratings_per_movie\n",
    "print(ratings_per_movie)"
   ]
  },
  {
   "cell_type": "markdown",
   "metadata": {},
   "source": [
    "### Crime"
   ]
  },
  {
   "cell_type": "code",
   "execution_count": 22,
   "metadata": {},
   "outputs": [
    {
     "name": "stdout",
     "output_type": "stream",
     "text": [
      "2939\n"
     ]
    }
   ],
   "source": [
    "# Find Movies from Action Genre\n",
    "replacement_value = 'Crime'\n",
    "movie_list = []\n",
    "for x in range(0, len(movie_id_and_genre)):\n",
    "    if replacement_value in movie_id_and_genre['genres'][x]:\n",
    "        movie_list.append(movie_id_and_genre['movieId'][x])\n",
    "num_movies_in_genre = len(movie_list)\n",
    "print(num_movies_in_genre)"
   ]
  },
  {
   "cell_type": "code",
   "execution_count": 23,
   "metadata": {},
   "outputs": [
    {
     "name": "stdout",
     "output_type": "stream",
     "text": [
      "1572\n"
     ]
    }
   ],
   "source": [
    "# Find Num of Ratings for a Genre\n",
    "replacement_value = 'Crime'\n",
    "movie_list = []\n",
    "for x in range(0, len(rating_user_genre_timestamp)):\n",
    "    if replacement_value in rating_user_genre_timestamp['movie_genre'][x]:\n",
    "        movie_list.append(rating_user_genre_timestamp['movieId'][x])\n",
    "num_ratings_for_genre = len(movie_list)\n",
    "print(num_ratings_for_genre)"
   ]
  },
  {
   "cell_type": "code",
   "execution_count": 24,
   "metadata": {},
   "outputs": [
    {
     "name": "stdout",
     "output_type": "stream",
     "text": [
      "0.5348758080979925\n"
     ]
    }
   ],
   "source": [
    "# Divide Num of Ratings by Num of Movies to Find RATINGS PER MOVIE for the Genre\n",
    "ratings_per_movie = num_ratings_for_genre / num_movies_in_genre \n",
    "crime_ratings_per_movie = ratings_per_movie\n",
    "print(ratings_per_movie)"
   ]
  },
  {
   "cell_type": "markdown",
   "metadata": {},
   "source": [
    "### Documentary"
   ]
  },
  {
   "cell_type": "code",
   "execution_count": 25,
   "metadata": {},
   "outputs": [
    {
     "name": "stdout",
     "output_type": "stream",
     "text": [
      "2471\n"
     ]
    }
   ],
   "source": [
    "# Find Movies from Action Genre\n",
    "replacement_value = 'Documentary'\n",
    "movie_list = []\n",
    "for x in range(0, len(movie_id_and_genre)):\n",
    "    if replacement_value in movie_id_and_genre['genres'][x]:\n",
    "        movie_list.append(movie_id_and_genre['movieId'][x])\n",
    "num_movies_in_genre = len(movie_list)\n",
    "print(num_movies_in_genre)"
   ]
  },
  {
   "cell_type": "code",
   "execution_count": 26,
   "metadata": {},
   "outputs": [
    {
     "name": "stdout",
     "output_type": "stream",
     "text": [
      "94\n"
     ]
    }
   ],
   "source": [
    "# Find Num of Ratings for a Genre\n",
    "replacement_value = 'Documentary'\n",
    "movie_list = []\n",
    "for x in range(0, len(rating_user_genre_timestamp)):\n",
    "    if replacement_value in rating_user_genre_timestamp['movie_genre'][x]:\n",
    "        movie_list.append(rating_user_genre_timestamp['movieId'][x])\n",
    "num_ratings_for_genre = len(movie_list)\n",
    "print(num_ratings_for_genre)"
   ]
  },
  {
   "cell_type": "code",
   "execution_count": 27,
   "metadata": {},
   "outputs": [
    {
     "name": "stdout",
     "output_type": "stream",
     "text": [
      "0.03804127883447997\n"
     ]
    }
   ],
   "source": [
    "# Divide Num of Ratings by Num of Movies to Find RATINGS PER MOVIE for the Genre\n",
    "ratings_per_movie = num_ratings_for_genre / num_movies_in_genre \n",
    "documentary_ratings_per_movie = ratings_per_movie\n",
    "print(ratings_per_movie)"
   ]
  },
  {
   "cell_type": "markdown",
   "metadata": {},
   "source": [
    "### Drama"
   ]
  },
  {
   "cell_type": "code",
   "execution_count": 28,
   "metadata": {},
   "outputs": [
    {
     "name": "stdout",
     "output_type": "stream",
     "text": [
      "13344\n"
     ]
    }
   ],
   "source": [
    "# Find Movies from Action Genre\n",
    "replacement_value = 'Drama'\n",
    "movie_list = []\n",
    "for x in range(0, len(movie_id_and_genre)):\n",
    "    if replacement_value in movie_id_and_genre['genres'][x]:\n",
    "        movie_list.append(movie_id_and_genre['movieId'][x])\n",
    "num_movies_in_genre = len(movie_list)\n",
    "print(num_movies_in_genre)"
   ]
  },
  {
   "cell_type": "code",
   "execution_count": 29,
   "metadata": {},
   "outputs": [
    {
     "name": "stdout",
     "output_type": "stream",
     "text": [
      "4378\n"
     ]
    }
   ],
   "source": [
    "# Find Num of Ratings for a Genre\n",
    "replacement_value = 'Drama'\n",
    "movie_list = []\n",
    "for x in range(0, len(rating_user_genre_timestamp)):\n",
    "    if replacement_value in rating_user_genre_timestamp['movie_genre'][x]:\n",
    "        movie_list.append(rating_user_genre_timestamp['movieId'][x])\n",
    "num_ratings_for_genre = len(movie_list)\n",
    "print(num_ratings_for_genre)"
   ]
  },
  {
   "cell_type": "code",
   "execution_count": 30,
   "metadata": {},
   "outputs": [
    {
     "name": "stdout",
     "output_type": "stream",
     "text": [
      "0.3280875299760192\n"
     ]
    }
   ],
   "source": [
    "# Divide Num of Ratings by Num of Movies to Find RATINGS PER MOVIE for the Genre\n",
    "ratings_per_movie = num_ratings_for_genre / num_movies_in_genre \n",
    "drama_ratings_per_movie = ratings_per_movie\n",
    "print(ratings_per_movie)"
   ]
  },
  {
   "cell_type": "markdown",
   "metadata": {},
   "source": [
    "### Fantasy"
   ]
  },
  {
   "cell_type": "code",
   "execution_count": 31,
   "metadata": {},
   "outputs": [
    {
     "name": "stdout",
     "output_type": "stream",
     "text": [
      "1412\n"
     ]
    }
   ],
   "source": [
    "# Find Movies from Action Genre\n",
    "replacement_value = 'Fantasy'\n",
    "movie_list = []\n",
    "for x in range(0, len(movie_id_and_genre)):\n",
    "    if replacement_value in movie_id_and_genre['genres'][x]:\n",
    "        movie_list.append(movie_id_and_genre['movieId'][x])\n",
    "num_movies_in_genre = len(movie_list)\n",
    "print(num_movies_in_genre)"
   ]
  },
  {
   "cell_type": "code",
   "execution_count": 32,
   "metadata": {},
   "outputs": [
    {
     "name": "stdout",
     "output_type": "stream",
     "text": [
      "1107\n"
     ]
    }
   ],
   "source": [
    "# Find Num of Ratings for a Genre\n",
    "replacement_value = 'Fantasy'\n",
    "movie_list = []\n",
    "for x in range(0, len(rating_user_genre_timestamp)):\n",
    "    if replacement_value in rating_user_genre_timestamp['movie_genre'][x]:\n",
    "        movie_list.append(rating_user_genre_timestamp['movieId'][x])\n",
    "num_ratings_for_genre = len(movie_list)\n",
    "print(num_ratings_for_genre)"
   ]
  },
  {
   "cell_type": "code",
   "execution_count": 33,
   "metadata": {},
   "outputs": [
    {
     "name": "stdout",
     "output_type": "stream",
     "text": [
      "0.7839943342776204\n"
     ]
    }
   ],
   "source": [
    "# Divide Num of Ratings by Num of Movies to Find RATINGS PER MOVIE for the Genre\n",
    "ratings_per_movie = num_ratings_for_genre / num_movies_in_genre \n",
    "fantasy_ratings_per_movie = ratings_per_movie\n",
    "print(ratings_per_movie)"
   ]
  },
  {
   "cell_type": "markdown",
   "metadata": {},
   "source": [
    "### Film-Noir"
   ]
  },
  {
   "cell_type": "code",
   "execution_count": 34,
   "metadata": {},
   "outputs": [
    {
     "name": "stdout",
     "output_type": "stream",
     "text": [
      "330\n"
     ]
    }
   ],
   "source": [
    "# Find Movies from Action Genre\n",
    "replacement_value = 'Noir'\n",
    "movie_list = []\n",
    "for x in range(0, len(movie_id_and_genre)):\n",
    "    if replacement_value in movie_id_and_genre['genres'][x]:\n",
    "        movie_list.append(movie_id_and_genre['movieId'][x])\n",
    "num_movies_in_genre = len(movie_list)\n",
    "print(num_movies_in_genre)"
   ]
  },
  {
   "cell_type": "code",
   "execution_count": 35,
   "metadata": {},
   "outputs": [
    {
     "name": "stdout",
     "output_type": "stream",
     "text": [
      "79\n"
     ]
    }
   ],
   "source": [
    "# Find Num of Ratings for a Genre\n",
    "replacement_value = 'Noir'\n",
    "movie_list = []\n",
    "for x in range(0, len(rating_user_genre_timestamp)):\n",
    "    if replacement_value in rating_user_genre_timestamp['movie_genre'][x]:\n",
    "        movie_list.append(rating_user_genre_timestamp['movieId'][x])\n",
    "num_ratings_for_genre = len(movie_list)\n",
    "print(num_ratings_for_genre)"
   ]
  },
  {
   "cell_type": "code",
   "execution_count": 36,
   "metadata": {},
   "outputs": [
    {
     "name": "stdout",
     "output_type": "stream",
     "text": [
      "0.23939393939393938\n"
     ]
    }
   ],
   "source": [
    "# Divide Num of Ratings by Num of Movies to Find RATINGS PER MOVIE for the Genre\n",
    "ratings_per_movie = num_ratings_for_genre / num_movies_in_genre \n",
    "noir_ratings_per_movie = ratings_per_movie\n",
    "print(ratings_per_movie)"
   ]
  },
  {
   "cell_type": "markdown",
   "metadata": {},
   "source": [
    "### Horror"
   ]
  },
  {
   "cell_type": "code",
   "execution_count": 37,
   "metadata": {},
   "outputs": [
    {
     "name": "stdout",
     "output_type": "stream",
     "text": [
      "2611\n"
     ]
    }
   ],
   "source": [
    "# Find Movies from Action Genre\n",
    "replacement_value = 'Horror'\n",
    "movie_list = []\n",
    "for x in range(0, len(movie_id_and_genre)):\n",
    "    if replacement_value in movie_id_and_genre['genres'][x]:\n",
    "        movie_list.append(movie_id_and_genre['movieId'][x])\n",
    "num_movies_in_genre = len(movie_list)\n",
    "print(num_movies_in_genre)"
   ]
  },
  {
   "cell_type": "code",
   "execution_count": 38,
   "metadata": {},
   "outputs": [
    {
     "name": "stdout",
     "output_type": "stream",
     "text": [
      "763\n"
     ]
    }
   ],
   "source": [
    "# Find Num of Ratings for a Genre\n",
    "replacement_value = 'Horror'\n",
    "movie_list = []\n",
    "for x in range(0, len(rating_user_genre_timestamp)):\n",
    "    if replacement_value in rating_user_genre_timestamp['movie_genre'][x]:\n",
    "        movie_list.append(rating_user_genre_timestamp['movieId'][x])\n",
    "num_ratings_for_genre = len(movie_list)\n",
    "print(num_ratings_for_genre)"
   ]
  },
  {
   "cell_type": "code",
   "execution_count": 39,
   "metadata": {},
   "outputs": [
    {
     "name": "stdout",
     "output_type": "stream",
     "text": [
      "0.29222520107238603\n"
     ]
    }
   ],
   "source": [
    "# Divide Num of Ratings by Num of Movies to Find RATINGS PER MOVIE for the Genre\n",
    "ratings_per_movie = num_ratings_for_genre / num_movies_in_genre \n",
    "horror_ratings_per_movie = ratings_per_movie\n",
    "print(ratings_per_movie)"
   ]
  },
  {
   "cell_type": "markdown",
   "metadata": {},
   "source": [
    "### Musical"
   ]
  },
  {
   "cell_type": "code",
   "execution_count": 40,
   "metadata": {},
   "outputs": [
    {
     "name": "stdout",
     "output_type": "stream",
     "text": [
      "1036\n"
     ]
    }
   ],
   "source": [
    "# Find Movies from Action Genre\n",
    "replacement_value = 'Musical'\n",
    "movie_list = []\n",
    "for x in range(0, len(movie_id_and_genre)):\n",
    "    if replacement_value in movie_id_and_genre['genres'][x]:\n",
    "        movie_list.append(movie_id_and_genre['movieId'][x])\n",
    "num_movies_in_genre = len(movie_list)\n",
    "print(num_movies_in_genre)"
   ]
  },
  {
   "cell_type": "code",
   "execution_count": 41,
   "metadata": {},
   "outputs": [
    {
     "name": "stdout",
     "output_type": "stream",
     "text": [
      "342\n"
     ]
    }
   ],
   "source": [
    "# Find Num of Ratings for a Genre\n",
    "replacement_value = 'Musical'\n",
    "movie_list = []\n",
    "for x in range(0, len(rating_user_genre_timestamp)):\n",
    "    if replacement_value in rating_user_genre_timestamp['movie_genre'][x]:\n",
    "        movie_list.append(rating_user_genre_timestamp['movieId'][x])\n",
    "num_ratings_for_genre = len(movie_list)\n",
    "print(num_ratings_for_genre)"
   ]
  },
  {
   "cell_type": "code",
   "execution_count": 42,
   "metadata": {},
   "outputs": [
    {
     "name": "stdout",
     "output_type": "stream",
     "text": [
      "0.3301158301158301\n"
     ]
    }
   ],
   "source": [
    "# Divide Num of Ratings by Num of Movies to Find RATINGS PER MOVIE for the Genre\n",
    "ratings_per_movie = num_ratings_for_genre / num_movies_in_genre \n",
    "musical_ratings_per_movie = ratings_per_movie\n",
    "print(ratings_per_movie)"
   ]
  },
  {
   "cell_type": "markdown",
   "metadata": {},
   "source": [
    "### Mystery"
   ]
  },
  {
   "cell_type": "code",
   "execution_count": 43,
   "metadata": {},
   "outputs": [
    {
     "name": "stdout",
     "output_type": "stream",
     "text": [
      "1514\n"
     ]
    }
   ],
   "source": [
    "# Find Movies from Action Genre\n",
    "replacement_value = 'Mystery'\n",
    "movie_list = []\n",
    "for x in range(0, len(movie_id_and_genre)):\n",
    "    if replacement_value in movie_id_and_genre['genres'][x]:\n",
    "        movie_list.append(movie_id_and_genre['movieId'][x])\n",
    "num_movies_in_genre = len(movie_list)\n",
    "print(num_movies_in_genre)"
   ]
  },
  {
   "cell_type": "code",
   "execution_count": 44,
   "metadata": {},
   "outputs": [
    {
     "name": "stdout",
     "output_type": "stream",
     "text": [
      "703\n"
     ]
    }
   ],
   "source": [
    "# Find Num of Ratings for a Genre\n",
    "replacement_value = 'Mystery'\n",
    "movie_list = []\n",
    "for x in range(0, len(rating_user_genre_timestamp)):\n",
    "    if replacement_value in rating_user_genre_timestamp['movie_genre'][x]:\n",
    "        movie_list.append(rating_user_genre_timestamp['movieId'][x])\n",
    "num_ratings_for_genre = len(movie_list)\n",
    "print(num_ratings_for_genre)"
   ]
  },
  {
   "cell_type": "code",
   "execution_count": 45,
   "metadata": {},
   "outputs": [
    {
     "name": "stdout",
     "output_type": "stream",
     "text": [
      "0.46433289299867897\n"
     ]
    }
   ],
   "source": [
    "# Divide Num of Ratings by Num of Movies to Find RATINGS PER MOVIE for the Genre\n",
    "ratings_per_movie = num_ratings_for_genre / num_movies_in_genre \n",
    "mystery_ratings_per_movie = ratings_per_movie\n",
    "print(ratings_per_movie)"
   ]
  },
  {
   "cell_type": "markdown",
   "metadata": {},
   "source": [
    "### Romance"
   ]
  },
  {
   "cell_type": "code",
   "execution_count": 46,
   "metadata": {},
   "outputs": [
    {
     "name": "stdout",
     "output_type": "stream",
     "text": [
      "4127\n"
     ]
    }
   ],
   "source": [
    "# Find Movies from Action Genre\n",
    "replacement_value = 'Romance'\n",
    "movie_list = []\n",
    "for x in range(0, len(movie_id_and_genre)):\n",
    "    if replacement_value in movie_id_and_genre['genres'][x]:\n",
    "        movie_list.append(movie_id_and_genre['movieId'][x])\n",
    "num_movies_in_genre = len(movie_list)\n",
    "print(num_movies_in_genre)"
   ]
  },
  {
   "cell_type": "code",
   "execution_count": 47,
   "metadata": {},
   "outputs": [
    {
     "name": "stdout",
     "output_type": "stream",
     "text": [
      "1923\n"
     ]
    }
   ],
   "source": [
    "# Find Num of Ratings for a Genre\n",
    "replacement_value = 'Romance'\n",
    "movie_list = []\n",
    "for x in range(0, len(rating_user_genre_timestamp)):\n",
    "    if replacement_value in rating_user_genre_timestamp['movie_genre'][x]:\n",
    "        movie_list.append(rating_user_genre_timestamp['movieId'][x])\n",
    "num_ratings_for_genre = len(movie_list)\n",
    "print(num_ratings_for_genre)"
   ]
  },
  {
   "cell_type": "code",
   "execution_count": 48,
   "metadata": {},
   "outputs": [
    {
     "name": "stdout",
     "output_type": "stream",
     "text": [
      "0.46595590016961475\n"
     ]
    }
   ],
   "source": [
    "# Divide Num of Ratings by Num of Movies to Find RATINGS PER MOVIE for the Genre\n",
    "ratings_per_movie = num_ratings_for_genre / num_movies_in_genre \n",
    "romance_ratings_per_movie = ratings_per_movie\n",
    "print(ratings_per_movie)"
   ]
  },
  {
   "cell_type": "markdown",
   "metadata": {},
   "source": [
    "### Sci-Fi"
   ]
  },
  {
   "cell_type": "code",
   "execution_count": 49,
   "metadata": {},
   "outputs": [
    {
     "name": "stdout",
     "output_type": "stream",
     "text": [
      "1743\n"
     ]
    }
   ],
   "source": [
    "# Find Movies from Action Genre\n",
    "replacement_value = 'Sci'\n",
    "movie_list = []\n",
    "for x in range(0, len(movie_id_and_genre)):\n",
    "    if replacement_value in movie_id_and_genre['genres'][x]:\n",
    "        movie_list.append(movie_id_and_genre['movieId'][x])\n",
    "num_movies_in_genre = len(movie_list)\n",
    "print(num_movies_in_genre)"
   ]
  },
  {
   "cell_type": "code",
   "execution_count": 50,
   "metadata": {},
   "outputs": [
    {
     "name": "stdout",
     "output_type": "stream",
     "text": [
      "1699\n"
     ]
    }
   ],
   "source": [
    "# Find Num of Ratings for a Genre\n",
    "replacement_value = 'Sci'\n",
    "movie_list = []\n",
    "for x in range(0, len(rating_user_genre_timestamp)):\n",
    "    if replacement_value in rating_user_genre_timestamp['movie_genre'][x]:\n",
    "        movie_list.append(rating_user_genre_timestamp['movieId'][x])\n",
    "num_ratings_for_genre = len(movie_list)\n",
    "print(num_ratings_for_genre)"
   ]
  },
  {
   "cell_type": "code",
   "execution_count": 51,
   "metadata": {},
   "outputs": [
    {
     "name": "stdout",
     "output_type": "stream",
     "text": [
      "0.9747561675272519\n"
     ]
    }
   ],
   "source": [
    "# Divide Num of Ratings by Num of Movies to Find RATINGS PER MOVIE for the Genre\n",
    "ratings_per_movie = num_ratings_for_genre / num_movies_in_genre \n",
    "sci_ratings_per_movie = ratings_per_movie\n",
    "print(ratings_per_movie)"
   ]
  },
  {
   "cell_type": "markdown",
   "metadata": {},
   "source": [
    "### Thriller"
   ]
  },
  {
   "cell_type": "code",
   "execution_count": 52,
   "metadata": {},
   "outputs": [
    {
     "name": "stdout",
     "output_type": "stream",
     "text": [
      "4178\n"
     ]
    }
   ],
   "source": [
    "# Find Movies from Action Genre\n",
    "replacement_value = 'Thriller'\n",
    "movie_list = []\n",
    "for x in range(0, len(movie_id_and_genre)):\n",
    "    if replacement_value in movie_id_and_genre['genres'][x]:\n",
    "        movie_list.append(movie_id_and_genre['movieId'][x])\n",
    "num_movies_in_genre = len(movie_list)\n",
    "print(num_movies_in_genre)"
   ]
  },
  {
   "cell_type": "code",
   "execution_count": 53,
   "metadata": {},
   "outputs": [
    {
     "name": "stdout",
     "output_type": "stream",
     "text": [
      "2718\n"
     ]
    }
   ],
   "source": [
    "# Find Num of Ratings for a Genre\n",
    "replacement_value = 'Thriller'\n",
    "movie_list = []\n",
    "for x in range(0, len(rating_user_genre_timestamp)):\n",
    "    if replacement_value in rating_user_genre_timestamp['movie_genre'][x]:\n",
    "        movie_list.append(rating_user_genre_timestamp['movieId'][x])\n",
    "num_ratings_for_genre = len(movie_list)\n",
    "print(num_ratings_for_genre)"
   ]
  },
  {
   "cell_type": "code",
   "execution_count": 54,
   "metadata": {},
   "outputs": [
    {
     "name": "stdout",
     "output_type": "stream",
     "text": [
      "0.6505505026328386\n"
     ]
    }
   ],
   "source": [
    "# Divide Num of Ratings by Num of Movies to Find RATINGS PER MOVIE for the Genre\n",
    "ratings_per_movie = num_ratings_for_genre / num_movies_in_genre \n",
    "thriller_ratings_per_movie = ratings_per_movie\n",
    "print(ratings_per_movie)"
   ]
  },
  {
   "cell_type": "markdown",
   "metadata": {},
   "source": [
    "### War"
   ]
  },
  {
   "cell_type": "code",
   "execution_count": 55,
   "metadata": {},
   "outputs": [
    {
     "name": "stdout",
     "output_type": "stream",
     "text": [
      "1194\n"
     ]
    }
   ],
   "source": [
    "# Find Movies from Action Genre\n",
    "replacement_value = 'War'\n",
    "movie_list = []\n",
    "for x in range(0, len(movie_id_and_genre)):\n",
    "    if replacement_value in movie_id_and_genre['genres'][x]:\n",
    "        movie_list.append(movie_id_and_genre['movieId'][x])\n",
    "num_movies_in_genre = len(movie_list)\n",
    "print(num_movies_in_genre)"
   ]
  },
  {
   "cell_type": "code",
   "execution_count": 56,
   "metadata": {},
   "outputs": [
    {
     "name": "stdout",
     "output_type": "stream",
     "text": [
      "598\n"
     ]
    }
   ],
   "source": [
    "# Find Num of Ratings for a Genre\n",
    "replacement_value = 'War'\n",
    "movie_list = []\n",
    "for x in range(0, len(rating_user_genre_timestamp)):\n",
    "    if replacement_value in rating_user_genre_timestamp['movie_genre'][x]:\n",
    "        movie_list.append(rating_user_genre_timestamp['movieId'][x])\n",
    "num_ratings_for_genre = len(movie_list)\n",
    "print(num_ratings_for_genre)"
   ]
  },
  {
   "cell_type": "code",
   "execution_count": 57,
   "metadata": {},
   "outputs": [
    {
     "name": "stdout",
     "output_type": "stream",
     "text": [
      "0.5008375209380235\n"
     ]
    }
   ],
   "source": [
    "# Divide Num of Ratings by Num of Movies to Find RATINGS PER MOVIE for the Genre\n",
    "ratings_per_movie = num_ratings_for_genre / num_movies_in_genre\n",
    "war_ratings_per_movie = ratings_per_movie\n",
    "print(ratings_per_movie)"
   ]
  },
  {
   "cell_type": "markdown",
   "metadata": {},
   "source": [
    "### Western"
   ]
  },
  {
   "cell_type": "code",
   "execution_count": 58,
   "metadata": {},
   "outputs": [
    {
     "name": "stdout",
     "output_type": "stream",
     "text": [
      "676\n"
     ]
    }
   ],
   "source": [
    "# Find Movies from Action Genre\n",
    "replacement_value = 'Western'\n",
    "movie_list = []\n",
    "for x in range(0, len(movie_id_and_genre)):\n",
    "    if replacement_value in movie_id_and_genre['genres'][x]:\n",
    "        movie_list.append(movie_id_and_genre['movieId'][x])\n",
    "num_movies_in_genre = len(movie_list)\n",
    "print(num_movies_in_genre)"
   ]
  },
  {
   "cell_type": "code",
   "execution_count": 59,
   "metadata": {},
   "outputs": [
    {
     "name": "stdout",
     "output_type": "stream",
     "text": [
      "244\n"
     ]
    }
   ],
   "source": [
    "# Find Num of Ratings for a Genre\n",
    "replacement_value = 'Western'\n",
    "movie_list = []\n",
    "for x in range(0, len(rating_user_genre_timestamp)):\n",
    "    if replacement_value in rating_user_genre_timestamp['movie_genre'][x]:\n",
    "        movie_list.append(rating_user_genre_timestamp['movieId'][x])\n",
    "num_ratings_for_genre = len(movie_list)\n",
    "print(num_ratings_for_genre)"
   ]
  },
  {
   "cell_type": "code",
   "execution_count": 60,
   "metadata": {},
   "outputs": [
    {
     "name": "stdout",
     "output_type": "stream",
     "text": [
      "0.3609467455621302\n"
     ]
    }
   ],
   "source": [
    "# Divide Num of Ratings by Num of Movies to Find RATINGS PER MOVIE for the Genre\n",
    "ratings_per_movie = num_ratings_for_genre / num_movies_in_genre \n",
    "western_ratings_per_movie = ratings_per_movie\n",
    "print(ratings_per_movie)"
   ]
  },
  {
   "cell_type": "markdown",
   "metadata": {},
   "source": [
    "### No Genres Listed"
   ]
  },
  {
   "cell_type": "code",
   "execution_count": 61,
   "metadata": {},
   "outputs": [
    {
     "name": "stdout",
     "output_type": "stream",
     "text": [
      "246\n"
     ]
    }
   ],
   "source": [
    "# Find Movies from Action Genre\n",
    "replacement_value = 'no genres'\n",
    "movie_list = []\n",
    "for x in range(0, len(movie_id_and_genre)):\n",
    "    if replacement_value in movie_id_and_genre['genres'][x]:\n",
    "        movie_list.append(movie_id_and_genre['movieId'][x])\n",
    "num_movies_in_genre = len(movie_list)\n",
    "print(num_movies_in_genre)"
   ]
  },
  {
   "cell_type": "code",
   "execution_count": 62,
   "metadata": {},
   "outputs": [
    {
     "name": "stdout",
     "output_type": "stream",
     "text": [
      "0\n"
     ]
    }
   ],
   "source": [
    "# Find Num of Ratings for a Genre\n",
    "replacement_value = 'no genres'\n",
    "movie_list = []\n",
    "for x in range(0, len(rating_user_genre_timestamp)):\n",
    "    if replacement_value in rating_user_genre_timestamp['movie_genre'][x]:\n",
    "        movie_list.append(rating_user_genre_timestamp['movieId'][x])\n",
    "num_ratings_for_genre = len(movie_list)\n",
    "print(num_ratings_for_genre)"
   ]
  },
  {
   "cell_type": "code",
   "execution_count": 63,
   "metadata": {},
   "outputs": [
    {
     "name": "stdout",
     "output_type": "stream",
     "text": [
      "0.0\n"
     ]
    }
   ],
   "source": [
    "# Divide Num of Ratings by Num of Movies to Find RATINGS PER MOVIE for the Genre\n",
    "ratings_per_movie = num_ratings_for_genre / num_movies_in_genre \n",
    "no_genres_ratings_per_movie = ratings_per_movie\n",
    "print(ratings_per_movie)"
   ]
  },
  {
   "cell_type": "markdown",
   "metadata": {},
   "source": [
    "## Ratings per Genre Results"
   ]
  },
  {
   "cell_type": "code",
   "execution_count": 64,
   "metadata": {},
   "outputs": [
    {
     "name": "stdout",
     "output_type": "stream",
     "text": [
      "['Action', 'Adventure', 'Animation', 'Children', 'Comedy', 'Crime', 'Documentary', 'Drama', 'Fantasy', 'Film-Noir', 'Horror', 'Musical', 'Mystery', 'Romance', 'Sci-Fi', 'Thriller', 'War', 'Western', 'No Genres Listed']\n",
      "[0.8394886363636364, 0.9948475740661228, 0.5131450827653359, 0.7058823529411765, 0.4449486505851445, 0.5348758080979925, 0.03804127883447997, 0.3280875299760192, 0.7839943342776204, 0.23939393939393938, 0.29222520107238603, 0.3301158301158301, 0.46433289299867897, 0.46595590016961475, 0.9747561675272519, 0.6505505026328386, 0.5008375209380235, 0.3609467455621302, 0.0]\n"
     ]
    }
   ],
   "source": [
    "genre_names = ['Action', 'Adventure', 'Animation',\n",
    "              'Children', 'Comedy', 'Crime', 'Documentary',\n",
    "              'Drama', 'Fantasy', 'Film-Noir', 'Horror',\n",
    "              'Musical', 'Mystery', 'Romance', 'Sci-Fi',\n",
    "              'Thriller', 'War', 'Western', 'No Genres Listed']\n",
    "genre_values = [action_ratings_per_movie, adventure_ratings_per_movie,\n",
    "               animation_ratings_per_movie, children_ratings_per_movie,\n",
    "               comedy_ratings_per_movie, crime_ratings_per_movie,\n",
    "               documentary_ratings_per_movie, drama_ratings_per_movie,\n",
    "               fantasy_ratings_per_movie, noir_ratings_per_movie,\n",
    "               horror_ratings_per_movie, musical_ratings_per_movie,\n",
    "               mystery_ratings_per_movie, romance_ratings_per_movie,\n",
    "               sci_ratings_per_movie, thriller_ratings_per_movie,\n",
    "               war_ratings_per_movie, western_ratings_per_movie,\n",
    "               no_genres_ratings_per_movie]\n",
    "print(genre_names)\n",
    "print(genre_values)"
   ]
  },
  {
   "cell_type": "code",
   "execution_count": 65,
   "metadata": {},
   "outputs": [
    {
     "data": {
      "image/png": "[encoded data removed]",
      "text/plain": [
       "<matplotlib.figure.Figure at 0x7f42c29639b0>"
      ]
     },
     "metadata": {},
     "output_type": "display_data"
    }
   ],
   "source": [
    "import pylab as pl\n",
    "%matplotlib inline\n",
    "plt.style.use('ggplot')\n",
    "\n",
    "x_pos = [i for i, _ in enumerate(genre_names)]\n",
    "\n",
    "fig, ax = plt.subplots()\n",
    "ax.set_facecolor('xkcd:white')\n",
    "\n",
    "plt.bar(x_pos, genre_values, color='lightblue')\n",
    "plt.xlabel(\"Genre\")\n",
    "plt.ylabel(\"Reviews per Movie\")\n",
    "plt.title(\"Reviews per Movie vs Genre\")\n",
    "\n",
    "plt.xticks(x_pos, genre_names)\n",
    "plt.xticks(rotation=90)\n",
    "plt.tight_layout()\n",
    "plt.savefig('Images/Reviews_per_Movie_vs_Genre')\n",
    "plt.show()"
   ]
  },
  {
   "cell_type": "code",
   "execution_count": 66,
   "metadata": {},
   "outputs": [
    {
     "name": "stdout",
     "output_type": "stream",
     "text": [
      "['Adventure', 'Sci-Fi', 'Action', 'Fantasy', 'Children', 'Thriller', 'Crime', 'Animation', 'War', 'Romance', 'Mystery', 'Comedy', 'Western', 'Musical', 'Drama', 'Horror', 'Film-Noir', 'Documentary', 'No Genres Listed']\n",
      "[0.9948475740661228, 0.9747561675272519, 0.8394886363636364, 0.7839943342776204, 0.7058823529411765, 0.6505505026328386, 0.5348758080979925, 0.5131450827653359, 0.5008375209380235, 0.46595590016961475, 0.46433289299867897, 0.4449486505851445, 0.3609467455621302, 0.3301158301158301, 0.3280875299760192, 0.29222520107238603, 0.23939393939393938, 0.03804127883447997, 0.0]\n"
     ]
    }
   ],
   "source": [
    "genre_names = ['Adventure', 'Sci-Fi', 'Action',\n",
    "              'Fantasy', 'Children', 'Thriller', 'Crime',\n",
    "              'Animation', 'War', 'Romance', 'Mystery',\n",
    "              'Comedy', 'Western', 'Musical', 'Drama',\n",
    "              'Horror', 'Film-Noir', 'Documentary', 'No Genres Listed']\n",
    "genre_values = [adventure_ratings_per_movie, sci_ratings_per_movie,\n",
    "               action_ratings_per_movie, fantasy_ratings_per_movie,\n",
    "               children_ratings_per_movie, thriller_ratings_per_movie,\n",
    "               crime_ratings_per_movie, animation_ratings_per_movie,\n",
    "               war_ratings_per_movie, romance_ratings_per_movie,\n",
    "               mystery_ratings_per_movie, comedy_ratings_per_movie,\n",
    "               western_ratings_per_movie, musical_ratings_per_movie,\n",
    "               drama_ratings_per_movie, horror_ratings_per_movie,\n",
    "               noir_ratings_per_movie, documentary_ratings_per_movie,\n",
    "               no_genres_ratings_per_movie]\n",
    "print(genre_names)\n",
    "print(genre_values)"
   ]
  },
  {
   "cell_type": "code",
   "execution_count": 67,
   "metadata": {},
   "outputs": [
    {
     "data": {
      "image/png": "[encoded data removed]",
      "text/plain": [
       "<matplotlib.figure.Figure at 0x7f428f716dd8>"
      ]
     },
     "metadata": {},
     "output_type": "display_data"
    }
   ],
   "source": [
    "import pylab as pl\n",
    "%matplotlib inline\n",
    "plt.style.use('ggplot')\n",
    "\n",
    "x_pos = [i for i, _ in enumerate(genre_names)]\n",
    "\n",
    "fig, ax = plt.subplots()\n",
    "ax.set_facecolor('xkcd:white')\n",
    "\n",
    "plt.bar(x_pos, genre_values, color='yellowgreen')\n",
    "plt.xlabel(\"Genre\")\n",
    "plt.ylabel(\"Reviews per Movie\")\n",
    "plt.title(\"Reviews per Movie vs Genre\")\n",
    "\n",
    "plt.xticks(x_pos, genre_names)\n",
    "plt.xticks(rotation=90)\n",
    "plt.tight_layout()\n",
    "plt.savefig('Images/Reviews_per_Movie_vs_Genre_Ordered')\n",
    "plt.show()"
   ]
  }
 ],
 "metadata": {
  "kernelspec": {
   "display_name": "Python 3",
   "language": "python",
   "name": "python3"
  },
  "language_info": {
   "codemirror_mode": {
    "name": "ipython",
    "version": 3
   },
   "file_extension": ".py",
   "mimetype": "text/x-python",
   "name": "python",
   "nbconvert_exporter": "python",
   "pygments_lexer": "ipython3",
   "version": "3.6.5"
  }
 },
 "nbformat": 4,
 "nbformat_minor": 2
}
