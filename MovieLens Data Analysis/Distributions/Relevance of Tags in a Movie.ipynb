{
 "cells": [
  {
   "cell_type": "code",
   "execution_count": 1,
   "metadata": {},
   "outputs": [],
   "source": [
    "# Import Necessary Items\n",
    "import pandas as pd\n",
    "import numpy as np\n",
    "import matplotlib.pyplot as plt\n",
    "from matplotlib import colors\n",
    "from matplotlib.ticker import FuncFormatter"
   ]
  },
  {
   "cell_type": "code",
   "execution_count": 2,
   "metadata": {},
   "outputs": [
    {
     "data": {
      "text/html": [
       "<div>\n",
       "<style scoped>\n",
       "    .dataframe tbody tr th:only-of-type {\n",
       "        vertical-align: middle;\n",
       "    }\n",
       "\n",
       "    .dataframe tbody tr th {\n",
       "        vertical-align: top;\n",
       "    }\n",
       "\n",
       "    .dataframe thead th {\n",
       "        text-align: right;\n",
       "    }\n",
       "</style>\n",
       "<table border=\"1\" class=\"dataframe\">\n",
       "  <thead>\n",
       "    <tr style=\"text-align: right;\">\n",
       "      <th></th>\n",
       "      <th>movieId</th>\n",
       "      <th>tagId</th>\n",
       "      <th>relevance</th>\n",
       "    </tr>\n",
       "  </thead>\n",
       "  <tbody>\n",
       "    <tr>\n",
       "      <th>0</th>\n",
       "      <td>1</td>\n",
       "      <td>1</td>\n",
       "      <td>0.02500</td>\n",
       "    </tr>\n",
       "    <tr>\n",
       "      <th>1</th>\n",
       "      <td>1</td>\n",
       "      <td>2</td>\n",
       "      <td>0.02500</td>\n",
       "    </tr>\n",
       "    <tr>\n",
       "      <th>2</th>\n",
       "      <td>1</td>\n",
       "      <td>3</td>\n",
       "      <td>0.05775</td>\n",
       "    </tr>\n",
       "    <tr>\n",
       "      <th>3</th>\n",
       "      <td>1</td>\n",
       "      <td>4</td>\n",
       "      <td>0.09675</td>\n",
       "    </tr>\n",
       "    <tr>\n",
       "      <th>4</th>\n",
       "      <td>1</td>\n",
       "      <td>5</td>\n",
       "      <td>0.14675</td>\n",
       "    </tr>\n",
       "  </tbody>\n",
       "</table>\n",
       "</div>"
      ],
      "text/plain": [
       "   movieId  tagId  relevance\n",
       "0        1      1    0.02500\n",
       "1        1      2    0.02500\n",
       "2        1      3    0.05775\n",
       "3        1      4    0.09675\n",
       "4        1      5    0.14675"
      ]
     },
     "execution_count": 2,
     "metadata": {},
     "output_type": "execute_result"
    }
   ],
   "source": [
    "# Put tag relavence in a dataframe\n",
    "tag_relavence = pd.read_csv('genome-scores.csv', header = 0, delimiter=',')\n",
    "tag_relavence.head()"
   ]
  },
  {
   "cell_type": "code",
   "execution_count": 3,
   "metadata": {},
   "outputs": [
    {
     "name": "stdout",
     "output_type": "stream",
     "text": [
      "11709768\n"
     ]
    }
   ],
   "source": [
    "# Print the number of tags\n",
    "print(len(tag_relavence))"
   ]
  },
  {
   "cell_type": "code",
   "execution_count": 4,
   "metadata": {},
   "outputs": [
    {
     "name": "stdout",
     "output_type": "stream",
     "text": [
      "131170\n"
     ]
    }
   ],
   "source": [
    "# Print the number of movies\n",
    "print(tag_relavence['movieId'][11709767])"
   ]
  },
  {
   "cell_type": "code",
   "execution_count": 5,
   "metadata": {},
   "outputs": [
    {
     "name": "stdout",
     "output_type": "stream",
     "text": [
      "starting\n",
      "100 / 131,170\n",
      "1,000 / 131,170\n",
      "10,000 / 131,170\n",
      "50,000 / 131,170\n",
      "100,000 / 131,170\n"
     ]
    }
   ],
   "source": [
    "# Create a list of relavence values for each movie\n",
    "relevance_list_of_lists = []\n",
    "for k in range(1, 131171):\n",
    "    empty_list = []\n",
    "    relevance_list_of_lists.append(empty_list)\n",
    "for x in range(1, 131171):\n",
    "    temp_list = []\n",
    "    temp_var = tag_relavence['relevance'][x]\n",
    "    relevance_list_of_lists[x-1].append(temp_var)\n",
    "    if x == 1:\n",
    "        print('starting')\n",
    "    elif x == 100:\n",
    "        print('100 / 131,170')\n",
    "    elif x == 1000:\n",
    "        print('1,000 / 131,170')\n",
    "    elif x == 10000:\n",
    "        print('10,000 / 131,170')\n",
    "    elif x == 50000:\n",
    "        print('50,000 / 131,170')\n",
    "    elif x == 100000:\n",
    "        print('100,000 / 131,170')"
   ]
  },
  {
   "cell_type": "code",
   "execution_count": 6,
   "metadata": {},
   "outputs": [],
   "source": [
    "# Find the average relavence value for each movie\n",
    "relevance_lol = []\n",
    "for x in range(0, len(relevance_list_of_lists)):\n",
    "    temp_var = sum(relevance_list_of_lists[x]) / len(relevance_list_of_lists[x])\n",
    "    relevance_lol.append(temp_var)"
   ]
  },
  {
   "cell_type": "code",
   "execution_count": 7,
   "metadata": {},
   "outputs": [],
   "source": [
    "# Start creating a histogram\n",
    "hist, bin_edges = np.histogram(relevance_lol, bins = 500)"
   ]
  },
  {
   "cell_type": "code",
   "execution_count": 8,
   "metadata": {},
   "outputs": [
    {
     "data": {
      "image/png": "[encoded data removed]",
      "text/plain": [
       "<Figure size 432x288 with 1 Axes>"
      ]
     },
     "metadata": {},
     "output_type": "display_data"
    },
    {
     "data": {
      "text/plain": [
       "<Figure size 432x288 with 0 Axes>"
      ]
     },
     "metadata": {},
     "output_type": "display_data"
    }
   ],
   "source": [
    "# Plot the histogram\n",
    "import matplotlib.pyplot as plt\n",
    "fig, ax = plt.subplots()\n",
    "ax.set_facecolor('xkcd:white')\n",
    "plt.bar(bin_edges[:-1], hist, width = 1, facecolor = 'darkolivegreen')\n",
    "plt.xlim(min(bin_edges), max(bin_edges))\n",
    "plt.ylim(0, 4000)\n",
    "plt.title('Tag Relevance Distribution for Movies')\n",
    "plt.xlabel('Average Relevance for a Movie')\n",
    "plt.ylabel('Number of Occurances')\n",
    "plt.tight_layout()\n",
    "plt.savefig('Images/Relevance_Tags_of_Movies')\n",
    "plt.show()\n",
    "fig = plt.figure()\n",
    "fig.patch.set_facecolor('white')"
   ]
  }
 ],
 "metadata": {
  "kernelspec": {
   "display_name": "Python 3",
   "language": "python",
   "name": "python3"
  },
  "language_info": {
   "codemirror_mode": {
    "name": "ipython",
    "version": 3
   },
   "file_extension": ".py",
   "mimetype": "text/x-python",
   "name": "python",
   "nbconvert_exporter": "python",
   "pygments_lexer": "ipython3",
   "version": "3.6.5"
  }
 },
 "nbformat": 4,
 "nbformat_minor": 2
}
